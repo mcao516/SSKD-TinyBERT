{
 "cells": [
  {
   "cell_type": "code",
   "execution_count": 1,
   "id": "elect-preliminary",
   "metadata": {},
   "outputs": [],
   "source": [
    "import json\n",
    "import numpy as np\n",
    "import torch\n",
    "import torch.nn.functional as F\n",
    "\n",
    "from tqdm import tqdm\n",
    "from torch.utils.data import (DataLoader, RandomSampler, SequentialSampler,\n",
    "                              TensorDataset)\n",
    "from transformer.tokenization import BertTokenizer\n",
    "from transformer.modeling import TinyBertForSequenceClassification"
   ]
  },
  {
   "cell_type": "code",
   "execution_count": 2,
   "id": "micro-permit",
   "metadata": {},
   "outputs": [],
   "source": [
    "from task_distill import (\n",
    "    ColaProcessor,\n",
    "    MnliProcessor,\n",
    "    MnliMismatchedProcessor,\n",
    "    MrpcProcessor,\n",
    "    Sst2Processor,\n",
    "    StsbProcessor,\n",
    "    QqpProcessor,\n",
    "    QnliProcessor,\n",
    "    RteProcessor,\n",
    "    WnliProcessor,\n",
    ")\n",
    "from task_distill import convert_examples_to_features, get_tensor_data"
   ]
  },
  {
   "cell_type": "code",
   "execution_count": 3,
   "id": "acting-blowing",
   "metadata": {},
   "outputs": [],
   "source": [
    "processors = {\n",
    "    \"cola\": ColaProcessor,\n",
    "    \"mnli\": MnliProcessor,\n",
    "    \"mnli-mm\": MnliMismatchedProcessor,\n",
    "    \"mrpc\": MrpcProcessor,\n",
    "    \"sst-2\": Sst2Processor,\n",
    "    \"sts-b\": StsbProcessor,\n",
    "    \"qqp\": QqpProcessor,\n",
    "    \"qnli\": QnliProcessor,\n",
    "    \"rte\": RteProcessor,\n",
    "    \"wnli\": WnliProcessor\n",
    "}"
   ]
  },
  {
   "cell_type": "code",
   "execution_count": 4,
   "id": "manual-productivity",
   "metadata": {},
   "outputs": [],
   "source": [
    "output_modes = {\n",
    "    \"cola\": \"classification\",\n",
    "    \"mnli\": \"classification\",\n",
    "    \"mnli-mm\": \"classification\",\n",
    "    \"mrpc\": \"classification\",\n",
    "    \"sst-2\": \"classification\",\n",
    "    \"sts-b\": \"regression\",\n",
    "    \"qqp\": \"classification\",\n",
    "    \"qnli\": \"classification\",\n",
    "    \"rte\": \"classification\",\n",
    "    \"wnli\": \"classification\"\n",
    "}"
   ]
  },
  {
   "cell_type": "markdown",
   "id": "square-wright",
   "metadata": {},
   "source": [
    "#### Load Dataset"
   ]
  },
  {
   "cell_type": "code",
   "execution_count": 5,
   "id": "cathedral-pencil",
   "metadata": {},
   "outputs": [],
   "source": [
<<<<<<< HEAD
    "task_name = 'qnli'\n",
=======
    "task_name = 'cola'\n",
>>>>>>> origin/clustering
    "processor = processors[task_name]()\n",
    "output_mode = output_modes[task_name]\n",
    "label_list = processor.get_labels()\n",
    "num_labels = len(label_list)\n",
    "teacher_model_path = '/home/mcao610/scratch/huggingface/bert-base-uncased'"
   ]
  },
  {
   "cell_type": "code",
   "execution_count": 6,
   "id": "cleared-battlefield",
   "metadata": {},
   "outputs": [],
   "source": [
    "if task_name == 'cola':\n",
    "    data_dir = '/home/mcao610/scratch/glue_data/CoLA'\n",
    "else:\n",
    "    data_dir = '/home/mcao610/scratch/glue_data/{}'.format(task_name.upper())"
   ]
  },
  {
   "cell_type": "code",
   "execution_count": 7,
   "id": "absent-equilibrium",
   "metadata": {},
   "outputs": [
    {
     "name": "stdout",
     "output_type": "stream",
     "text": [
<<<<<<< HEAD
      "- train examples: 104743\n",
      "- dev examples: 5463\n"
=======
      "- train examples: 8551\n",
      "- dev examples: 1043\n"
>>>>>>> origin/clustering
     ]
    }
   ],
   "source": [
    "examples = []\n",
    "train_examples = processor.get_train_examples(data_dir)\n",
    "dev_examples = processor.get_dev_examples(data_dir)\n",
    "print('- train examples: {}'.format(len(train_examples)))\n",
    "print('- dev examples: {}'.format(len(dev_examples)))\n",
    "examples.extend(train_examples)\n",
    "examples.extend(dev_examples)\n",
    "\n",
    "if task_name == 'mnli':\n",
    "    processor = processors['mnli-mm']()\n",
    "    dev_mismatched_examples = processor.get_dev_examples(data_dir)\n",
    "    print('- dev mismatched examples: {}'.format(len(dev_mismatched_examples)))\n",
    "    examples.extend(dev_mismatched_examples)"
   ]
  },
  {
   "cell_type": "code",
   "execution_count": 8,
   "id": "olympic-wellington",
   "metadata": {},
   "outputs": [
    {
     "data": {
      "text/plain": [
<<<<<<< HEAD
       "110206"
=======
       "9594"
>>>>>>> origin/clustering
      ]
     },
     "execution_count": 8,
     "metadata": {},
     "output_type": "execute_result"
    }
   ],
   "source": [
    "len(examples)"
   ]
  },
  {
   "cell_type": "markdown",
   "id": "551ed294-091f-41a8-9db5-1de433594853",
   "metadata": {},
   "source": [
    "#### Convert Examples to Features"
   ]
  },
  {
   "cell_type": "code",
   "execution_count": 9,
   "id": "379b3f63-84bb-4537-903c-d107a7d9759b",
   "metadata": {},
   "outputs": [],
   "source": [
    "train_guids = []\n",
    "\n",
    "for e in examples:\n",
    "    train_guids.append(e.guid)"
   ]
  },
  {
   "cell_type": "code",
   "execution_count": 10,
   "id": "manual-strip",
   "metadata": {},
   "outputs": [],
   "source": [
    "tokenizer = BertTokenizer.from_pretrained(teacher_model_path, do_lower_case=True)"
   ]
  },
  {
   "cell_type": "code",
   "execution_count": 11,
   "id": "suitable-texture",
   "metadata": {},
   "outputs": [
    {
     "name": "stdout",
     "output_type": "stream",
     "text": [
<<<<<<< HEAD
      "10/28 01:17:02 PM Writing example 0 of 110206\n",
      "10/28 01:17:02 PM *** Example ***\n",
      "10/28 01:17:02 PM guid: train-0\n",
      "10/28 01:17:02 PM tokens: [CLS] when did the third dig ##imo ##n series begin ? [SEP] unlike the two seasons before it and most of the seasons that followed , dig ##imo ##n tame ##rs takes a darker and more realistic approach to its story featuring dig ##imo ##n who do not rein ##car ##nate after their deaths and more complex character development in the original japanese . [SEP]\n",
      "10/28 01:17:02 PM input_ids: 101 2043 2106 1996 2353 10667 16339 2078 2186 4088 1029 102 4406 1996 2048 3692 2077 2009 1998 2087 1997 1996 3692 2008 2628 1010 10667 16339 2078 24763 2869 3138 1037 9904 1998 2062 12689 3921 2000 2049 2466 3794 10667 16339 2078 2040 2079 2025 27788 10010 12556 2044 2037 6677 1998 2062 3375 2839 2458 1999 1996 2434 2887 1012 102 0 0 0 0 0 0 0 0 0 0 0 0 0 0 0 0 0 0 0 0 0 0 0 0 0 0 0 0 0 0 0 0 0 0 0 0 0 0 0 0 0 0 0 0 0 0 0 0 0 0 0 0 0 0 0 0 0 0 0 0 0 0 0\n",
      "10/28 01:17:02 PM input_mask: 1 1 1 1 1 1 1 1 1 1 1 1 1 1 1 1 1 1 1 1 1 1 1 1 1 1 1 1 1 1 1 1 1 1 1 1 1 1 1 1 1 1 1 1 1 1 1 1 1 1 1 1 1 1 1 1 1 1 1 1 1 1 1 1 1 0 0 0 0 0 0 0 0 0 0 0 0 0 0 0 0 0 0 0 0 0 0 0 0 0 0 0 0 0 0 0 0 0 0 0 0 0 0 0 0 0 0 0 0 0 0 0 0 0 0 0 0 0 0 0 0 0 0 0 0 0 0 0\n",
      "10/28 01:17:02 PM segment_ids: 0 0 0 0 0 0 0 0 0 0 0 0 1 1 1 1 1 1 1 1 1 1 1 1 1 1 1 1 1 1 1 1 1 1 1 1 1 1 1 1 1 1 1 1 1 1 1 1 1 1 1 1 1 1 1 1 1 1 1 1 1 1 1 1 1 0 0 0 0 0 0 0 0 0 0 0 0 0 0 0 0 0 0 0 0 0 0 0 0 0 0 0 0 0 0 0 0 0 0 0 0 0 0 0 0 0 0 0 0 0 0 0 0 0 0 0 0 0 0 0 0 0 0 0 0 0 0 0\n",
      "10/28 01:17:02 PM label: not_entailment\n",
      "10/28 01:17:02 PM label_id: 1\n",
      "10/28 01:17:07 PM Writing example 10000 of 110206\n",
      "10/28 01:17:18 PM Writing example 20000 of 110206\n",
      "10/28 01:17:24 PM Writing example 30000 of 110206\n",
      "10/28 01:17:30 PM Writing example 40000 of 110206\n",
      "10/28 01:17:36 PM Writing example 50000 of 110206\n",
      "10/28 01:17:42 PM Writing example 60000 of 110206\n",
      "10/28 01:17:47 PM Writing example 70000 of 110206\n",
      "10/28 01:17:53 PM Writing example 80000 of 110206\n",
      "10/28 01:17:59 PM Writing example 90000 of 110206\n",
      "10/28 01:18:05 PM Writing example 100000 of 110206\n",
      "10/28 01:18:11 PM Writing example 110000 of 110206\n"
=======
      "11/02 11:42:50 PM Writing example 0 of 9594\n",
      "11/02 11:42:50 PM *** Example ***\n",
      "11/02 11:42:50 PM guid: train-0\n",
      "11/02 11:42:50 PM tokens: [CLS] our friends won ' t buy this analysis , let alone the next one we propose . [SEP]\n",
      "11/02 11:42:50 PM input_ids: 101 2256 2814 2180 1005 1056 4965 2023 4106 1010 2292 2894 1996 2279 2028 2057 16599 1012 102 0 0 0 0 0 0 0 0 0 0 0 0 0 0 0 0 0 0 0 0 0 0 0 0 0 0 0 0 0 0 0 0 0 0 0 0 0 0 0 0 0 0 0 0 0 0 0 0 0 0 0 0 0 0 0 0 0 0 0 0 0 0 0 0 0 0 0 0 0 0 0 0 0 0 0 0 0 0 0 0 0 0 0 0 0 0 0 0 0 0 0 0 0 0 0 0 0 0 0 0 0 0 0 0 0 0 0 0 0\n",
      "11/02 11:42:50 PM input_mask: 1 1 1 1 1 1 1 1 1 1 1 1 1 1 1 1 1 1 1 0 0 0 0 0 0 0 0 0 0 0 0 0 0 0 0 0 0 0 0 0 0 0 0 0 0 0 0 0 0 0 0 0 0 0 0 0 0 0 0 0 0 0 0 0 0 0 0 0 0 0 0 0 0 0 0 0 0 0 0 0 0 0 0 0 0 0 0 0 0 0 0 0 0 0 0 0 0 0 0 0 0 0 0 0 0 0 0 0 0 0 0 0 0 0 0 0 0 0 0 0 0 0 0 0 0 0 0 0\n",
      "11/02 11:42:50 PM segment_ids: 0 0 0 0 0 0 0 0 0 0 0 0 0 0 0 0 0 0 0 0 0 0 0 0 0 0 0 0 0 0 0 0 0 0 0 0 0 0 0 0 0 0 0 0 0 0 0 0 0 0 0 0 0 0 0 0 0 0 0 0 0 0 0 0 0 0 0 0 0 0 0 0 0 0 0 0 0 0 0 0 0 0 0 0 0 0 0 0 0 0 0 0 0 0 0 0 0 0 0 0 0 0 0 0 0 0 0 0 0 0 0 0 0 0 0 0 0 0 0 0 0 0 0 0 0 0 0 0\n",
      "11/02 11:42:50 PM label: 1\n",
      "11/02 11:42:50 PM label_id: 1\n"
>>>>>>> origin/clustering
     ]
    }
   ],
   "source": [
    "max_seq_length = 128\n",
    "train_features = convert_examples_to_features(examples, label_list, max_seq_length, tokenizer, output_mode)"
   ]
  },
  {
   "cell_type": "code",
   "execution_count": 12,
   "id": "operating-vietnamese",
   "metadata": {},
   "outputs": [
    {
     "name": "stdout",
     "output_type": "stream",
     "text": [
<<<<<<< HEAD
      "110206\n",
      "<task_distill.InputFeatures object at 0x2ba930fb5710>\n"
=======
      "9594\n",
      "<task_distill.InputFeatures object at 0x147368b36a50>\n"
>>>>>>> origin/clustering
     ]
    }
   ],
   "source": [
    "print(len(train_features))\n",
    "print(train_features[0])"
   ]
  },
  {
   "cell_type": "code",
   "execution_count": 13,
   "id": "overall-quantum",
   "metadata": {},
   "outputs": [],
   "source": [
    "train_data, all_label_ids = get_tensor_data(output_mode, train_features)"
   ]
  },
  {
   "cell_type": "code",
   "execution_count": 14,
   "id": "following-least",
   "metadata": {},
   "outputs": [
    {
     "data": {
      "text/plain": [
       "torch.utils.data.dataset.TensorDataset"
      ]
     },
     "execution_count": 14,
     "metadata": {},
     "output_type": "execute_result"
    }
   ],
   "source": [
    "type(train_data)"
   ]
  },
  {
   "cell_type": "code",
   "execution_count": 15,
   "id": "pursuant-russian",
   "metadata": {},
   "outputs": [
    {
     "data": {
      "text/plain": [
<<<<<<< HEAD
       "torch.Size([110206, 128])"
=======
       "torch.Size([9594, 128])"
>>>>>>> origin/clustering
      ]
     },
     "execution_count": 15,
     "metadata": {},
     "output_type": "execute_result"
    }
   ],
   "source": [
    "train_data.tensors[0].shape"
   ]
  },
  {
   "cell_type": "code",
   "execution_count": 16,
   "id": "34099907-8522-44cf-8c97-dd959b3e45b1",
   "metadata": {},
   "outputs": [
    {
     "name": "stdout",
     "output_type": "stream",
     "text": [
<<<<<<< HEAD
      "torch.Size([110206])\n",
      "tensor([1, 1, 0, 0, 1, 0, 0, 1, 0, 0])\n"
=======
      "torch.Size([9594])\n",
      "tensor([1, 1, 1, 1, 1, 1, 1, 1, 1, 1])\n"
>>>>>>> origin/clustering
     ]
    }
   ],
   "source": [
    "print(all_label_ids.shape)\n",
    "print(all_label_ids[:10])"
   ]
  },
  {
   "cell_type": "code",
   "execution_count": 17,
   "id": "indie-lottery",
   "metadata": {},
   "outputs": [],
   "source": [
    "train_dataloader = DataLoader(train_data, sampler=SequentialSampler(train_data), batch_size=32)"
   ]
  },
  {
   "cell_type": "markdown",
   "id": "alpha-airfare",
   "metadata": {},
   "source": [
    "#### Load Teacher Model"
   ]
  },
  {
   "cell_type": "code",
   "execution_count": 18,
   "id": "unsigned-candidate",
   "metadata": {},
   "outputs": [
    {
     "name": "stdout",
     "output_type": "stream",
     "text": [
<<<<<<< HEAD
      "10/28 01:19:09 PM Model config {\n",
=======
      "11/02 11:42:55 PM Model config {\n",
>>>>>>> origin/clustering
      "  \"architectures\": [\n",
      "    \"BertForMaskedLM\"\n",
      "  ],\n",
      "  \"attention_probs_dropout_prob\": 0.1,\n",
      "  \"gradient_checkpointing\": false,\n",
      "  \"hidden_act\": \"gelu\",\n",
      "  \"hidden_dropout_prob\": 0.1,\n",
      "  \"hidden_size\": 768,\n",
      "  \"initializer_range\": 0.02,\n",
      "  \"intermediate_size\": 3072,\n",
      "  \"layer_norm_eps\": 1e-12,\n",
      "  \"max_position_embeddings\": 512,\n",
      "  \"model_type\": \"bert\",\n",
      "  \"num_attention_heads\": 12,\n",
      "  \"num_hidden_layers\": 12,\n",
      "  \"pad_token_id\": 0,\n",
      "  \"position_embedding_type\": \"absolute\",\n",
      "  \"pre_trained\": \"\",\n",
      "  \"training\": \"\",\n",
      "  \"transformers_version\": \"4.6.0.dev0\",\n",
      "  \"type_vocab_size\": 2,\n",
      "  \"use_cache\": true,\n",
      "  \"vocab_size\": 30522\n",
      "}\n",
      "\n",
<<<<<<< HEAD
      "10/28 01:19:11 PM Loading model /home/mcao610/scratch/huggingface/bert-base-uncased/pytorch_model.bin\n",
      "10/28 01:19:13 PM loading model...\n",
      "10/28 01:19:14 PM done!\n",
      "10/28 01:19:14 PM Weights of TinyBertForSequenceClassification not initialized from pretrained model: ['classifier.weight', 'classifier.bias', 'fit_dense.weight', 'fit_dense.bias']\n",
      "10/28 01:19:14 PM Weights from pretrained model not used in TinyBertForSequenceClassification: ['cls.predictions.bias', 'cls.predictions.transform.dense.weight', 'cls.predictions.transform.dense.bias', 'cls.predictions.decoder.weight', 'cls.seq_relationship.weight', 'cls.seq_relationship.bias', 'cls.predictions.transform.LayerNorm.weight', 'cls.predictions.transform.LayerNorm.bias']\n"
=======
      "11/02 11:42:56 PM Loading model /home/mcao610/scratch/huggingface/bert-base-uncased/pytorch_model.bin\n",
      "11/02 11:42:57 PM loading model...\n",
      "11/02 11:42:57 PM done!\n",
      "11/02 11:42:57 PM Weights of TinyBertForSequenceClassification not initialized from pretrained model: ['classifier.weight', 'classifier.bias', 'fit_dense.weight', 'fit_dense.bias']\n",
      "11/02 11:42:57 PM Weights from pretrained model not used in TinyBertForSequenceClassification: ['cls.predictions.bias', 'cls.predictions.transform.dense.weight', 'cls.predictions.transform.dense.bias', 'cls.predictions.decoder.weight', 'cls.seq_relationship.weight', 'cls.seq_relationship.bias', 'cls.predictions.transform.LayerNorm.weight', 'cls.predictions.transform.LayerNorm.bias']\n"
>>>>>>> origin/clustering
     ]
    },
    {
     "data": {
      "text/plain": [
       "TinyBertForSequenceClassification(\n",
       "  (bert): BertModel(\n",
       "    (embeddings): BertEmbeddings(\n",
       "      (word_embeddings): Embedding(30522, 768, padding_idx=0)\n",
       "      (position_embeddings): Embedding(512, 768)\n",
       "      (token_type_embeddings): Embedding(2, 768)\n",
       "      (LayerNorm): LayerNorm((768,), eps=1e-12, elementwise_affine=True)\n",
       "      (dropout): Dropout(p=0.1, inplace=False)\n",
       "    )\n",
       "    (encoder): BertEncoder(\n",
       "      (layer): ModuleList(\n",
       "        (0): BertLayer(\n",
       "          (attention): BertAttention(\n",
       "            (self): BertSelfAttention(\n",
       "              (query): Linear(in_features=768, out_features=768, bias=True)\n",
       "              (key): Linear(in_features=768, out_features=768, bias=True)\n",
       "              (value): Linear(in_features=768, out_features=768, bias=True)\n",
       "              (dropout): Dropout(p=0.1, inplace=False)\n",
       "            )\n",
       "            (output): BertSelfOutput(\n",
       "              (dense): Linear(in_features=768, out_features=768, bias=True)\n",
       "              (LayerNorm): LayerNorm((768,), eps=1e-12, elementwise_affine=True)\n",
       "              (dropout): Dropout(p=0.1, inplace=False)\n",
       "            )\n",
       "          )\n",
       "          (intermediate): BertIntermediate(\n",
       "            (dense): Linear(in_features=768, out_features=3072, bias=True)\n",
       "          )\n",
       "          (output): BertOutput(\n",
       "            (dense): Linear(in_features=3072, out_features=768, bias=True)\n",
       "            (LayerNorm): LayerNorm((768,), eps=1e-12, elementwise_affine=True)\n",
       "            (dropout): Dropout(p=0.1, inplace=False)\n",
       "          )\n",
       "        )\n",
       "        (1): BertLayer(\n",
       "          (attention): BertAttention(\n",
       "            (self): BertSelfAttention(\n",
       "              (query): Linear(in_features=768, out_features=768, bias=True)\n",
       "              (key): Linear(in_features=768, out_features=768, bias=True)\n",
       "              (value): Linear(in_features=768, out_features=768, bias=True)\n",
       "              (dropout): Dropout(p=0.1, inplace=False)\n",
       "            )\n",
       "            (output): BertSelfOutput(\n",
       "              (dense): Linear(in_features=768, out_features=768, bias=True)\n",
       "              (LayerNorm): LayerNorm((768,), eps=1e-12, elementwise_affine=True)\n",
       "              (dropout): Dropout(p=0.1, inplace=False)\n",
       "            )\n",
       "          )\n",
       "          (intermediate): BertIntermediate(\n",
       "            (dense): Linear(in_features=768, out_features=3072, bias=True)\n",
       "          )\n",
       "          (output): BertOutput(\n",
       "            (dense): Linear(in_features=3072, out_features=768, bias=True)\n",
       "            (LayerNorm): LayerNorm((768,), eps=1e-12, elementwise_affine=True)\n",
       "            (dropout): Dropout(p=0.1, inplace=False)\n",
       "          )\n",
       "        )\n",
       "        (2): BertLayer(\n",
       "          (attention): BertAttention(\n",
       "            (self): BertSelfAttention(\n",
       "              (query): Linear(in_features=768, out_features=768, bias=True)\n",
       "              (key): Linear(in_features=768, out_features=768, bias=True)\n",
       "              (value): Linear(in_features=768, out_features=768, bias=True)\n",
       "              (dropout): Dropout(p=0.1, inplace=False)\n",
       "            )\n",
       "            (output): BertSelfOutput(\n",
       "              (dense): Linear(in_features=768, out_features=768, bias=True)\n",
       "              (LayerNorm): LayerNorm((768,), eps=1e-12, elementwise_affine=True)\n",
       "              (dropout): Dropout(p=0.1, inplace=False)\n",
       "            )\n",
       "          )\n",
       "          (intermediate): BertIntermediate(\n",
       "            (dense): Linear(in_features=768, out_features=3072, bias=True)\n",
       "          )\n",
       "          (output): BertOutput(\n",
       "            (dense): Linear(in_features=3072, out_features=768, bias=True)\n",
       "            (LayerNorm): LayerNorm((768,), eps=1e-12, elementwise_affine=True)\n",
       "            (dropout): Dropout(p=0.1, inplace=False)\n",
       "          )\n",
       "        )\n",
       "        (3): BertLayer(\n",
       "          (attention): BertAttention(\n",
       "            (self): BertSelfAttention(\n",
       "              (query): Linear(in_features=768, out_features=768, bias=True)\n",
       "              (key): Linear(in_features=768, out_features=768, bias=True)\n",
       "              (value): Linear(in_features=768, out_features=768, bias=True)\n",
       "              (dropout): Dropout(p=0.1, inplace=False)\n",
       "            )\n",
       "            (output): BertSelfOutput(\n",
       "              (dense): Linear(in_features=768, out_features=768, bias=True)\n",
       "              (LayerNorm): LayerNorm((768,), eps=1e-12, elementwise_affine=True)\n",
       "              (dropout): Dropout(p=0.1, inplace=False)\n",
       "            )\n",
       "          )\n",
       "          (intermediate): BertIntermediate(\n",
       "            (dense): Linear(in_features=768, out_features=3072, bias=True)\n",
       "          )\n",
       "          (output): BertOutput(\n",
       "            (dense): Linear(in_features=3072, out_features=768, bias=True)\n",
       "            (LayerNorm): LayerNorm((768,), eps=1e-12, elementwise_affine=True)\n",
       "            (dropout): Dropout(p=0.1, inplace=False)\n",
       "          )\n",
       "        )\n",
       "        (4): BertLayer(\n",
       "          (attention): BertAttention(\n",
       "            (self): BertSelfAttention(\n",
       "              (query): Linear(in_features=768, out_features=768, bias=True)\n",
       "              (key): Linear(in_features=768, out_features=768, bias=True)\n",
       "              (value): Linear(in_features=768, out_features=768, bias=True)\n",
       "              (dropout): Dropout(p=0.1, inplace=False)\n",
       "            )\n",
       "            (output): BertSelfOutput(\n",
       "              (dense): Linear(in_features=768, out_features=768, bias=True)\n",
       "              (LayerNorm): LayerNorm((768,), eps=1e-12, elementwise_affine=True)\n",
       "              (dropout): Dropout(p=0.1, inplace=False)\n",
       "            )\n",
       "          )\n",
       "          (intermediate): BertIntermediate(\n",
       "            (dense): Linear(in_features=768, out_features=3072, bias=True)\n",
       "          )\n",
       "          (output): BertOutput(\n",
       "            (dense): Linear(in_features=3072, out_features=768, bias=True)\n",
       "            (LayerNorm): LayerNorm((768,), eps=1e-12, elementwise_affine=True)\n",
       "            (dropout): Dropout(p=0.1, inplace=False)\n",
       "          )\n",
       "        )\n",
       "        (5): BertLayer(\n",
       "          (attention): BertAttention(\n",
       "            (self): BertSelfAttention(\n",
       "              (query): Linear(in_features=768, out_features=768, bias=True)\n",
       "              (key): Linear(in_features=768, out_features=768, bias=True)\n",
       "              (value): Linear(in_features=768, out_features=768, bias=True)\n",
       "              (dropout): Dropout(p=0.1, inplace=False)\n",
       "            )\n",
       "            (output): BertSelfOutput(\n",
       "              (dense): Linear(in_features=768, out_features=768, bias=True)\n",
       "              (LayerNorm): LayerNorm((768,), eps=1e-12, elementwise_affine=True)\n",
       "              (dropout): Dropout(p=0.1, inplace=False)\n",
       "            )\n",
       "          )\n",
       "          (intermediate): BertIntermediate(\n",
       "            (dense): Linear(in_features=768, out_features=3072, bias=True)\n",
       "          )\n",
       "          (output): BertOutput(\n",
       "            (dense): Linear(in_features=3072, out_features=768, bias=True)\n",
       "            (LayerNorm): LayerNorm((768,), eps=1e-12, elementwise_affine=True)\n",
       "            (dropout): Dropout(p=0.1, inplace=False)\n",
       "          )\n",
       "        )\n",
       "        (6): BertLayer(\n",
       "          (attention): BertAttention(\n",
       "            (self): BertSelfAttention(\n",
       "              (query): Linear(in_features=768, out_features=768, bias=True)\n",
       "              (key): Linear(in_features=768, out_features=768, bias=True)\n",
       "              (value): Linear(in_features=768, out_features=768, bias=True)\n",
       "              (dropout): Dropout(p=0.1, inplace=False)\n",
       "            )\n",
       "            (output): BertSelfOutput(\n",
       "              (dense): Linear(in_features=768, out_features=768, bias=True)\n",
       "              (LayerNorm): LayerNorm((768,), eps=1e-12, elementwise_affine=True)\n",
       "              (dropout): Dropout(p=0.1, inplace=False)\n",
       "            )\n",
       "          )\n",
       "          (intermediate): BertIntermediate(\n",
       "            (dense): Linear(in_features=768, out_features=3072, bias=True)\n",
       "          )\n",
       "          (output): BertOutput(\n",
       "            (dense): Linear(in_features=3072, out_features=768, bias=True)\n",
       "            (LayerNorm): LayerNorm((768,), eps=1e-12, elementwise_affine=True)\n",
       "            (dropout): Dropout(p=0.1, inplace=False)\n",
       "          )\n",
       "        )\n",
       "        (7): BertLayer(\n",
       "          (attention): BertAttention(\n",
       "            (self): BertSelfAttention(\n",
       "              (query): Linear(in_features=768, out_features=768, bias=True)\n",
       "              (key): Linear(in_features=768, out_features=768, bias=True)\n",
       "              (value): Linear(in_features=768, out_features=768, bias=True)\n",
       "              (dropout): Dropout(p=0.1, inplace=False)\n",
       "            )\n",
       "            (output): BertSelfOutput(\n",
       "              (dense): Linear(in_features=768, out_features=768, bias=True)\n",
       "              (LayerNorm): LayerNorm((768,), eps=1e-12, elementwise_affine=True)\n",
       "              (dropout): Dropout(p=0.1, inplace=False)\n",
       "            )\n",
       "          )\n",
       "          (intermediate): BertIntermediate(\n",
       "            (dense): Linear(in_features=768, out_features=3072, bias=True)\n",
       "          )\n",
       "          (output): BertOutput(\n",
       "            (dense): Linear(in_features=3072, out_features=768, bias=True)\n",
       "            (LayerNorm): LayerNorm((768,), eps=1e-12, elementwise_affine=True)\n",
       "            (dropout): Dropout(p=0.1, inplace=False)\n",
       "          )\n",
       "        )\n",
       "        (8): BertLayer(\n",
       "          (attention): BertAttention(\n",
       "            (self): BertSelfAttention(\n",
       "              (query): Linear(in_features=768, out_features=768, bias=True)\n",
       "              (key): Linear(in_features=768, out_features=768, bias=True)\n",
       "              (value): Linear(in_features=768, out_features=768, bias=True)\n",
       "              (dropout): Dropout(p=0.1, inplace=False)\n",
       "            )\n",
       "            (output): BertSelfOutput(\n",
       "              (dense): Linear(in_features=768, out_features=768, bias=True)\n",
       "              (LayerNorm): LayerNorm((768,), eps=1e-12, elementwise_affine=True)\n",
       "              (dropout): Dropout(p=0.1, inplace=False)\n",
       "            )\n",
       "          )\n",
       "          (intermediate): BertIntermediate(\n",
       "            (dense): Linear(in_features=768, out_features=3072, bias=True)\n",
       "          )\n",
       "          (output): BertOutput(\n",
       "            (dense): Linear(in_features=3072, out_features=768, bias=True)\n",
       "            (LayerNorm): LayerNorm((768,), eps=1e-12, elementwise_affine=True)\n",
       "            (dropout): Dropout(p=0.1, inplace=False)\n",
       "          )\n",
       "        )\n",
       "        (9): BertLayer(\n",
       "          (attention): BertAttention(\n",
       "            (self): BertSelfAttention(\n",
       "              (query): Linear(in_features=768, out_features=768, bias=True)\n",
       "              (key): Linear(in_features=768, out_features=768, bias=True)\n",
       "              (value): Linear(in_features=768, out_features=768, bias=True)\n",
       "              (dropout): Dropout(p=0.1, inplace=False)\n",
       "            )\n",
       "            (output): BertSelfOutput(\n",
       "              (dense): Linear(in_features=768, out_features=768, bias=True)\n",
       "              (LayerNorm): LayerNorm((768,), eps=1e-12, elementwise_affine=True)\n",
       "              (dropout): Dropout(p=0.1, inplace=False)\n",
       "            )\n",
       "          )\n",
       "          (intermediate): BertIntermediate(\n",
       "            (dense): Linear(in_features=768, out_features=3072, bias=True)\n",
       "          )\n",
       "          (output): BertOutput(\n",
       "            (dense): Linear(in_features=3072, out_features=768, bias=True)\n",
       "            (LayerNorm): LayerNorm((768,), eps=1e-12, elementwise_affine=True)\n",
       "            (dropout): Dropout(p=0.1, inplace=False)\n",
       "          )\n",
       "        )\n",
       "        (10): BertLayer(\n",
       "          (attention): BertAttention(\n",
       "            (self): BertSelfAttention(\n",
       "              (query): Linear(in_features=768, out_features=768, bias=True)\n",
       "              (key): Linear(in_features=768, out_features=768, bias=True)\n",
       "              (value): Linear(in_features=768, out_features=768, bias=True)\n",
       "              (dropout): Dropout(p=0.1, inplace=False)\n",
       "            )\n",
       "            (output): BertSelfOutput(\n",
       "              (dense): Linear(in_features=768, out_features=768, bias=True)\n",
       "              (LayerNorm): LayerNorm((768,), eps=1e-12, elementwise_affine=True)\n",
       "              (dropout): Dropout(p=0.1, inplace=False)\n",
       "            )\n",
       "          )\n",
       "          (intermediate): BertIntermediate(\n",
       "            (dense): Linear(in_features=768, out_features=3072, bias=True)\n",
       "          )\n",
       "          (output): BertOutput(\n",
       "            (dense): Linear(in_features=3072, out_features=768, bias=True)\n",
       "            (LayerNorm): LayerNorm((768,), eps=1e-12, elementwise_affine=True)\n",
       "            (dropout): Dropout(p=0.1, inplace=False)\n",
       "          )\n",
       "        )\n",
       "        (11): BertLayer(\n",
       "          (attention): BertAttention(\n",
       "            (self): BertSelfAttention(\n",
       "              (query): Linear(in_features=768, out_features=768, bias=True)\n",
       "              (key): Linear(in_features=768, out_features=768, bias=True)\n",
       "              (value): Linear(in_features=768, out_features=768, bias=True)\n",
       "              (dropout): Dropout(p=0.1, inplace=False)\n",
       "            )\n",
       "            (output): BertSelfOutput(\n",
       "              (dense): Linear(in_features=768, out_features=768, bias=True)\n",
       "              (LayerNorm): LayerNorm((768,), eps=1e-12, elementwise_affine=True)\n",
       "              (dropout): Dropout(p=0.1, inplace=False)\n",
       "            )\n",
       "          )\n",
       "          (intermediate): BertIntermediate(\n",
       "            (dense): Linear(in_features=768, out_features=3072, bias=True)\n",
       "          )\n",
       "          (output): BertOutput(\n",
       "            (dense): Linear(in_features=3072, out_features=768, bias=True)\n",
       "            (LayerNorm): LayerNorm((768,), eps=1e-12, elementwise_affine=True)\n",
       "            (dropout): Dropout(p=0.1, inplace=False)\n",
       "          )\n",
       "        )\n",
       "      )\n",
       "    )\n",
       "    (pooler): BertPooler(\n",
       "      (dense): Linear(in_features=768, out_features=768, bias=True)\n",
       "      (activation): Tanh()\n",
       "    )\n",
       "  )\n",
       "  (dropout): Dropout(p=0.1, inplace=False)\n",
       "  (classifier): Linear(in_features=768, out_features=2, bias=True)\n",
       "  (fit_dense): Linear(in_features=768, out_features=768, bias=True)\n",
       ")"
      ]
     },
     "execution_count": 18,
     "metadata": {},
     "output_type": "execute_result"
    }
   ],
   "source": [
    "teacher_model = TinyBertForSequenceClassification.from_pretrained(teacher_model_path, num_labels=num_labels)\n",
    "teacher_model.to('cuda')"
   ]
  },
  {
   "cell_type": "code",
   "execution_count": 19,
   "id": "grave-adrian",
   "metadata": {},
   "outputs": [
    {
     "name": "stderr",
     "output_type": "stream",
     "text": [
<<<<<<< HEAD
      "Evaluating: 100%|██████████| 3444/3444 [05:55<00:00,  9.69it/s]\n"
=======
      "Evaluating: 100%|██████████████████████████████████████████████████████████████████████████████████████████████████████████████████████████████████████████████████████████████| 300/300 [00:06<00:00, 47.12it/s]\n"
>>>>>>> origin/clustering
     ]
    }
   ],
   "source": [
    "cls_features = []\n",
    "example_ids = []\n",
    "\n",
    "for batch_ in tqdm(train_dataloader, desc=\"Evaluating\"):\n",
    "    batch_ = tuple(t.to('cuda') for t in batch_)\n",
    "    with torch.no_grad():\n",
    "        input_ids, input_mask, segment_ids, label_ids, seq_lengths = batch_\n",
    "        logits, atts, reps, pooled = teacher_model(input_ids, segment_ids, input_mask)\n",
    "        \n",
    "        cls_features.append(pooled)\n",
    "        example_ids.append(input_ids)"
   ]
  },
  {
   "cell_type": "code",
   "execution_count": 20,
   "id": "dependent-valley",
   "metadata": {},
   "outputs": [
    {
     "data": {
      "text/plain": [
<<<<<<< HEAD
       "3444"
=======
       "300"
>>>>>>> origin/clustering
      ]
     },
     "execution_count": 20,
     "metadata": {},
     "output_type": "execute_result"
    }
   ],
   "source": [
    "len(cls_features)"
   ]
  },
  {
   "cell_type": "code",
   "execution_count": 21,
   "id": "photographic-budapest",
   "metadata": {},
   "outputs": [
    {
     "data": {
      "text/plain": [
       "torch.Size([32, 768])"
      ]
     },
     "execution_count": 21,
     "metadata": {},
     "output_type": "execute_result"
    }
   ],
   "source": [
    "cls_features[0].shape"
   ]
  },
  {
   "cell_type": "code",
   "execution_count": 22,
   "id": "worse-screw",
   "metadata": {},
   "outputs": [],
   "source": [
    "cls_feature_vectors = torch.cat(cls_features, dim=0)"
   ]
  },
  {
   "cell_type": "code",
   "execution_count": 23,
   "id": "framed-basketball",
   "metadata": {},
   "outputs": [
    {
     "data": {
      "text/plain": [
<<<<<<< HEAD
       "torch.Size([110206, 768])"
=======
       "torch.Size([9594, 768])"
>>>>>>> origin/clustering
      ]
     },
     "execution_count": 23,
     "metadata": {},
     "output_type": "execute_result"
    }
   ],
   "source": [
    "cls_feature_vectors.shape"
   ]
  },
  {
   "cell_type": "markdown",
   "id": "retained-fifteen",
   "metadata": {},
   "source": [
    "#### K-means"
   ]
  },
  {
   "cell_type": "code",
   "execution_count": 24,
   "id": "scheduled-syria",
   "metadata": {},
   "outputs": [],
   "source": [
    "%matplotlib inline"
   ]
  },
  {
   "cell_type": "code",
   "execution_count": 25,
   "id": "least-probe",
   "metadata": {},
   "outputs": [],
   "source": [
    "import numpy as np\n",
    "import matplotlib.pyplot as plt\n",
    "\n",
    "from sklearn.cluster import KMeans\n",
    "from sklearn.datasets import make_blobs"
   ]
  },
  {
   "cell_type": "code",
   "execution_count": 26,
   "id": "greenhouse-objective",
   "metadata": {},
   "outputs": [],
   "source": [
    "cls_feature_numpy = cls_feature_vectors.cpu().numpy()"
   ]
  },
  {
   "cell_type": "code",
   "execution_count": 27,
   "id": "1b227bf6-991f-4824-96fd-24ed694a70f1",
   "metadata": {},
   "outputs": [],
   "source": [
    "all_label_ids = all_label_ids.cpu().numpy()"
   ]
  },
  {
   "cell_type": "code",
<<<<<<< HEAD
   "execution_count": 88,
=======
   "execution_count": 76,
>>>>>>> origin/clustering
   "id": "outdoor-musician",
   "metadata": {},
   "outputs": [],
   "source": [
    "CLUSTER_NUMBER = 128\n",
    "kmeans = KMeans(n_clusters=CLUSTER_NUMBER, random_state=0).fit(cls_feature_numpy)"
   ]
  },
  {
   "cell_type": "code",
<<<<<<< HEAD
   "execution_count": 89,
=======
   "execution_count": 77,
>>>>>>> origin/clustering
   "id": "twenty-ideal",
   "metadata": {},
   "outputs": [],
   "source": [
    "cluster_centers = kmeans.cluster_centers_"
   ]
  },
  {
   "cell_type": "code",
<<<<<<< HEAD
   "execution_count": 90,
=======
   "execution_count": 78,
>>>>>>> origin/clustering
   "id": "double-china",
   "metadata": {},
   "outputs": [],
   "source": [
    "cluster_labels = kmeans.labels_"
   ]
  },
  {
   "cell_type": "code",
<<<<<<< HEAD
   "execution_count": 91,
=======
   "execution_count": 79,
>>>>>>> origin/clustering
   "id": "scientific-upgrade",
   "metadata": {},
   "outputs": [
    {
     "name": "stdout",
     "output_type": "stream",
     "text": [
<<<<<<< HEAD
      "(128, 768)\n",
      "(110206,)\n"
=======
      "(3, 768)\n",
      "(9594,)\n"
>>>>>>> origin/clustering
     ]
    }
   ],
   "source": [
    "print(cluster_centers.shape)\n",
    "print(cluster_labels.shape)"
   ]
  },
  {
   "cell_type": "code",
<<<<<<< HEAD
   "execution_count": 92,
=======
   "execution_count": 80,
>>>>>>> origin/clustering
   "id": "comparative-editing",
   "metadata": {},
   "outputs": [
    {
     "name": "stdout",
     "output_type": "stream",
     "text": [
<<<<<<< HEAD
      "(110206,)\n"
=======
      "(9594,)\n"
>>>>>>> origin/clustering
     ]
    },
    {
     "data": {
      "text/plain": [
<<<<<<< HEAD
       "array([ 60,  79, 110, 111, 120,  59, 102,   8, 113, 102], dtype=int32)"
      ]
     },
     "execution_count": 92,
=======
       "array([0, 2, 1, 0, 0, 0, 0, 2, 0, 1], dtype=int32)"
      ]
     },
     "execution_count": 80,
>>>>>>> origin/clustering
     "metadata": {},
     "output_type": "execute_result"
    }
   ],
   "source": [
    "print(cluster_labels.shape)\n",
    "cluster_labels[:10]"
   ]
  },
  {
   "cell_type": "markdown",
   "id": "890c1f47-3a55-4f82-b05d-382d1956c2bd",
   "metadata": {},
   "source": [
    "#### Save Clustering IDs"
   ]
  },
  {
   "cell_type": "code",
<<<<<<< HEAD
   "execution_count": 93,
=======
   "execution_count": 81,
>>>>>>> origin/clustering
   "id": "1a41ba38-3958-4747-a985-e99b71938c93",
   "metadata": {},
   "outputs": [],
   "source": [
    "assert len(train_guids) == cluster_labels.shape[0]"
   ]
  },
  {
   "cell_type": "code",
<<<<<<< HEAD
   "execution_count": 94,
=======
   "execution_count": 82,
>>>>>>> origin/clustering
   "id": "00c0858b-e3d3-4bc6-8147-5effd3639f12",
   "metadata": {},
   "outputs": [],
   "source": [
    "cluster_map = {}\n",
    "\n",
    "# all_label_ids\n",
    "for guid, l in zip(train_guids, cluster_labels):\n",
    "    cluster_map[guid] = int(l)"
   ]
  },
  {
   "cell_type": "code",
<<<<<<< HEAD
   "execution_count": 95,
=======
   "execution_count": 83,
>>>>>>> origin/clustering
   "id": "d4f7968c-d730-4261-9ad7-df322c24be99",
   "metadata": {},
   "outputs": [],
   "source": [
    "import json\n",
    "\n",
<<<<<<< HEAD
    "with open('clusters/cluster_qnli_k{}.json'.format(CLUSTER_NUMBER), 'w') as fp:\n",
=======
    "with open('clusters/cluster_cola_k{}.json'.format(CLUSTER_NUMBER), 'w') as fp:\n",
>>>>>>> origin/clustering
    "    json.dump(cluster_map, fp)"
   ]
  },
  {
   "cell_type": "markdown",
   "id": "hazardous-diagnosis",
   "metadata": {},
   "source": [
    "#### Visualization"
   ]
  },
  {
   "cell_type": "code",
<<<<<<< HEAD
   "execution_count": 36,
=======
   "execution_count": 37,
>>>>>>> origin/clustering
   "id": "ordered-sleeve",
   "metadata": {},
   "outputs": [],
   "source": [
    "import random\n",
    "\n",
    "from sklearn.decomposition import PCA"
   ]
  },
  {
   "cell_type": "code",
<<<<<<< HEAD
   "execution_count": 37,
=======
   "execution_count": 38,
>>>>>>> origin/clustering
   "id": "spare-encoding",
   "metadata": {},
   "outputs": [],
   "source": [
    "def get_cmap(n, name='hsv'):\n",
    "    '''Returns a function that maps each index in 0, 1, ..., n-1 to a distinct \n",
    "    RGB color; the keyword argument name must be a standard mpl colormap name.'''\n",
    "    return plt.cm.get_cmap(name, n)"
   ]
  },
  {
   "cell_type": "code",
<<<<<<< HEAD
   "execution_count": 38,
=======
   "execution_count": 39,
>>>>>>> origin/clustering
   "id": "abstract-partition",
   "metadata": {},
   "outputs": [],
   "source": [
    "vis_data = cls_feature_numpy[:10000, :]\n",
    "vis_labels = cluster_labels[:10000]"
   ]
  },
  {
   "cell_type": "code",
<<<<<<< HEAD
   "execution_count": 39,
=======
   "execution_count": 40,
>>>>>>> origin/clustering
   "id": "liable-peninsula",
   "metadata": {},
   "outputs": [],
   "source": [
    "pca = PCA(n_components=2)\n",
    "pca_results = pca.fit_transform(vis_data)"
   ]
  },
  {
   "cell_type": "code",
<<<<<<< HEAD
   "execution_count": 40,
=======
   "execution_count": 41,
>>>>>>> origin/clustering
   "id": "sixth-forward",
   "metadata": {},
   "outputs": [
    {
     "data": {
      "text/plain": [
       "(10000, 2)"
      ]
     },
<<<<<<< HEAD
     "execution_count": 40,
=======
     "execution_count": 41,
>>>>>>> origin/clustering
     "metadata": {},
     "output_type": "execute_result"
    }
   ],
   "source": [
    "pca_results.shape"
   ]
  },
  {
   "cell_type": "code",
<<<<<<< HEAD
   "execution_count": 41,
=======
   "execution_count": 42,
>>>>>>> origin/clustering
   "id": "brief-sandwich",
   "metadata": {},
   "outputs": [
    {
     "data": {
<<<<<<< HEAD
      "image/png": "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\n",
=======
      "image/png": "iVBORw0KGgoAAAANSUhEUgAAAWAAAAD7CAYAAABUt054AAAAOXRFWHRTb2Z0d2FyZQBNYXRwbG90bGliIHZlcnNpb24zLjQuMiwgaHR0cHM6Ly9tYXRwbG90bGliLm9yZy8rg+JYAAAACXBIWXMAAAsTAAALEwEAmpwYAADE7ElEQVR4nOydd3xT9frH3yejSboLXewUKEsg5YqgIoqKsxgcKIrr57561WpdV5CoQVwo3upVXOgVFQVxNFC9V1ERRIYoiSDDAi2zE7rbzPP9/XGSNC0tQ0GG5+0rr9Oc8c1Jip88/Xyf5/lKQghUVFRUVP58NEf6BlRUVFT+qqgCrKKionKEUAVYRUVF5QihCrCKiorKEUIVYBUVFZUjhCrAKioqKkcIVYBV/hJIkvSBJEkXH+n7CCFJ0l2SJD1zpO9D5ciiCrBKGEmSiiVJGh3x/EpJkqokSTqjjXOFJEnlkiTpIvbpg/uOquRySZIGAxYgP/j8/yRJ+j7ieLwkSUslSfpYkqSogxz7b5IkLZYkqV6SpDJJknLaOOeM4Of1RMTuN4CrJUlK/X3vSuV4QBVglTaRJOl64GUgWwjxXTunVQEXRDy/ILjvaOM24H3RRtWRJElJwNfAVmC8EMJ7oINKkpQM/Bd4DegI9Aa+bHWOHsgDVkTuF0K4gS+A6w7qnagcV6gCrLIXkiTdBjwPnCeE+GEfp75LSwG5DpjVaqwESZJmSpJUIknSTkmSnpAkSRs81kuSpG8kSdotSVKlJEnvS5KUGHFtsSRJ90uS9IskSTWSJM2RJMkYPJYsSdICSZKqJUnaI0nSEkmS2vv3fAGw15eIJEkpwLfAWuAaIYR/f59NK3KB/wkh3hdCeIQQdUKI9a3OuQ9FlDe0cf0iIPsgX1PlOEIVYJXW3A7YgbOFEKv2c+5nwOmSJCUGI8mRBP/Mj+A/gB8lOhwCnAvcHDwmAU8BnYH+QDfgsVbXXwGcD2QAg4H/C+6/D9gBpABpwESgrQg3JnjtxlaHOqAI4DLgRiGEHHHNP4PC3uYjYoyTgT2SJP0QtF7mS5LUPWKcHsCNKJ9nW6xHsUZU/qLo9n+Kyl+Mc1CiwjUHcK4bmA+MRxFTR3AfAJIkpQEXAolCiCagQZKkF4BbgdeEEJuATcHTKyRJmg482uo1XhRC7AqONx/ICu73AZ2AHsFxlrRzj4nBbV2r/d0AI4r4thBuIcTTwNP7fOcKXYG/oXxma4BngQ+AEaF7ByYLIeolSWrr+jog4QBeR+U4RY2AVVpzO9AHeFMKqoYkSb8GJ5nqJUka2er8WSjWw172A9AD0AMlEdHja0BqcNw0SZI+DFoTtcB7QHKrMUojfm4EYoM/T0MR7y8lSdoiSdI/23k/1cFtXKv9LuB+4AtJkoa0c+3+aAI+FUL8GPR0HwdODdouFwFxQog5+7g+Dqj5na+tchygRsAqrSkDzkbxTF8BbhdCnLCP85egRKIC+B7oFXFsO+ABktvxV58MXjdICLEnmCb27wO5SSFEHYoNcZ8kSQOBbyRJ+lEI8XWr8xokSdqM8qVS0epYniRJBuArSZJGCSHWAkiSNBHF0mjvtUNfAr/Q0vaI/PlsYKgkSaEvkAQgIEnSICHE2OC+/ihfBCp/UdQIWGUvgn/ynw2cH7QM9nWuAC4CrG38KV+CMgH1fDDVSxOceAultcUB9UCNJEldgAcO9B4lSRojSVLvYJReAwQAuZ3TPwf2SqUL3uOzKFkKCyVJ6hvc96QQIra9R8TlbwOXSJKUFcx2mAx8L4SoCf7cB8UyyUKxZ94Aboi4/gyUTAiVvyiqAKu0iRBiG3AWME6SpKf2c+6vQohf2zl8HRAFrENJUZuHEjGD8if731AEtAD45CBuMRNYiCLgy4BXhBDftnPu6yg5t20asUKIKcCbwNeSJPVq65x2rvsGJVIuAMpRJhonBI/VCSFKQw8Uu6JBCLEHIJjNcSHwzoG+nsrxh6Q2ZFf5KyBJ0mxgrhDisyN9L6BUwgHdhBAPHul7UTlyqAKsoqKicoRQLQgVFRWVI4QqwCoqKipHCFWAVVRUVI4QqgCrqKioHCEOqhAjOTlZmM3mw3QrKioqKscnP/30U6UQIqX1/oMSYLPZzKpV++vPoqKioqISiSRJW9var1oQKioqKkcIVYBVVFRUjhCqAKuoqKgcIVQBVlFRUTlCqAKsoqKicoRQBVhFRUXlCKEKsIqKisoRQhXg44iVDrg3S9mqqKgc/agCfBzxgQ2KXcpWRUXl6EcV4OOIq+xgtihbFRWVox91Uc7jiGFW5aGionJsoEbAKioqKkcIVYBVVFRUjhCqAKuoqKgcIVQBVlFRUTlCqAKsoqKicoRQBVhFRUXlCKEKsIqKisoRQhVgFRUVlSOEKsAqKioqRwhVgFVUVFSOEKoAq6ioqBwhVAFWUVFROUKoAqyioqJyhFAFWEVFReUIoQqwioqKyhFCFWAVFRWVI4QqwCoqKir7YIkDrs1StocaVYCPY9RFOlVU/jiv22CTS9kealQBPo5RF+lUUfnj3GqH3hZle6hR14Q7jrnKroivukinisrvZ6RVeRwOVAE+jlEX6VRRObpRLQgVFRWVI4QqwCpt4mAbWeTjYNuRvhUVleMWVYBbU+eAoixl+xfGxmpcVGFj9ZG+FRWV4xZVgFtTaQOPS9n+hbEzBAtJ2BlyyMdWo2sVFQVVgFuTbAeDRdnui+M8UrbSHSdjsdL9kI+tRtcqh4PDWTBxuFAFuDVxVshwKtt9oUbKv5vDGV0f13gdUJulbFX24nAWTBwuVAH+vRxopMzhrUg7FqvdDmd0fVzjtoHsUrYqe3E4CyYOF5IQ4oBPHjp0qFi1atVhvJ3jk3uzlIo0swVecB47Y6scZXgdivga7RClJngfS0iS9JMQYmjr/WoE/CdwlV0RyMNRkXY4xz4YWk+sqRNth4EoK8Q7VfE9jlAj4KOYlY7mUuKjvaIti3xcVGEhCSdj93quovJXRo2Aj0HaaqbzZ3m+BxvBtp5YUyfaVFT2jyrAR4gDEdK27IU/q8PZwaaKtZ5YUyfa2qYEB9+QRQnH0Kzpn8SxmEb2R1EF+FBxkHnBByKkw6zKxFqk/fBneb7HXATrqICsH5XtUcx6bNTiYj1qJkNrjsU0sj+KKsCHioPMC/69QtqWKB8O2opgj+qJNVsxuBqU7eHgEAl8f+zEY6E/x1Cu1J/EsZhG9kdRJ+EOFXUORXyT7fsv4vgDRE7MgfLzidnwU8Efm6w7kAm/o3pizVGhiK/dDNaUQz9+1o+KwFtiwHnSoR9f5bimvUk4VYCPMUJ5vylmqC4FnxuQAPHHcoFD4yZZvHzrdACCPIbvFQHbWI2dIQft7f6Ra48KDrfAqxzXqFkQR4LD0C8iZF1ItBRfJCUS/r1ZEqFx19t/pph6imnYawIuZEsA+7Qi2rIqjvn+D9YUJfKNFN9jxHdWOXpRBfhwEvSFV3648JCljoU84JvyFMG87GHQGwGh2BC/N0siNO7D1s6YicVMTIsJuEhR3Z+YtnX8mJvUOxAOt++sctyjCvDhJNgv4oMXp1DsgufGH7r83ZBgXjMVrLmKCJ+Y/cezJKx0p4hxFHE5oES6k/iJ8XwXFtV9iamDbdTgJRUjNXjDUfBxmZZmNyuesN18pO9E5RhFFeDDSbCz2lVTE9AbFcvgcOTv/lSgjP1TQftZEr/HmghFstNZh5sARrT7jWBtrKaYBmrx7WVjHNVZFL+HtmwJFZWD4K8hwH92795WrzfMCvfPObjINFIw9yeeV9kh1QwNNXufE7p2Zs7BWxOhSDeXAVhIYg5nALSIhvd3TaRgH/M+sMpB8VcsrDhY/hpZEEVZSo6uwaL0+j0Q/kha2e95vQhWOhS7wudWRBv23/Gsra5okeOkmCEm4Y/3lQilohnRMoczDspSOOYzIVQOimuzlMKK3hZ413mk7+bI8tfOgjiI3r1hfk/D9VDkq8sEyQgx2Qd9q6BEqT634uteZT8wX7e9suXQODfnKcc+sMF7k35/P4lQhHsg4tvacjgufWCVdvkjhRV/lej5rxEB/x5+TwQcinwlIwj3AUXAbRVAhPb90QKL1mPfmgEVxaDVQ8B3+HsIH9WFGypHNcdb9PzXjoD3RXv+8IEuTRRJsh10ZtDEK9v9RNwhi6C1NxuaSPupoG3f9kAn1FpPyEnB/TGJivh2yoQrTEpEHMKxCrIeUrbtcaCTaftLPfs9k3LH3USeSpv8ZcqShRAH/DjxxBPFcccWixDrEWKDUYja/Ob9tfnKsch9BzPeFst+T73HIsTFCHG5UYgVwZdZka/sX5Hf8ue2rrsn4iXenaiM8+7E9l+v9XiXG5tfP4TlQSG4Utm2h0V8JhBvC4v4bL/vcV/8nnEO1WsfNvLLhbCsVLbHIYvzhbjGomxVDhxglWhDU9UIONnebBlE+r0H6gHXOWBThvKocxyw37zSAY01yuSYNVeJckOWQShnGNpOKWvL73VMV/xex/T2X7O0M3x7nrKF5vxha27zOfbLwdJd2bYXbUZGtvuLSPd1/PcUZxz1BR3HeXHGX7Fj2WGlLVVu73FMR8CtI9rI521Fu7X5QhSalUd7UXBtvhI5r+eAo94QkVFs5M8r8psj08gIt71oOMSBRMBtRbf7GvdAos3QOWYxV1jEZyJfbBVCCJEvtgqL+EyYxdwDilhD54eu/0McyShUjYBV2oB2IuC/jgC3tgYOxCrY3zmh4+v1+xbqNmjLanh3YsttpCi2ZTscLPk/KuKb/2P744bOmfiBEOYHPcL84zKRL7a2K5DNQvtRC6FtFuaPDkhYD6m1YFkpBN8q29YcboE8zgVY5fehCvC+IuADveZgj7fDwXi7+7tmf8cO9l5CUbLx2pbR8v4EsrVAh55PFKsOSID/tAh4X+J8KDjc46sck6gC/GcQsi02puwzIg4J7S3mluK3vwm4AxHu/YlxZBTcVkTcIgK+UwjzXcFzD1Ig24uMjzjHSAS8S+SLr4VF7BJH99/6R4slcbTcR3uoAvxHCEW6ZRP3HfGGLYl9e8Ihkbw+VRHOy/QHFg23FyGHxnvpeSEuSNm3VWF5UIj005TzTr5k3xkPbXnGBxrZtucN74/5Il+cJCxi/sEKz76E7xi0Bb4WFvGpQHwtLEf6VvbJNRYhTkbZqvfRPu0J8DGVBeGgkCxm4qDw0A0amQfcXk5wKCOiavremRGR14TzgFP2mQccys+VgzUwAR+8mdMytzec6ZC9ArKywOEI7zsxu+W5ofHeLIPVfcGTsnfV3EoH3NgHxK9gWQ+GCui/tjnjIYRjFWTcDRl3QfYQ5Xj25RV7taKczrp2+zooHdF8mIkhj+Hh6rcDyeF9gBzW4OJBcto9ZwEOhpHFgsiFLfeVfXCoMhP+xP6/x8rSRUdLvu7Rch8HTVuq3N7jSEfAFvGmQDwlLGLmoRs0cqKtvUm3fUXABzKZVzZRiA1GsWLWrBYWw2V6JVq9GCEu0bQTuVosyh8qluYDrSPhyAj45EuEuCJRGTsyIyJ0zZmJyjnt2RTmu5Sotz3/d6JYJYxilhgnvt4rsv0qX4gLLEL0z1/Wpu1wIBNtQ4VZxArEUGFuNxo+SViEUSBOiowO/2gEHDpn4qYj5x+rHBBHu93QFhwPFkS++E1YxEyRL347dIPuLx0tdE5kSlpb14TEuS2RDqaq3dPXtVfq2cVSswhHFmQ0v+l8RXzz88NC+8w45dxnxinPbzXvndLWusBiRb4QN2Qq4hvp+bbGfKcivroJzedF+r+RItraF77AIoQZIU61ePaZMbEvO+IrkS8uEBbxVVB89xJa8Qdsin0RElfp20OWQXGs+LiHij9LGI92u6EtjgsBPmTsS2jb2h/p7baOlEPXFJqbK+paR8RlE4VYrxcrXrla3DOweq/Us1tT68Utuu3i3XEbxK1mIW5JqRcrzHcp4iuazw0JbWTkHHpcm9IcWV+b0jICDnnDLz0vhCjPF2KlRdm2wcQPlAyIiR+0/dFFimgox9cs5gohmiPgr/Lbv+ZgOCxC2x755UIYFynia1x0SPziY8XHPVT8WcKoRsDHOu3ZBvuyINqLgEPXFJr3PVEXEuhCc3hXOGPBfJcQIO4xbggL6j2sFsJoFCI/X9xibhbZ61L2Ft9QJP3S83tnNQjRPDF3QYpQxPdbRP7su4TlQSHGTW8puAdSihwilOFgFh/t87yjvnw4ROsI9w9O3qkRsEqI9gT4mJqEO2S0Vy7c1v5QV7S0POhdpDTniWzUE5p4kxsgUAOm4W038ZEblG3lNvh6EmzK4IOH1inNdpgCFgtX5VaTaoaUlAau0k0BtxtstnATHVMMNNW1854EfP40uLaB7SNlV6hpz0ljwBcHHXWwcsNrEGPBtmoKrm3w8Upw++CpfGUCLlSKnD1k76Y8rSfR8hiGhSTyGLbPj/uPlA8XOeCjLGV72Gm9wsUfnLzrhJWzcNKJP9CA+RhipFXpXDbyr/F2Dwl/TQFuq9NZ6/aToeyGspx9Zz7EWUGbAHIF+Ivb7x2hiQleK4NvOviLuequhzBnuLhqwgZwOhk2dTivFcHr5TEM+/h6sFjAbg8vwHlTXnP/hvigRmijoCrLTVL0Di4c9y2WlI3Yz1sBNPeVqP0ZMntCfQl88PxwOMmJ/aoEzCkQa1TGETQLN8DspS3F3MG2Fith/FnN1VfZYLdL2R422stuUNd8UznMHPMCfMhS01o33wk9h72j4tbnhqLgtlLP6hzgzIA5DbAnFT4wgz4XynQMy1zACz2yGFZw2973Y7WC0wlWq5Jmlj2JYeNNXPPb5dyffjfC7Uarh8oh8F0/Iz+PrOTOERfivLQflL1P1kPQ67rmpj2RDXwcq8D2QQ14dlDnBp0GzClK9Gv7SBFepIimPKtg/EMJuFd1woiW7FWnMu7ujrjuOoucVbv2+9G2txRRm+lkESzEwef2u9GaG/DWtB0FhyLk0kl/IEWsvUj3EK35VoKDb8iipJ33qfIXpi1for3H0egBt5WapmRLvHlw2RLBVDFRNlHxbzemKD0eylp1t2mv2q21Txwab2OK4v1+0jKVTOTnC2E2K4/81rNWzZkPYYxGxbKXJHELm8Pe77gYIS7o6Bcv9XtNiIKJQqy0CEtu9QEVWJhv3iyMVzeFS4/bq44Lpabp76pXJt8iUtX0D1bts1eEECKcujZRrGqxv70shxAXCIswC8TTlg1iBkK8aanea1JurkWIGQhRZfwDKWJteb0H4//u59y/2mScyt5wvHrAdk7HQip2Rob32ViMiwpsLDnwgRoKlJaUDQVKZCtXAD7leSQlNytWg7ynpeVQaVOe+4sV22LPU8p4cjV4U6GDDp7PhjoHjjdvJmNyFhmd1uKYWYQLK09kgcsBOBy4LnuHia5PuOuyvynFFg4HLv1lPMIWJhlL8EvJGICOgLZBxrBby+It17FytxWH5KTGl4A5WfFxM+5SCitCXq5jFdQ0gblDAxP6LyQ9IYBeq/jAto/AOhScz8CKTaC/GtJugwa3cm0XEaPYDQJMO6DTfwW6tGJsrCaHlbioIoeVe3nFBezATYACdrT4KC8gGyNGLqDtpZtysdMfC33t1XS0wOf2yazBxX3khCPnoXboaAF3rnnfdsG+iijainQPxv/dz7nHSlHFoeSvsqTQH0VSxPnAOFaWJHJQiI0l2BmJlcwDuyjSAwZFREGZfAt5wpU28KwFAsGL9KBJhE5vQtMK2PMsaDuAFK0IMUDMOPAXNi/SCWTd8R9cxVkAmLvAGT+AqQmSzPBkQhZPuP7DTrLwAXEWuKrmbv5T/AwCEwACQQAJHaAx1LPLEw1oMGdu5NtL+uLaptgHELQTUJ47n1Em1lzbwJwMO/aAX4aUOOic1FwRZ/sIft2hHAPFnkgwNR/PmQXMBnaDxlLDC84aclhBMQ2YiSGBqBZLETnYRg4rAcEEelLADuwM4QmsrMHFICw8gmOfnvICHNxHTnhCcivFDMLCSpwH9vvN+lERSUuMIrb7w1GhCKrdvG8LwlEBOYWABHm91SXqUUT3kfHgdR8/Swr9Uf5SSxJZycTJjQcuvtA8MQeK0MZPUCbXQoQ94WiUxX2iAZ8SKe8aD7WzAT/Itcq1UnB2q2EeeIub/eFkO/bL/o05ahvmpAYQsNsHPqAOwG7nIt0UktiCQVOJpgTytr3AHkyg8QEyEhI6TYCkmO1oYsoBDVqdl4amrtyc1uzd2i9XhDbk70JzlkODp1lgY4yKOFuHNnvAHWIVbzg1HvKua3m8uAJMp0N/C7xmT8BKd/IYHsyIGE524akYZ15CduGpwd9HdxLQU1yYxFMzM3AVxmBjNTbsDMKCDXvYJ85hZTtN4G1so5h4EniOvPB1B8zBTqjty/+NjKZtxVDshQTd0S++XgfUZinbw8jrNkV8o4zHYGnwn8xxJcD7mpALH2t8r+1+DyFa930oy1HOj8lWIlhJg5Iz0NR8jXBDoKp5ZY2GAug8h/AqbKIG3NvhxZthcw7W8VaKpjgpahxB3ugVVP4N5F5wbR5gtWL5+HqetFxKp+56GsshRtaSCBhiBKBBLzXx9+738uTs1Vwb/y+SujTgNkVRsSOGzbOaxdI6FIpeUgTU9pFiP4QshhAaKUDeKXdDhaPZnkiGm8+EE7oq29C10CzgJ9xQw7d31fBtf+VP+hWFJjbOHMWKQhMFi1NwVyRQsKRZkOwMwbj4JERFB4xLTuIivNixYcPOGKzhVDUQuKjiSj5sMTkXKdb7okXaWqRQWlMU8bUV721D7MueaOtYpOVwlGRKHNBEn9sGskvZHkZCfRmemKOmpO2Xtozh9h5HwyTcvibY9tUrInzM/eC+eze0Li0OFVCEiivC3c40LVfDWK/bu0T5t1Qh1qA81iPEakT+O2OE5YINIn/gXS17POTnC6f5LjHFXC2cE5cLYbEI58Tl4mGzEH9HedyhCYg7aRKfxr3YYoLOfJfS4ey8Dh6xYtbyvd97q+KK/B+F0F8dnESb4BETn35cWO7aIFJvbd5nvr1ecKUQUnCyLTRJF8L4ZrXgKSGMM6tbPJee9YtxnwhhfFaIiYta3seHM4SY0lXZRk7ARVa85YutwiSeETphaXdyLnRtojDuVSUXmpSbaxFCmH9QJubMPwQ/iHYm6vbV46GtY7+zQONwFmYc0ESfJ1+IGouyVflT4XiZhGtrgi0U3WbSQUmTotde14Un6wKDWqaVlU+CjSZlG0mooCItr/n8cI6vBDGXgjYdpHhABx0ebGlj7BoPgXIQ8UrA7DFAkwbb7CdxFfVlPM/jGHgX2IP3YbMxv/hGdhYnsOCZGHC5sMy+kieL4LyJoNcHMEnl+DHyTcMtuILJ/S4HnDobDMDGS3cwrNeVOD64m4zb95Bx2w4c36wIWxE1TcEUtI/AF1Dic58cxfQ1D+Kq6MueeuVWfHIUBKow6pVbl1Am6ca/2BwJ557uxZhaQ+5ILw62EXf6GtD6EQEtn60C9zqYvSz4+ymErJlQlwfJO0DzasuI1o6NNbiwY8NKd+bSjyHQItqNTFmzYceIETdu7LSM5kKTckPtoNx9xDYUrWZ3aBnV7iuKbevY70xPW4+NWlys59BHoAc00RdlhXinst0Xf5JVocKxGgG3bMgTim6N4tmDT0kLRbGhFLT1UvsRcmR03LrnQ2QaW7h3hCTEeq0Q6xH571wkLOevFhMfeVLoT3AL+glhPqVeTBzwmujd3S9uj/WI+ykR91MiJrFZvG54XFh6r1Ei5WBamvMfY8RdUY3i7wjxhEUIZ74QdxqV6PiKRFlMfP41IX4wC8sdq5s7mt21QeT/2HKFi8im6+Hm63cJkXKLEHHXeZSoeKZyXWh/KGIORdGRfR/CvX9/WyYsM4VI/UcwzS1HOdccjI5H31kv3rRUi/PzbxJ9gt3OhGjZ8+FAOqDNF/mijzCLvhFjtOYrkS8ezZ8gai0LlUg1v1zUWhY27wtFtX9ir+BjpjS5xiJEFcr2EPJXLlXmeO4FERLliWJRu+LcbgvLSOEMWwrSvhfrXK9vXgsudCzy2hZjxQmxXhKWC34T9BPCMrpIpJxYIugnREq/CmHs0yjGGZpthrtQBPYWAqJHFyEs5tXNucJn6ITzH2PEEzFO4Zy4XEyxKNfcohWix2mKyL4+ZYN4oPt2cdJ5tcJ86zYxcdqLwniNP2wjRIpuZL5vKLdXO0HZptyiHI/M+U25pfn8UOezCyxtLEfUKpe49293CWnmatH5t5tEojAKo6Dd/N/WucEhQb5KjBOJwihsYmKb+cMthDu/XGy2vCduyj9FXBA6J2gl/Gp5QzyaP6Gl+B4ii+HP4E8R8cNkVRyLXcwOFce1AO+Lg2phGSnGQjRHshuMzYIc6ftGNNYR28a13B8szMh/52Il8n30NWEZK8Tr3V8TE6LcokcXITT9/CK+X43o2dUvbk8SYpJZiE/HbRB3Sk3i7whxraFJPKv7QNxJo/h03AZFdCWXcDJGiYjzlUj49eeF6D1KiHGJQvxftEe5NsWvNNwJRsPSlc2iqwhqILiVlQj4QiE6JQoRc1rQBw5GvKH2lFwphOaqZvHuf4kQp2YqEXBbxRuRhMSxjzALo0DECb3oKlJEX2EOC2pkNHxp/l3iTUu12JLf0u8NbVtfI0Qr4Q6K6mbLe+Kr0DkREfBXkeLVlti29o7/AIdaMI/log41At5bU4/LPOCDIpTfG5OtZC+EekGEju0ar2Q2BHN4lVQ0PWiTlHzftDxlf+g8UFLO4ifAnqfIuHUTxRU9MXdq4LNT1vLmkxb8GNljEMzNULIkzIkNJNTswD58JdbVz+PKvI8FC4YxZsxK3pw3Dj8m9DSRavaysziBrsaNTJqzUSlXDvJgH6grBGNiKbu1CSzubyJxeA2WPcv46tPzqB4okTZgB3njd3LJG39DRo9pBySuhcYsOGEn7CoEuQNoJsCEEVCwWsl6uPYVqG1SvGAB6HXg84M5DYr+FZFbnAYJgyC7N8ze5KWh9xZiNvXkaV8U9a/W8L79Tn7oX0fi4hnEnf4UOzJfCnu5UejpQxeeIo+qLCu7XYqXa3I6sGPjArJ5kem4cbeZ//sok3iR6dxNLo877jmwHN7WhNLKdnmgwg/mKCg6tf3zDmD8b8iiFhfxWDjrQHOW90EJDtZjoz/2v0yTn+OBv1QecIjWaWltpqmF0s72TGtOOwsRZ1XSyQwW0GWC51eQEgCjMsEWqoSrtDWLrwAW74bKacqTUOWAXMX8GXH4MaLBSxd5NydVlWL2FcHuSqpr+zLv/XG4XN3Y+tUnfJTexMqVTWgT/aD1odHXkLJ7GTojJI/pyyM5ViZlwGeT4IksOPVy6Gqu4f8GP8K4Z+8icXgN9isTWDz/fAzVEolrAdmLVTsKrUa5qcS1AkM1dP4NHn8OiIOAG0w7YeqVYL8ZbK5g5h0Qb1JS0BK7KB8B6cr+cG5xR3BVwJPLoLgiioqVvSmuiGLDVBmfK4ERtvvwLn6MsopO1C15OFgFNwYjRrz42EAx07G1mEgbg5WVODmJ4aSSTg/MbaaifUEBbtx8QcHv7+EQSi+L0SgTb3nt5JFHpqHtZ5miQ10F91frsHa8c1wLcChjYjyfBavjIjIoQh3NYrKViDVU3SYaW64RV5ajtJlsyAf8Sk4vET0h/SXNOcKgCO5JdfBpIo4fLwUpBnNKERNOe4sVcR3Q4CUmQabJl8zYslKKNvdkQvW7DK+UifGZmMks5td+QkpFFqu23YKnOg40Mh5fOmuazsLvBuc8we5i2FMMX0+HnS74tQAmrfwOy3OrsF5kxX5lAraPwJ3lxZMIdYMDTOg9h6y5yxjbcyF6LdQOkvAkAic1MLpTFp1TGtA3QtJaJXNh/GeKoDb4lbcWFQX0gTOGg3EATDhF2R/KLY7p0Pyx6LUy0rC1kLqHhZPWorfUsMr+b9JP/zcZqTXEjXwKN242Uci7zCEDM/0wk4udDCtc7oQMq5L90JcMJjAuXIgB7NXE537HazyStYH7Ha8d2D+OtoQzlPGQl7lvAY/MjNhPGbIqmCr74ri2IBwUMp7PcBPAQirZ9GI6K8llGFOLclqUB4etBQTgV0Q5UNoc2e4Lg0UR4T1PKs/94Ji/nPFzhuP2gMXsBCDz2yySPeDWeUmhhEztO8yOv4bONV0o1xvIaFCq3DRICARSKHxOLiVW30h9SQ9AC4BGKwN+Bl9YTuW2riRnwlqHm7Mvf5aLcz5hwFNOqr8Fw0mV0KMWJAmEhuL6Hpg7NFBaF4PbB3otdInZQd4ptxO9O4Pp777IiOvgifXgTgZjB8jtBwXfQ80u8CyE+nOhrj+YEyDvJCWtzX45kAA5X6FU5Y6G+zIvYTND6MVqCvk0/HFFlhWPZwJrHXVcaJvCWfYEMqzN59ixUUsNWykGQELiAR7mCwpYg4vumJGARhq4LWsRHV0D6GhRxHu/HGxpcnschB2h8tflL2lBWMlkDheHm/UUsCnYFGZzy+broZ91XQA/ICmVba3FV5OiVLtFnYIi1nplvy5TqZwLEX0KtsUxuD1g1DeRfaKDmsZ4tvYopdbg5du0KL7sVs3Lnawk1/Yk3quIrxYNGiQCCHT69cRF14HkI84PUTKExBcEicnbkQNRVK7bw6Q8E2vne/B7jXzz0YM46l6j/jsZQzUkrjOQYKinuC4DpACWlI00erW4faCVAgi/l+Larth+fo7R143m72/CE05w14Ppe+j4FMx+VWnsw3/BUAqJC8O3ES5dtn0E1kwoukMRX9tiuLLwnwzlE17ghvBHswAHV3EZcY6BTMgqYKWjjAG2G/G5Elr0/LVjQ3Z046qs+QxyjEWLFoHgCwrCOcQSSk+ICirItz9EjWVjMP/3ADiQCrYDWQX5ELWsVPlrclwK8N5erxLlt+icFtmUPfRzWl6wh4MIWg0RSPFKU3XhBrkkKNY+5fWkXWT1fBdH7HDlXO8y7Fc9jMXsZNFZF3H1v35m4OZtVCRKjO9yBxnyNk7b3ZOopnS2JpYSpykikfLwS1UZJAq6GYlvKgKhp646ndqqVJoLC6C7eQVdezkZc8MkPnONJhBfhaTzcNYVL5DzUSaVAzR4EsFjqcR+aROWjmvJOzWX7G4LKK+PAiAgJPxSFEZNE/aLqyHFqtgWytsicS3oq8DzA0z/HMr6ga8D9BkHxs0woZuyZL2xew3Zl1cwt3AFJ8zcyF1fNvDbdzD7rOE86XAyJuLPbzs2/Pi5wDaFVNcATrHl8oV9MrssLoR9Rfg8G3astmdIcw3kPNtjdKEbg7DQm0yuZTwXkM1z5NEDM6mkUGNdwX+c5/Or1cFCHFxIFgtbl+W2Lk3en3AequXsVVTa4ZgX4LYm1iK93sif22zSE/SCHY3vkRVXgaPbGzgaLyVr52ocDWOazxON8JUbLu4LX1Y1dzsDbMlX49LHYku+LrzPOmwB2Sc6SH0ligENW8krmwbaRqzdZ3J2VROB2jh6VKfjNZXyrOEEruZWOkrFeDR+ogKQ0hDNRWISOk0tMjJ+bwzNeQgSa1ZezJgbpzD/7Sl89XweoiIdXb/1xPb7AeYqq2+UnC9zyenvYj1rOM7rr8Fqzme66w6UX3uor4SH+Kgacj7sEl6SyBgLpED1QIL+MYwZAu7usPNqWNqoRMgF30PB0B9wP/MpBUN/4PHFiayr6IvQVNHpW5B3wN9tG8Ne7UIc1LALCYn/2R/DZymhn72OzdaFTHNmcZt1FHMdK5iZVcPbjoUss09np8XJQvsUpjg+5Las7/jN4cGNmxeZzhisbKCIrZSTQGeKKcaOjenYWI+L6a0rzvYlqPvyhNuKkg8kOj5I1Mbtfz2OeQFuqzQ5MtKN/NlBIRm8TAYzcFCIowyyVvXFsacbNu0aXGUJjF99ATk1s3D5srBVT0X5s18D+CEvQSlbfjE4/f9NPFzcl9dmv43FvQV75awW9zbd8QAhiz1absS5YzwrzOfxdbcUtIZKtnauw+vrwxVyPe/GTeAJXR+i9dXE+8Gy28D1GVPZY4xBg4aAJAMCNF4A9IkNzH//LXZuziJGxKAf9AsnnPo/PrDPJWWPgaS1MqBh9ubrlEY7ZfeR+nYJ7oAereRj3DCJ1HjwiSjK3ekU13UN9wMeMwKoAXqD4Rp4/3lYtQWEDLpayLU2d1zLXnUqxocuIXvVqTx6ejUDUjfy3Oid3PTyCvwWF5X2+7kfJbNkOjZ2UYFAsMaaz7NOC7dZR4UzIdy4KbQl4nMlMMB2I1usX/M/5/9xrrVfeP8FNjsSEneT2+KzjuwtHOojnIsdJm0G03dw+RolvUyPUoq81z+k4r3FeV9R8mGIjg9nqbLK0ckRF+A/uqRQSGCz6RUeJzLSDf0MMI5PKaaOYmrI4SvGb9qNy9MXW+1z2AOD0G8ahbuuIw2SHksc2JMeR8mOkBX/955G6OdVtgAvdoKNJvo9JsElp7Li1QvJuteJY/0s0KSQa53GfZ3uZa0pg7joehK2+4ibG8sibQeWJGox74phSFk0HT0atnrHE9WrgSXJUVQaYFFKNC7DYAq7+agzuSG5EpCU7wPzFqJfu5mBZ/yMVudBbojmpicGU/H934nymhgiCbr0DP5qhYxj4ULGf3g5Fd50QIcsdPRJ2EjdOpkuDokuDojdpfi8jlXw8VeAF5rcgFaZWNu+RxmuazxMvai541rBRym4tyXw5Msp3PXFcJ4a2ZcrMofzdv/32XmXoKG/EmsXOWBc1nec5rgaLVriiKOSCty4+YyPuZtcBmEh016N3lLDOvtbPE8eK3Eyh9l8ar+fnRYnq+z/Zi6f8ThTW/w7iExDG42Vz3EyGitM3wFuAR/vVnJ7fSj7QpFrKJLN7nBwXc2yO4BRalvMfyd/xcbtf3WOeBZEFjNxUYGF1LBQHgyh9LIavBRTs9c4rY+D8q2jRYOvrCf6TaPo0vtnJqQZeLZsN/5NIzD3/oUiaRHseYZweprOjCOuCNsmsPcGqzQJPn4dXurJ3cbbeanp/7i08Usml83krROsvPjgTnjkLbi3BAbXwsh4ajR9+Z9pJBc1LqVAuoav5Tup1YFXCz8mw9Y46Fnj4/RyGWPAh1ur59Qu71CWfxs7p34A88YDEtoeRZhEAk27Ygj4DQDoo9ycddMyvpl5Cj6vkdoOXn64op680x9TVkDelUDMzgDxazRUD5Rwd5VJ/68GQ7Xy9jyJYLh8Bwlxcbh2JRD2m1NkqNOCGyQED4+VmHplxOe/Ci5+BUQakACWVLCPhHGfBfAFtBhS1zHvxk00BYsrdls28oSzXzjiDdEdMxspavG7DWVClLCLShTBbK8Je+jcUHvLMJM2K4I7pgOsqoOdPvAJMBuUHr41fij2tMyGOJDMhkOVRXEAqMUXxz5HbRZEW0sKHQwhCwJEi3FCkXUOX+Kigga86NGQgonuJOBDxphWROKI9ylO+5lprMCf9huaXivZXngSpm0TiNpaz+WlH5DxzWbSJq/kso+g21eL6DtiPCw/B66ZCQUeRt+7EIvZyb/dT5Pl+Y0X1jxH3Y2fwCYTZQ8MIev+35iU8iDpmd9xUeNSTMLDGPk9Kg2wNFUwLyNAWXQ9etnD2eUejAEDEIsxYODXkmvYdaIHOSi+IJMQSKV+WwcCfgMajQ+N1oPPa+TXLztyk+1yGjo2sXRAFKZt9bz6xBSSt29CQtB9sxZDtUSHtTICDXWDfBDjIxAToHogVHlj2CX5aO6BJkGVFk2q0gheIPHZ6o00RHiUZw91cOf1r6NLDNBpM0hPwnVTwRfQIgH39RrAGKwMtYPeUsP39mn0wByOeFNIBZrrVULMdaxgZZYZ2dGNGGLojrndIox2xRdgai9oOgM+GqTk93aJUircEIqAIsId0uqyvuYxx9XU2X7Zv73wJ/YBPuzWROvuZ4e5G5q6XFEzR1yAf9fqFRGEBDyPc1qM0yzMGizB/8l9yFThZgIDsJDKHC4mFOkZ0WLxVKHddCqB+kTclQPwCSPz3FdQvKgn5aUp+BfD1Fmv0Hfzb2CbwcZrX8fdO4q+8yqx3/IWTw28H59Gg9YHxkYllaDBG023HTu5otbF6PoVTEu6hibJwLNJ1/CJ2c/WeAnQ0rVezz9+q0ITUCbQRPC+PD4TQo4K5wRHmWqQ3OUo6XJgitvNObf+gEbrpWa34k2Pe+4KEi1ODKsNrF+XwPqvhiCQqEgKYIhq4sLT5mLp6OT9qy+laEEU2vFbaeoKDSKGit3JtJBDIZDKgBQNhlg3915+P9URQlCNjdwzbmN5/3vJeS9Ax80Q/b/m6cLZ65RWlGv6w2vOM1hknUk8CZzgsDI2aw4Xvfoh0swNXF74YYvfa6Etkc6uwVxoewIBPE8ez5HH246FzMyqocjR3KLyfnJYg4sJjKMvGe2usqysXuGBBL0ixpFFFwV7iHNpucJ2Js/b39q3uK52wKpz4O2SPyX97LBbE60btR/mxu2v22CTS9lG8lcU5iMuwIeGvW2UZmEe3cKS8CN4Ayc1ZV3JWdoNyvoA0JFonN4RjDV9B1IA8KPBRxw1MBK0qX7Mo7bQdI8OBqbBiI1k5u/EKPvosaCKhTMu5cYV77Cb+PBrbdF1JiftQaZUzsDiKSR/573cVfUhNZKJa+q+4MLaxZi9W9DgI2uPATfpYaHV6rzoaSIkhoqgCTSSxO7KDKSgRhpNPtZ+8zfkQBR11am8/ug85IUnM+6/ErGdBJ5EkP9Wg1HbRGJZEx6vie9XnkfNxnRyJs5j6qePkzcoB4tnHb3qCsEtiBJuNDoUvzkgEfDoMTS5mfngR1wwdDuJEUKQiB0tZjbY/k6CW8uZBg9x43bQJ0k5XlavVNPduqSEDawjjjhqqWGDLY6Orr50mHoKTRV9mb9keHjMBTj43j6Ncss6vrU/SZxjID9l9eRtx8IWOcOhPsIC0KLFh49twUyIvVLRJm2GdQ2Qomu372+dJcBc+7ecZh2/7xS1T22w3aVs22K1A2xZyvYQcNir6Yx20FiUbVvP2+IPRMmhFTNaL1fUnjAfzxxxD/iPcqAecip5VASXEdKjwbf0eqhLwxznJmHEbMW6KMtkvAvccuiqABPjnma270rOLv6S56e9w89nnUXHLzbS1b2LDjvdCEAGkCS0QrDdkE6ydw8m4WVtdE+e7nYXU4uepZu3ZK9vO6ehD1kJi8iIW45wZzCiTCbOr1EapePH/PcllM4307izBzo0rEn2kbUbEHpARpIUW8Cor8ftjSVUqKGP8uDzGjAll1FJB0bmbCGt18tc9UoeCWslagbKJKxV/F9PoiBwfiU37/mQJ5PuDFbMCfR6CT8g/KDXebk1+2nyl9+IJimasYNf45vSq7hv9HSuyBxNNTZ2OLqxyfYUve2P0tvaj+SnQ5Nkgh6ppewaeRvazPn4C8cQWDyFwWUbuWjGWCpvr2RZelfsI5VCjs8cK1htM1Fgn4TGup31/Mo9WT/SxZVFmWUtBfZHuNY2gzH2TvxqbbYeHnfM5Hzb43xhn8xj1lt4JZiK1h8Ln+NUMiHcQpk4azrjj3m4qx2K+F5ihyFtiKItSxHobhawOw9u7GOF2iwlStZYlCbvh4AlDkV8b7Uff0sZtecBH5MCHJpYs3M6wAGtgJzBDIrLUmDTSPr2/pVCqmDTSKKSdxGo7MUDvf0UbErCVQfNHiiYNVsoNcWz7Jabydq4FY9Oh8Hvpyo6mqSAF3wyyIpiC2BJ1GC6ypXoND6es9zDlN3vkLDlN+qJIgZvUFw17CGdiUkPkB73EzQ28KH+YU6t0BDj1yAhIYA6naAwMUBvr5uiKAMnshtNXRw+T0wb7zB0zzIx8eUYoxsRAvaU9aRr72I+Or8RV+UAJGROTvmeNc5TiFujo3qgRFNX0GsC+OTmSjvTDomktRB1GgRO3YMoq2FHWQYYwTCgCU/ARNeELZjWQYeFMdz7zFROsc5BphwtZgZOL6LWC7FRVfTO7cwG3JzgGMP5/5iLq7eJwRtl5o/WoBkFzhuVqPcBcrgy6zPSXBa8xiby59xKmtVNkUPmXNtjFNgn8qt1Ad0xk0BCC8/38ay1pLkGUmZZy6POgSzEwXRs5GJXsiFCk3G5XRVf+FCUELc3xv4E+njA61AsCqN9/ytsqBxfAhwZ9Yb6O4yhN4Xswc7pWMkMi3Q2vSlgE9n05slFFnAngrEaRr0KxMPSa6AuHmNcPXN6x2LbBNnJ8GaJnz3CS4zfQ00giTHLFzFl1gzSd5eTXluNH9ABzfaHFH4WEtlLuzxPRlIjT1X8m+iykrAv+ik38RVKBsTsXoLUQBmnb08n2bP3e1WyeUGnceOXjRF7Qq/U/GUBgih9NV5fEjEJpQgJauqSOH38s2wcLJi+5gFyB77Jm2vHUx5IJZoG3BiRJJnoxEbqahJAVsbr9F+UDIl0KM6BrutK0X7RATHaw9gr/s1n225kl7sDqf/SYyhVVkh+1ZmBTDEazDgLi3hkSQ2jes1hzqZzqTr9bh663E4XVxZevUyUT0NpVx9vfHM7sZlf00gDlVRwgmMM14+fi95tYqfFyVznJWykiL5ksI1idOjoQAfKKScDM+uCmRNzHSsotCWSaa/mCutwDhuR4npDp7aj6L+CAKscFEdtFsSBEpkvHJk5MZ2VuAnwMRtxUUEOC4PZDwtxUcF0VuKigjdapC4JlDn6ThCc9e8hKX0dSjzw6weL+Prvl3N+3as06JXl5RecPIoTX3mPe+7LZUtaergrQ+SEVdiOAPTI5JVN467CGSCF2+ogASdGFI0gSVTqOrK1QwWNOh8CX3gCLnR+XZSfgdkLwNAEaMDYREraj0SKr6SVOW/sdAwxSqFGQ00ajdXpaAIG8r+5lYId43AHTMz+9SLKA8kANGJERkNA6Oko78ZoDHnOIlwFx1A4IbWEpCUSUmUU/m9ikTvIxMaWExB6qs+BQOcAuXboSB56LHQkD2smPDEygTdW3kp5hRn/Enu4+u3XB95Eb6lhzcv3sSdzJtsopobq8HuuTS9ht3kLX9gnhz+354NL0X/Ax6QSjQ6I/DvgCutwJjn7tim+7ZYmt8ciB4zPUrat+dQGS6Ph/Lr2c4f35xEfBGp13PHNMSPAIUHNIaITDJDLMIxouYy+wWwHGRcV7KQOM/HkMgwLqVTjgU6FoPGji69Cs/QmKIuC2g6AxG+1BnI2+Sj3wmOzZjBwYzFzL5/DpYuXMXb5IjZffyGb/u9iGuQ4aqPjWqRNyUHLQIq4s3qi6OIvJ9Ozg6jSUvyAH4lyUxTPJ19FpUFQGA/jiqBbnYbViYlsGbmcgKSjNxL/B/RCIAFag5tnfrkId7QbzFsgdxoVNYOVV5SUz0GrE2SctAS9oSF4F4qQaoGujWmc+78BnFQHO/ydAA1SOJJWzitr6oi7MQoJGSONeMw+6i+rYXeKl3XfpbKpRwqeRKgaKPH6ivvJPX0ieo2HpgEgPVJDX2sGHxY6OG/mF8wtXEgDDv75IiRNh+gNXrQjJ1NrdfGy81RmTb2Nac4sbrCOJoVUdOgYw1hSSOUC2xQ6FvfEnVDLZutCnkNpeB/qCzwGK0+Rx0gsPBU8Fknk4p0h2i1Nbo8ZNvjNpWxbc4kd1v4DyrtAwZ62J+susSv+7yV/PGtBrY47vjlmBLg5thThFLMcFlLAJuZwMX3owEZ204k4AHxlPdm2dBzDy87AyY08wHCo7AOyDn9lD3x1yeg3DeeU1Dok4LJUoHchIJh83e00RUVh8np5+D+v8a9Xn6VneQkZZbuY+9Q/2dC1Kz5JCsepIRkDZRpMArSShAE/MhJ6ZHSAX6vhicQ7mR8/mHkZEj0aINkD5+7UckWhnp7fnUZfITEWSANGBkf1N8VwYqkBY1USxNeizbeC24hGFyAuvhyN1oPfo+X1R+fg80QTm1hKh5QtxEWXKZ9FvY+6Qui72IMfA0ZtEw9nPdHi023yJgBaBBrcxKBFJt60G39hFOkOLUgaSi4WNA2DKG0jpvUw5O2dZO7cwuTRNxCgmOcX38mW7zrx+JnTGJd9KhNehwGlMHqhh0cvn8rVjtvYxU78hWMonlmAXGglnU748bOJQrZRxiC7h3LLOpbanyc12PE9JKoTuJwkTCxhBZ/jxI3SF/hRJoVFN3KF5cnMJJqb6cB5XO+YwJys5w+sd8PgJ6HoPWXbmiFWeOPcfaepDbEqk2+HwH5Qq+OOb44ZD1jxdJeQTS9msw4lzhQUU4eFVDayG3eoag1g6Q1Ql6aUFI9Q/ODosqEs32TGkFyEe3tvCJhIMf/Cm31joSyTK9e7aXJHAZqw5zv5utvJe3UaPct2hWNGj16LwRdocX+RTnDo5wCwLGoww7zr0CCjR6ZJMnBtt0f4uscAOm5N46xt0UE7RCl1uBGJNMCH4FNgCxIlUZDoF5iEjCmmkjNOzmfpz9dRv0e5V43GhyyHelaALqqJmx++AoCPXsujrLwbXllPWcdSSseXYh8yGdvqKbj2ZEXcfbOfHFqqyHNiPaZlMegbJXzxgurJ1TT4k9BrvPR7vZq6zamk9tvCLY5cHvtyOk3+aOKmJSHtNHC9DtL9sMcQIKVTCYHirpRbXDjsj3D+P+biONOEZhQ8cWPbRRTDyGINLgah9Gtegys4OSkwYqSKpvA5oaq6yGXubdi5AgdNxCFRwa6s8aS74sAo4ZzTwETrxOYJOmg5oRbq8/AnVLm1xX/cK5hSn8jk2Gr+z3gY/WyVP41j3gMOFWwUsIliaiilgaF0xoiWbHqFrQhjWR9FfJM3IcWVY+8dLMooS2DVpi706L2CIYlN4I8BoaWieBCXLu3IJWs8NLmNhCa4Fpx8BkNemQOSDMiUJiRRnpDElq4d8CZGh+8rUnilVj/rgNO8v2DAz3ZdOk2SAZPw8GzJKyx23UP/wAoadJGTdxJLgDIE+UgUBbOCO3khWpaQhJYu9Wl0/eZGOtfqw/cqy6GfZSStjN9rYuZTc0EPxphadLIenb6JkVe9Ttm6Htz+QD7JZbWYo4sw7ZDp9F8J0w4BnXYAIrxUkeGnGKJNSt+LVFM9L510Mwaa8MlRbD0tAU86bBjehce+zGNnXU/2NKXTdH4j8V1KWWyQ2ZkEX/1fBZ+NCUC/7fzv7//l/H/MpesOE9Zvm2gYeTc/orSgnM27nOK4jJeySihyEO75a8POWLKJwciljvt4IMvJEMdlLMARPidUVRcS8ZBVcR+nIFGBlh+41/68koLmFsTbqva2JCKb67RV5XaIc3v3xZT6RLb4+/JEfeJhfy2VI8sxI8Ah7JyOES1uAuRTiJsA01jBcDrTxAPEbzoX6tKgsjfJIz6AtEJ2UQebTsdXl0zxJgvLN/UiHPFp3QTqOiD7oyJeRZFDrSR4Zm4ePctKSWhqIL2miq5lNegDWpp0uhblHwGUzAd/q0k5CfCiISftfq7o/DROQx8QMoNqtzOl8jUK4wmufqGcuwnBW0hsJlLcA+FnI4FkWccIEaqWk9DqPGi0HkBDTGw5IOPzmpj7Uh4X3TCZuD7r2PL+q7wpj0dyJhFVrWHD16dRdM0QktcGgo3bA2ifu597X/kbtcMb8CRC9UCJsr/p6DXIif30e7lhWT9mnHQF/VOdXHvDM+zJbaK2n4HyhvTw/VX1iWawvpEzGjQslzxssjTyeZceTH1gD8v15+M408T2rk189fIEdmS+xHSeZQ0uPmUeo22T0bs68Y2tBiOQjLL03FIKiMPNINvNdHZZGGG7Hzu2sNg+ztRw5BvZ+vInXuIaPMQGdjDou1S+Jw5PukStPam5W1r4H5a5WXTb6oL29Bz4953K9lDTStwnx1bTS7eRR2KrD/1rqRxVHDMCHMqCAMKrXCSiNKLxIYfbUUb3/gHiyqD3EjwEGM9nVJR1BU80ECAleReX9S5HH1dJ/JAFMGgxir8cOa2mfCwXLPuOjjvr8et07LYOw23UEeULYNxTDRotfknbIurVI7NNl44vmCMROrZHm8iCuDNYEDeKIZmzeC9+DE2SAUfMSHo0KEsPBRAosbYU8UsR9AL+Dw29ghN9oQh5cUBLnVnC3d2DKbaKmLgaOqRtwWBqDN+/JIHl1AV8+VMuiy5fCWNnIwZX4U2UOds6F6QabrM+hTfFQ/UkB932NDE3vjsNT8yg9MoqPD196E6r4sqPJ/PlzRZMgcms//wkPr9oCPef/ij/vvgK4jd4SH7BQNomH0ZtgHMzvyWzrjtpwBXxDVwlFZDxchP+0vXI7jikmFL0sZWM5VIGYeEkx5Xcn7WaExxj+MI+mZ0WJ5/bJ7eYOAu1l5TsKym3rGOV/d/YsONgLVlMw8HaFt7vQhzcyXjW46KSQqomDCDzlYmsdf8NR0MKWdYLm7ulhdhfg/bVN0JVbyVp+VDTKmvi/4zD2ZTcV7Uf/gIcEwLsoJDL+CQ48fZV2I54kwsxE4+ZhHATnry0DPQj3oG0TdTjVXzhTSMhWClWuXUQfeiAd0QyNWkXYU4LroABEVvl5ymzZpBWswed30+ts4wrX7udLd2S8Wi1mLweJBEIX/V91GB8aOgRKMWDtsVIqYE9PF7+CgBjqpbxQNV7mISHB6reIz7mOyqjoSHaH+zSRlB0Bb2RGIkgDYmRNEfI/0Fis9aHscGHaZeG+up06qpTiY5t5PJ/5NAxfQvGTqUs/Rc4TFbsReuxNAjyimfx7inXYen4C4xcimnk5TRe8jkzHD3pc8vr5O34CTcSDP2ZmNxX0A/0sycqnWdfzOOT//sH0kYjL6Y+wNKlF3PLkCJM63X0W7ETQyn0WhrF/L5a1t99Po5BOiq7BrDkPcjPr56N2GFC/8qlUNeTi+d3IH1DNzJt17ISJ5fanqWLK4sLbFM4gX4YMTGeq1v09B2NlTuw85T1Vp5ynsAmaxHPOspZkRWP7EjCxhdhO+ICsrmS8dTgxoBRiXIHP4lVLmSgbiVDMyOWjtrrH9o+mqw/N1iJkKcNbt53iGyJkuuz+eZJIyXXZ/+hcQ6Iw9xoR+XgOOoFOLSwpr9VwQMovnAe5wAyOSwM9wKexyWYiQ/3VTAlbw32dwggZB3Pro8lY6mbjLIvGVrWAzTBZuctkJh83e1sSevMlrR0Hrr6DvJ7jaP3Bx8z7pHnKDJ1CiZ5KZziXYseGa0QxAYr3iKzJB7a8w6bN13IJzvvxyQ8yIBJeLivdgZRPoHOrcOjlQkQ4LSg6J4qwb86SBRH+fkOGYEgvsc6YhJK6RXQcmuFnp5+PZLGR8dO2xlzw8NYTl/JE+/14tvfSlk0vifjT5rOirh4EPWQ5Wf63Cms35zF1y/dh1ur5WVxCa9e8jnP/UuPtXoXbPwbzHyaxi9vwhMwoZV8NHxsRl+iIWmhjE7nZtKdH7LJZWZa7gdsGN6V+F513P3M3Txnq0HeAbsL4bWJJTh3deeKGiOnmbehzVYsnsVj9hAfsXbbN/bJ7LI4WWyfzADbzXR09UWy7R352bHhxo0RI35OYaTtArq5umO1nYOdC8J2xBcU0IAbH0b+zRxGY6XmozgM3hQGpWwh4/m9MxNCecJtdkELifKaH6HvLRC/rPnYIcr3Xd+rgNpObtb3KvhD44TYZ+7wYW60o3JwHHEB3l9DdhuLcRNAjwYzCeQxeq/joSbrN/M5qfyLcXxKA14CQQls2j4AhBa0XrRxFXTARHGdkWLn2cxzmkHWAxJjl3/H6juuYMzyRYDgv6OG889Hr6c2NhY0Pp6Y8RZNZ5/Drd8tIN23G33wFUL2Q8ipDW1DIuwHNAh6+kvQBzM1yjVJOA19+Fy+nXifRLQsoZU1aNHyvSRRroFvtbChi5tLvijlR4tSoty7tjuX16RxNppgqhoIrYy4ZCkLXp+H8+KNvH31TkZ/sAhJFOPWfsKT3frjio3jmiEnMSLnX2gGbibloTdBCGIfG8/6Ugu3zMnDEeiMacllUNGDFJeWjJfdRP8KVaM1+DrJxFxWTIMviepMA0In2NZNT22/KNbdEsVw60tcb7+P/hYwXQK7l3Ul7o57uLRY4sKKOC6a8DonpJZw3X1PMta5Mbz68Xrr10xzDmGN9X/0tVfT0QJD7c25u+87FvJRlrLs/CAs3E8uHVjGt3YHOy3ribYvxspAQElXq6WG7ph5xbGIqiwrRQ6YbF+P01LDLa+uZ+Govf+NTcfGKmq5afLX1PTxtJx8C03OTauCUhe8Pb454j1E+b6HOtVsn7nDrRvtqBHxEeWIp6Htr5nOJL5rXkqeMwBFtHP4EtAwlHTmsREINtkJ5gtrg74qAP+7H4QOJD/G815gTtkDjHUFINz7IABIrL7jSrKKCnFm9OHE19/lP4U/MO6ehzB5vTgz+tB351ZMXk+bRcC08TyED20LsfagY1yXaSyIG8mETRLxfg0BwNlBkLVHioirISoRutUqQvt9RxixB9IDUI1A6Bv5WujY7DcgJMENQklhKwPyBpXwwS+5GAN+3BotSBKm/CF0euQySqZ+gsheiVurw+T4G4m2y6m2f0Sffl9zruNUXgg8RKcXNWh36TH0qOG3v8cxoHQd9fMyqT3Hh/G/MRhKJbzpgl05EnGGKn65twOQgp7OLC18jX+eNZivdpTSCw+bNAYGPp3Ovy+ewFWZN1DoiCHe5mN1tpd1Bb35wT6dYdY05jKbWGCS40P22PqxxD6ZkbYpeF0J6C01POvMooTtBAgwADM/UtSi58PEoA88CAsPZDnZ7YKOFjA413IN/8LIN/RFEEdCixS0hTi41PMRdYZkLMV1OM1vNv8CQulpl1fAb5eBxv37m+z8SSXKB9XA/TA01VHZm6M2DW1/DdlbLCWPIr6RSwt9HBRfI1oeYDhxwaXio0MyVtYbtG6Q/JDyG5qlN3HNzs0gS0AAtL6gamqYfN0dODP6MPm625H9UQyaNgOT14uMhGPYSPKHjYxoedOy8o2I/f5W70EbjHqVHhFaqjSx5JVNY0zdEpamaag0CJwdAvRokPBom78QA0BTNYyUIU2G0ypgSUAR2IVIfBxdhvvp6fiNMpKQ+E4nszXVT4EZnHYvltoq5qz9gVOqK0AI0ieNQ17bi6TJl6OXA6R4mvCOWUWJ82F82T9zeX468154AP2vBirP1uPr6qHxomoEGqrnDkDaacD43xiqz5HwpAvcFyhVd1EayJ65gW8KrfhwMSLzNp57eR55HbSs00TxhLEDmjUmpi95lAouIy1H0NNl5qxpmaS4BnCaLZcvKKCYYjZQzEZbIl5XAqfZpvCR/T7KLeuYZ7+PbRTjI4AMNAAO1mLlM3Y5zmFRloWTHPeE09GG2iHWDN6yBgad+C8+edzB0DpBIw2sx8VjwXXqAEZj5b3fRmEprsNed0rLX15ocm7ShXDPnN8d8TrckKXviyOm2yEpUY6kteVwUO0rD6T1pMph40+PgJfg4HVs3BrsX7Y/IgswCtjELuqoiFjKBhTxncPFrGAXT6J4dBKQjIk9SycQqEuhuVODltYNbFqWTzTHtmOWL2LuU//E5PXg0SqtdwwBP01RBtxoSfI2tnnPVVIM0cKDIehcR0bFHnQYghLtNGQyJGMuAK//JhglSywHFmoEfr1MfPo67t+xGldgBF3oySYkeqNMxPVG4vvERh7YY6T7fA0n2WTWPfYBidlfsUb/AJI8l3d/fhPr4l0M6GKj9p/3IjXGIqLr2ZP3Bk3Wn4nzenBrdRg9fjpKgqRe/6KqpAeBDj62P7EHRs8i9ctuxDw9lqRhmyn94QSqzpFoGqC8F53kJT1+B42eaPa40+ke38APd4zASDYNzEZmDzdnLcbs6kmuvpwdea/R5/ZpJGd8RWxxV6pSqnipswl/9hxuKjiXB+xPssy6gkGOK7jANoXZ9jtxWj8BoAdmGmhgN5VISHSgIzpupZgGpmRMIrk4md3mCia9vUwpIb7dzkf3KMsgVfbbyuBzz8RaGs/IOTXsoJiumFkSWgJpkSN8DaPa+Dd5CCLXrEpw+cFSuRGnb+MhjYC/IYtaXMRj4aw2lmsC1O5lR5ijJgJ+HRubcPH6Ada2RxZguKigGu9e58RjYAW7eIrmCRIBdCaODr0jm9aExDfyrLbMBClcCTftkmuUFpQBP4aAHxnIHzaSOG9Ti1ECESMnigaqtPF40IUth1JtElt0nXimw/WUahLxoMORNFyJzhFcIG+hO+9xNpshrhZvxyoe3r6CXoE9jGYhnXmfoWwiDRgWrJYbURfNtWkaRtwt+NGuYd3F51AzP5PzLDEkLYjF1n0QGE8h6aEr0BcnoivXISeYaLroJwD8X5xMau9/Ez9gBmVfnUq1Xknr08bvhtvvgcyfMb0+DLHDxO4VmezKkWgaECoJl/GLKIQsEW1QvohK6o188+oc/ps1nhLHQKCWm+wv8bBxOwN8Ps589hw6WT4lcEUB1ZY92N/M413nMMYVDKeHqxOP2O7g5EkPc/74l1ic/R+c1k+QgFRSeI48OtEZgUBGppIKailAohyC/yY0+Fr0cRhqh8qBJcx95ityHh5N1swxnMMj9MfCo2smNDfc2Vfvh9UOmDH+D0+22WPBogN7776H3H44IA+5KUexGppy2j9H5U/nTxfgW7HTGwu3HuSEQ8iqeIDhWEhlHH3Dx8pp5BtHJc9n3cBQR28A4tBjZyQxaUUQv51mmQyVPESKbvC5qQ4lShZMmfUKWUW/YV25hJ0dmnNDNcAlyxYRKsOIlPbIUdMDe4gKRsA+NNySbqNX78/50TSQBNGIAT/WqpUQMHB2nURHlmGgkkS+44kaB2fuqiFeDgTfSxPdqCSV5fgQlCDjQ7A5ANEVEL9VYkQOjLMkYcm9meRfzJxku5zsqp1kjYvnhEFfAX6EViCNXqF0ZxOC9Inj0Benot+aRqLtckZe+m/6Wmo4Ke/fxH2aRTfLk4wY46D3Cb/A+d7gJyUHt81LJj06OgeDtgmfrKV4ag/qXIPZZHsCLWZGWOfTIfdVZKMbqcGI4Zd+xOfdhN3+Jq9a56ChC0/ZZ/CLZT0F2d/yylNXkOn2M2p6LhISJuAEOjMGKxeQjSb4XzIp+PgVA7P5LO82yi3r6JW3XYli+1jgdjsZVpDXfE6xdTlV6fG4YhuYwjr+znuMfqKgWXQjrtmLT23gc4Pe+Icm26xGcCYr20PNAVkObWVaqhxx/nQBHomVd3EekP0QSSgSHk5namhiFaXEBTvyaoAJttPJcKUxwTYSynpTv/RaVpTFMKHsEqjvhCKLobfb2oIIOrpNcYRa60T6wTm3P8iWtM5UmaLxabRoA/69RmmLkNTH4mXurn8ypm4ReWXPYhJePOiYnHw7Y+q28Mmu93CTgYdktAi6sZu/s4DYoNUSEvY4GjDzFn3Ygh6J3ghkrcATB5Ztgvt/0WPZnkqtOcDPj8fxbO+rcaUmUbDtYkCHFJDQfHkyiDyEdCJlT87DZy7HZy6j2v4Ri+918euq6/nU+huxj1+J9pcMyhyjuGrOk9Czmi5xW0gyVWJaB+l5GkzrYI+7IwCO2EdZ//J6ThrzEXGWdZxod9ONIiCa6IKz0LiNiBg3Qu9F8uiYknMPg7xm3p0+nBcm/ZPH7S+SXXAWKcLHMKmSX3LfCVYIGsMVax8yGxmZ/o4LuTVrESMcVyCRyWZrd1513oTNeiULRgFznGErYTkv0ZGZNFAFgB8ZW92HULELdHoYmc2kUVpMc85h0qjI6c8goUyH2+ccWOT6J5YsHxTReYrXG713BzmVI8cRn4TbF5EpapP4jiieZarDxd1Z40h2pFAX9FK7k0A3u4/tlgo+tC+BTSMRdak8uUnLM5v0wTSzZrkcs/x7Vt9xB2OWL2fviFiJOhecPIohr3zIgpPPYMHJZ9DrPw6q4hPRywF0tDQv6jVRBJAIoKEJJd9VRDwCKDm/UypnhBV7py6VBXGjmFK5jHhRiZ4iVuquYZPmDGS0aBDogsXGysSeCR1N6KkjlS+IYjOFwI0BiX4NcIas2BJnyBLeBC1bxnbEr70ShKBhzM/IOh9yip/dT0SBlArichrHrqa88E68rttIO2Ux7u9OJjA0j5hJV6KpNpLYdTs3PD6Z55b/k62abiTW1/LMubeQ/m0ThlKJDvMhLU/Psy/mceZT59Jvh8TAuSfi/ehV+lmH04CDpY6zmVKTSYm5hMfznqahSyUA0TslCvJ7c+KzN5O+thPP5UzkcXseRebtaHpUctPwXgzCwj/I5U5y6EsGVewB4ALbE6S4BjDUNhE351FNFKX0ZGtwPbjmfz9r2cgYvPQliW8x+WoxN0Zhf2UZVFWA3wefvMF0FuHGz/TA13v3AT7YzmZt5QavdsD9GfBAxpET5iirkuUQ8n/V9LOjgqNagENtJ2/hC55kGT5krrSNbI50UfQsj9FcbO3MdOc8Vlo3YUwuBo0PTLsJ+PSga4CoJtC5wdjAlPfeJ6uoiLlPPdVKhAE09I330GJp9lD0HJywlIOPAOCXtEzvci2vxjxHBb0hKMCRV4ZsiHR/Je91Pg1nlw7kdLkXjA1s0MUjAwtiEji9N+R0ymATFyIH76f51X1hQdcQIFZaxCW8j5nNnC4JNmn8+IDdCO7cJXPJvHJ0/g9Bkohe8Dc0fj2+zntospYB5SB9hCQLxq4qoXO9m7yXf8b41FUYXD1ImD4G/dY0qrR6XrQ/zRi3g+5xv1Jz0afEl63mxeuuILXfFnQaH4ZSiP4smsrSLgB4RRQ/vngbgSwnbsdn/JpzNxOKo3mcZEqRqUNG6H1IPj01U++gKfgnuU5IfH7RIuoSGkgqjqObzQQoUe9WitlGMVV0xMPVfGN/mwrLOhz2LxDBr0MtW8PL1odKlG/lXbbQgPCczdDfinHc/xZFN/wP6/AIH7SumlxGoUdLXK0bR3pt+17wgUS2rXODQx7y7mKoLD7kGRC/G7Ug46jgqBDgJTi4liyWtKrcsXM6ZhIopznbYFX2JjDKRGW7MaLlZDrzjGMNs7Pque7ys/nQdB+XPTlIiXorM5UliGQDeKPB5IH+G5h8w1U0Rekxeb1MmTWr1d1IZH75M6vv+Adjlocm9QSY6sm5/UF8kiZcMqwB9CLAI9vf4oYGG+n8hon68Eghu02HUqiRHtjDAyXzmNz/BhZ0Gg3+KMY2bkUDjG0sBuB0/3f04nMa6RXugKx4zP6wGMtIxIoGYqgklmWsGr+ETt0D6IH+SPSo0HDHY3EkNXpBCKqnfITHUkzThYvpYoauqXq6ZFyPccGJLDgxHVfnJHLu+hvuSR/gHVxMTe58PJZiAk1Gyl0nsOTZazB0mUtgwo08sucmLPcvYM6PvZg681J6WZwYdY1M9nVlnSaKqTUpPPSBF63LSJztMu6jmgF4eJQKHrbl0Km4K/4upWyyrOdp+4tMe/FN/DGNdN7ahbLEH1mZuZ0So8xz2fODLSiVDIiLHGfzY9bbZDuG8pO1liHOTTRaPw+aUBLdGMUGihiDFRtf4GIXtdSgp5yBH8dxqrWI3VtugS2/wtoVcNNEMBhh1Fimjp/EgHojFUkGbPee1a4X7IjppqSSRSbhtBbm1hFzyEPW6CDZfEiatEeyEgf3ksXKg10xQ00/Oyo44oUYANeSxSZc9MbCu63SaEKFGgApmHg96zZwGYm3wFlOMDGNJ7OuI8OVFvQMJQIamdIMmHPfZn4YnEh08lY6Vg6koXchFZt6QF08Y1f8wGPvvMfk665jwcknM2b5cqbMmsWGLl244vvv0QDOjAyGvPIKY5YvIm/Gs0R73aRVV4Wj2hqMxONusUJbCB8hoZb3yrXYLvVhdOfZdEPLrJ0LSGcTtaRjpBEDtW0mxfnR4ZP0aIUOCYkoahHAAs1JTPnnqZw/W+Lq7QJDQEJG8PJEielTy0HcTWil405DnsHg6hG+R39qNSd/dyH5mV3xAWibPVCtkEnv+SL64jTSzFtojPdS90s/4gZvwOHqr5zjS0X2VfLyrEeZbX8EbZkGjQzn6SrJO+F7qu15aEgkwXYzVfaXiVqRScL0G6jJfYvP7S/xrtbM/eQxStMHXfANlxhl8t0DKLH8wsvO4dxLLhaG0zNLwwBXb1yWMuY5N3Gj4yZW2UC2b2Wi9Q0Sm77mmRdLGT08D8eontj4gkvpwHJe4uTBBaSu6UJlv608YjQrwrs8mMUyPgt+c+G48ixsD52PnQvClXUtWO0gS98XV3JfLDplQg1oXgG5oxmiE/ZOVTvMxRf3kkUxLsxYeKG9FDSVI85Rk4bWFvvKjAhlP+RzGeXkMNxuBIubV+1f4qCQXIYxz74U2RhAipDALps13Jmbwfm7f6Su70J2jngR0lah6b0O4ir54UoTl7z1Cl+cfDIAU2bNIquoKCy+MhDf2BgU5hn0LC8hPSi+oAhjAm520wmAJmJaTDBvN6QzO+56fETxg/F0KnSpVMZrqaATS8TtnFmpIbcSOlKNBoinAmNQfIl4jZBo7zQm4Ey5jWpGhe0ICThfXkXBk2+TXryZ97vJePUCDRIXz0a5WpLQ+QMkuH3UPfoh0Wk7CK05p9kTw4JeXfFptRHiK9NF1NNJamRP3iykwZu5Ky8Ht/0DPJZi3PYPwvcn+yoRUTKf/XoNstDgHuBHa/AwYuynShtloMG6gF3OMTRZvyC64Ew0biMxjrO5uGoi/520gtGmvlT38eFHsCehntdyP6LCso7S7O+4K2sZmxx1vO1YyM813fnNvIt37DOYgiK+u12gsfWgLwvYY1rO9IuLYYYNKwNx8gA2buJznPR9wk+lpZzMcd8q4ntNbvOHPDIbDEasMSfjXNQX6/hrcKyZGe6yFmaIFXtvRXztsRG/pJDlINF2qtohXB2jLa7CjhkLV6krZhyTHBUC3FZmRIkDvsmCkxxK9kNoyflOVnjM+T5F1LIrqwN3Os5gHpcSk65F1ir/13ujAggEUW4d111xHsMdFs6blcry9G8ptLzKmO9/ZndlL05an4/zztt5btZ/SGhoYEtaGnNHnkpTVBTlCfH0LCtjypuzcESNxKPRhdfbiBRaHVBFZz6jeYkfAcT5GunQqGE3Zrb4x1DZtZ6U2gCV0UYWG87gW3Md05NlCjWn0EgyJdqByMFfR2TEvKYvbLaUcPccF3ohk8gydDSFj+sRpFDLJfplzMrTUtpFDo4RAJaCeApZOpEaUxT1lzjZvuVu6v75MbLRQ/39+bj1WvQ+Oexv64Vg1cYFPOr/mZ5nf8+49y9l6kU+zh37CYmr/86D589k6WdjuNmymu8/uxB0YPokGkMppFdVstBt5IrCFKLW9CPRlkOs42Y6ZX2GyXEu1fY8PJYNyFNjiUmeCtOrwF1Fh9828fzEZ9hh3kHt8K1Mdg5geMF1pLmyGGmbwoW2KdQXD+YjzCTZbMx1rOBD+934LCV8aL+bTmRiCOhJq8yi13/O4kTODi/A6WAt/7TOYqbzVUxThiqR751TmxfqbJgNHjcsKQjnA9vil+JiFzk1q8mqJGw5tJlKFhLYCXmHbB24g2EYVl7AybCDzCpSOTo4aivhvsmCWhdhqwEUUV5vg1r7LkptBtJdHYk2Q+M2QAaP0QeAzqtFK2vCQlbTwcfFtTeT4C8HwKPTMW7SJPJefZWeZWV4tFoMgQDOjAwmXz+BKe/MZkOXLoxduZJpGZdg3fEFWQ2/KQUZfmWySwcEkNAhKKUPGxjJSGa2WB/OLUVhFF6q6KRM3Glk3ozPob7xbH7o5CbWX8H7u5bRJE7hJ0MGM8xO5hZ+j0mWkdFSwYUUmaN5ZcIn/H36TcRposho/JwYNuGWomgUFuLZAEi4zGdw0pYM7LOf4MxHbkNGwv4vwddjg90hRBNIH4H4SbEkgJS6JuoMenK/L+S36CTmDUsjrsnP6ZpdLDR14dbqQr5NPIW1VNPfX8UXnv8hYuBmy2o2/5JFat8t1N1XS9Tj6QzdGcND+p3Ef3Q7SJBou5tq+4skTr4Hwy998ZlLkRNqqLb/C7+1ii44YVI58pOL0eDHp5HQyz2QpR1odBqqxg5iYWEmQ+3gYgW/2uLQ1CSSVNyZcssmXPbxPGYbz2P2OXxpbcDDUATx+DGgoZrzWM3nOMliGi52AaBHyzz+DysDuZAs1uOif52Zz29OaPZ9Z9hwnGPCdm5PajyPUxzXu2X1WnuWwrG2FL1aGfen0p4F8acL8L783kh+nQSbp0OvXDhhqvK88ClAgMao7C8scFNV4yWpOD54lSK5IS9YRtCZFfRjFkZ2Y6Q2PP6WtDS6lZejFwI/UJkYT6PBAGjoWVYWXv+tSRfFtF4XYq3/hg0Z3Rm7cjFGb3O7SRmJRpIwUYsOPwG0CCS8kgGPVhDn9+ImjliqKKUPM5hDXzZzJsto0nvp6aslgJbZMX9jkL8IR/dYcour8Pn6EE0RpXGpJNeXUy9OoY4MevIiGpQMjO3cA4BXJ7jjYz9fX+Tgm3vn0+nV1zB6DKyz+Ml2ChANICWCKA6K8OXE1b+P2+TCp9OCECRMGkfCC1ZqchdQ88TcsG/cQfIRjZer5nZk8f02JC2cPeE9lhdY2TYynsIuPcncuYUv3nTTy63BY1lPyepL0Xi14AuQ/OA/Mb59JUTp0NRqCaRUEkirhHMqifqmK55d1RgqQGj0SLIWwmXmeojrBu4Svhu7lpRCHW9kJxFdkI0/+xseny5hdOtYP6iCsxb/RGliEjok/AhMNOHgQkZjxcFaxvEffMG/X9Iw8Df+y1nFmXzDAnLrchk9aGrLf3xBMXVc+Ro2ORF7wf1YG7YrkW7I823dkKe9/QfKny3gahOeP5WjxgM+0Eq4sgKQ3cq2xNEsviCQ3VA420cpDXw1YQ31KaEsiVDqVnMKV6+od0ikCAO1BIL1W/UGAz3KytAHv3x0QEJjEz3LKohuagqLrwBMfi+5W76Auo6MWrkak7e5FFrJThDEsQdtsOqtHgM6/EQJN0n+RnT4EUj4MLAx2HDoLJbRiUqMskwALVoCjGv8mSxPJQ9s3cLrD2zDoN2MgUo6NW4kRlSSzOds6ftl+L1pgC68RRSbqOxSh2VFPd/1PI8ur7yN0WPAbZSZblfyL5AFUExc0/sYvZdimm8mfsT96D4/iYRJ4+gePYuEZy5G444iYXp2MEJW/OM9RFGBke+mPEDZ9p6UFvdkucPKDY9NJmkhZO7cwoN35RA75x94LOuptr/IQqEjWyTz2+ejMb1xNRq3AalW+acm7U4gam0/dDPiwKWIL1oJKaYDBFdBVhBQtwt8TZz+cW8GuHow+dlkrqtZxN9nBzC6dTQZAzx/7w5ee3QxluI6HuRsLHUxfPhMIaMXAYscWMdfw7y3ytB5FQGuQVkP7hs5n88vcTM65429cn8dugqybhwKgbU4fRsV8Q1ZC63TzD6eBLeaIC1z7/SzgynIOES9hQ8YNQviqOCIZ0G0Z0mE7Ib+9qDt4AIkWHvZZmIKY0msMZFUHI+QBLse3kbCGynEVoQWy2x2UTPMKxhc/HiLCa222khWx0UR3RigKjaW9JqacLez5vPdCKrDpRqaVmOE2C0l4RXJxLGbWPbgR4ebWGKpxo+OaTHPEO/pwXliGYHAKSQCCdKXaIUHJNALKEvVkVRuQoOfgAbQujH4BF7i0OJGgy/82l5NPFXyGSRIy6gRp9BEL2QEi6y/0ql4AM9P0bDqnHI8mnpyd6xneE0y9149GHmDCQZsQd7SBY3bgND6EfoANbkF1Ez9CACdCIAs4ddq6Pd+Hzrccz3CBHc9k8PMZ6aw2ZVFr8FOrnSdxHRhJFdyM1r4OcMXx7YoLWuz3uEEV58Wn48cswMCu2kcs4qYj4cgiWAMkKyB2L9B6XZwlwPJYIxB+MrYrE+jk3sX0cFG91vMbuoSAjxi38HKU3fSqaqJzPh+LEirJndeIVOn5iulxeW7cAyOJeeBUTQadUR7/NzQZQTL654gd3Ixo79DmXwMBJTz5zgByCq+GZc5bu/WlJGEItadv4LsV0qVX2/uDxKKiB2n3YVt7IvYY/dThnysWRgqB8VREwG3pr3mPJ2sivfbyaqIcLwFhn8Ggz+SecdZQNIExe+VhETy9M7Ux3iCVwp8+ualgoqKT6ZK17+F+Lb1lZNU58UQCGDweoPFDi07RRCRoaCJ6NgbqlQLjZkkakhmB5WY8WHge67Hh/LFoMPPfQ0Po2cbL+muYgm9KI7qhqRrUppoajQ06uNJLg8QRR0avBjkJnZ28VJr7IiEhDZCfAUgyT6SNF9jFJUkBpsRaZA40zGA/r9omHqnh1h/PW5DT57qdSEPDoih9OlaojpXQo2JxjE/IfQ+Akl11OQWEDt7BF3TZtA15RV6dv8Xj91nwvJbA483fcT7u3oxe1svRlywgFvum0xfs5N7xk7mBb+R9ZKO6RjRBlLR+JWWoB9nf49f50WOqSMQV4vQB9DoGtG4Babv+iFikpp/AQ0NiO0/E3BXBN9ZBfgbmDdwLAvdJ2MI5kHLwdrCZ+zL2X6mD49RiyszmXmpFbjx89RlGTiuDOby1u7GdsepFHdNoDw5hoRGP7bxL/H5lSjiCxDXYa8+EPa6U5TWlGs77l0ZFyIUsSJAq4fzclseD0bKtnOn4PKDrX7vIVrwB7MlHNsgK1/Zwh/ID1b5UzniAnwrdtIx00DNXoUYoETCq2w1/Nd+N5usDqxk8oXjRqRpSg8CgaAxzsPuTnWEVgnW+xSB7MQKzuQOov07W0S+kQIGzQXIMhDndu8VHUeKtgC2MQQvUeHxQmKtCLeMniZ64ESPh34s4QseoIrO+NARhRer/1XiPFo26AWzk9wsHFqPLEGTFI/JV4s2+E5cfTOoNSZTY+hNjLuKKmMKtSZjWPBl9OhpQpL9uA0a5l+cwg5zFV6dj9DSnnG1bmae1pWzHTICiY2GATSOTaM+OQ52dsK4sRPe/jvRVSaR+Hw2+uI0dOWJ6CqT8O7ozNJ37sX59nxGnP0b6AEfxKyH085dwH/+dxIDbQuYuNNNdzfUYWBZ49l8+Op5bDZ/zMNPX4fOH4Umuh5t0i4knxYaUgAjgaq+aOozADMeg4TsNyAFZLTh8hPAX8lQO2jMHlbG9cCvl6hKqadncQwTbUPQfduTO0+bxCDHCWHPWkhgu+MUHCvyyPrwarK/24x5Vy3mnbXY31mrNOARQGczdDLDo2/CHCeOUT3DqWfWQTfhNL+J9d3/Kee/nrO3nXCJXYl65QB0HoAje6qSMbFuhXIugN2JPSWhOXXtd/SJOFAhta0GV5WyBfgAG8W4+OAAuw6qHBmOuACPxEosCZRQHI6CQyloIRsi4ErglIv/xfeTSgH4JQeEEgAjaSGpIpYBy7pF5AEr2/7MIoEi9MFKuvbsB1A+CA0o/xPTclkh5REP6GigM535BQNeApgAXXDiraWwC2TqSeJrbmcjZ5BHAXN4lhIyWc/F3Ml7WHxbSCqLZ/DqLmgExPqrW7yDvlvKMbk9ZG3cihaZZPcWYt3uiOhcQkaLhMDokRnxw05kEqhN8rAnuYpt5jJ2J8XQ95co7s+BThaBaf5OTPllxJbVERNTAbXRNI75GY+lGP0/5pHWbQtRKZUEkquI6bSD3EseYWHFGG4atYoV/xlD3I/w35IxXH/ear5efz7oYEQXP/E+mR0EWPRtNcMmPkjPrZ3Ry0qdmrc6mY2nL4Hu6+Gyb9hh1rGnw29Upmyj1OzhH3Nf5cMHliG0GjykIROnfAgJJjJsRdw6YRundizD10Uw/5aVFFp2YbNXcp7tPLq6ujJ28nlofX6QJDQyrDPWcvPNvXBldqTg3BMouno+RWPewrp0hyK6EvBAHnxeBKOUibrxvIOLXdiK/9Uc8WZnw2AjdGjY258dYlUa9AR9X1u90u/XJicq1sM375C1vQYIpq6td4TbWq5cl3PA0emBCql90AosCRuxD1oBqPnBxwpH3AOGvX3gUAqaxghpY6BkXrOBkDlRYtO0ZgHGSHDiPFReEFrYXSKd5QziVfTUosWDHwO6BA/+Bpko/94ebshO0LbaB83iLVOFFg9eovgVK4Mook5jYoecwAD+iwZBqGWjDwOPsxRtsA9x6AviTs0bJMsN1GmiMMoBdhvTqE/fwvZOXkYtiw/+qQ3VcUY61LnD9xGyRlp72crIAg9xlHATAFv71zD6lxmc8fn95Np0vF0tWLVVwmPxoJV3oVuTEe7JIPQ+6mZP47mzXyaQBC/4BvHUgjVYtyrpWxdOc7J+l4X+nZ28tm4IN5yxutn/dZ7EdIycJfuQC87ixfFPonMbCei97EmsI6E6jihfFG6jB+NDeXDzxTSM9BJT7KfKHODpvPncbLuOBruBLOvZyofdMw+K0lBC7gAi3BkD1lmKuci5nGIyGOQYyI22cVwUO5k3r/uR6defhFcnIWs16PwBujZooamBCfN/peD0DOwfbsa6rkmJajubIVZJP8satREXuzC6/cx5qABrhYDeCdBUo/RvSDaDqY0qtwgcbrBV1GCffx/Wn2eRdcdKXJ2zmqvmQlkSeiO3vhRHhaGCFMy8HmoK3w7vMQkH07GSyzVMbf9ENavhqOao9YChZSHGEhx8ar8Zv9GtZEEsgEg3tvDJCPGF5qwlpKDANceHpZyMn2iiaEKLrGxrmsW3tR+sZDUoRDZYl1ocNxHAQIAksvgEHdtIkncwkP8hoUOiY3jcjYxEiyYYQUsEJKU8QpKVEWNlL3oCpLrLqGq4iR7LHwlG1cq7iG/wtPCXfSS2sEJC9+XHgI84NEiY2IwMOC6Jw6+9m6+tOrJX+yh4cRkei4/qxxvZbf8Jj6UYWad0k5N8eoxTJvB41N/4uziNdfokcs76W/iDyM2eRv/OTs4a4OCG01ZzcraDXoOd3DBlMtMlI73mj+LOE+eSl5OLzm1ESDL/G7OInZ338MoD7yni6zbAZ5Ph3l7EFAPo8RDH9bYryXR1IGtsHcSvhIxNcFYM6CMT/RTvd7u5nLn2VeygJzKw0bqBu50JZDwxmoJzT8Bt0KKVvICP7oFCEqrqKE6PYfq1Q3D1TcGWezaOR+6i139v4MSZehamu2CGDTsXYN7Wk/SNt4M8BBIbFbFsalAi3Al5Lf3ZNqwEqxGcb5yB9ceZkNgF++q3sPhqmqvmItpaSoaYFv+u9sVPFODDzWJmt4iaW3u+albDsclRIcCRvI6NVdaZfDbncqotG+mVC+6USmSNHxHpDx4A6Swnmh1hQWxpULTtB/slKbiKccvjzecYgY6YKA9mGlciKEXCjwYPgjokjEhAD37hdh4lk9UIBBqhCPxaWk4Klmq7kVCdgEYoTShDr6WTRYv7iApmYURmZ3g0Rv57yjkEJAN6aklkGRrg7AIJJEXMJUlGN2YhJat30jQ2iaaxQylZ/U80/tBrCTS7EvAPnEnUfOVLelusgYwbhuPwdeSUQR/zhnMInxRfxua1WSzMv4w5T5zE6aMWkBtwM812C/1cfdDtTFX6/QoN535+OlmuTG7IvwTjnJ7UWDy8nj0PMa8QZdU8LQxuJHOdH8FOwA11RVBcCQtT4O5XISGOABoCCAJamZ+HarnXdjVvOk7HiI4xDFB821E9sZvvwVIXwyOfOLmgroDXDLcrk2lbahizogxjQCI77hRsg/awJS0BV/ppXPrM1TgyNVgXbUEjjaM4bQD3PvhvqI6GJmBPTNsTY+2ljIVE9uo8rDe9iLPyO6xPZilCHZxkcww5l29YSAPXAOzXhghZCRK0sCJae74AK3U13KvLUSfejiGOOgEOTco1WtfSy7mRE6ZCTGc9GlkXnljai4jdkf0g+jMLfTBroDmeUoiMJAMRx916LTra9ombX04GkoN/+icj0zkonHq8dEeQDhiJJoZ0tjOef9MXZ9AoEPTWbGphISRKFaTpXqMrr+LV14dT4CLvMfIeQj836eMpkf9OpxJojG8IFoVk4DbCdHvwXQuBwECDdC2m+bvoZJFJeKSJTkOeoWHsj8hGD4GUGnSVSeiLU0mafDmmzyyknfgcZd9dTM7fT6D6Cje+FNj9zFw8lmKqbHOpO99P9Da4aqmfpMdfUFa88EXh71KGx7Keunvfgu7rSRj3BljjOMP5D4YV9EMKfjbo4kkv0KL3+ZEii7y122Hcv+CkpfDdYk6s+RKvUUYf0GKd14EEl4dhtlrmcD2FVCq+LV8o/R9uXoBt6nI+vzmB0ViVybSeb1F4xjDcWsF0FpHNAHoSg94nUWdMwXZtf5hhIzHlKfQ6J4niTjh1AggL3Jqn3NYiR8tsiH0tR99YA7NzmtPKWgm1jXo2EcNq/k45xfv1dodh5SrsCCAVc9jTtQ8BS5KyBcBt44OoYoo1+x9T5ejhTxXg9tpORjISK59SxCcU0duh+ME9sxNaGrOtkdv2sddzHV5MLa0EjTJQtcmET6MJF12Ejsd4/XsJbuvIWaELMln4MKMlnirOoJTzaaQ7EolAPyQSANAhczkzOJOPuZ1HKUWLjAaJZARaovwBEpoC6HAT4xMtXi+AlgCmFtF4SJx3mM5gm1mQxDI61DShQWCSirhzjuBrK0p/B0lCI7zIxJBoOwnDLxoSpvfF4OqBvrAz2xqvZ/ebb+Azl+Ezl1A15XUSH70Sg8tMou1KkGJZurUTIwPD2XPhYgzf/YMHLn0T0xejiL36U/Rv3EWHnEnI8fX4zNupnzAfhAS91sDlU2HmBZD6HUu7387K0V8Q0MUA/SApAHp96BeobHR+eGAGDF0Epi5QUsBrL9fTEBsf/LKScBtl7rcXsdDxLd/17cxdr0dhf/wTRRzbWVrIzgUY0eHGTwHr2MwTzJm6DsvGci5dsoILZ9ZwlTGO0fWn8Mzznyh9If5ph29swX6+rdaMi0gZc2xeTFbJUhybFytCG9n3tw2hthOLBR0PETjgSbIPsFFBMdEkhHs+WLuDc6yyBcBo5yqvGbNs5ipPJlSboHHSfsdWObL8qZNw+ypDbqsgI7IfhL8Ggi1z98He0tmP/5DJPAIY8RFDFb3opFmGQEIjFFug9dXtFW20/DmaBrqyitPJxMUmLAxmOXrcxFAfTm0TaJEItFiL2U8MOnqHJ8/8mNDQhKwBZKUyTwZq4vW4jSZSypWKutbvtJyL+MnSi//et5gX/rEaqU4w97KBXDXvTBAakDaAMCFJRgTpmBx+Em0C3blL8X9ppvGxeURd7KQCNybHEBInX031lFkg+0l87Ea8j7zPmQPn8XHfBESwf4TOH+AKxwnMvPp2jO4oZIMbjUepMPD1X4+slzD80g/vCRuIcpfC5sTmTzK+AaLMIMlw/XPwjhUqOobfkztFg2zMoFaqpXTqb2StSIZ/B4AUSs0NxCQ0sc7ejdusS/kuqzcJLg9IXuiRB8MC4UIKFjlgWo7yIT2Yx8JR8BB5VDdZeOFFV3ND9hk2LpxZw/rYYgw+iX8vuYzRrxUqAu7IgapiSDKDNU8R35HZijhHrJ6cVbIUV6deWEo24yzdDe/nKG93Qt4hK6hYiYMPsHEV9gNrulNtQpkcMUJi0/7OVvkTOCom4dorQ16Cg0cYv1dBhmxfQYN5B3U1DSTsdeutaZ3lq2wz+RQtATT42M6ZdGEZWlnxV6WIL59QDkXb0a6CH02ExDcSSzmn8TlxVDGCL0iikljqEcE/qjUoSWqgaSHoAeKDr6EjQAwaPMq5cvO6zRogtsFHp/JatDSvQRdCAlJYQMbO35DdHViT0RENMOynrazO+oAx87cAPUF6GEm8DcJHk1VHlXM37qeq8K9aRdLFd3BGMGsi0XY1hl/MpIx/iKgfe6ORfXi0dcwLia8Q6ALg12l5wH4pRncUboMX//j38XXbjpy+Hf2FLyKd7UU2uGHIN3Dxm8E2l8mAEer7QGUXEDXwzkXgM0N8LZXJNWwxV1BpMhK9PUD6tjrSJ3eBV0MFNRV8NOETxjufYjjdcWb0JWGXUL6pRBTsvrpl1DvDBruKoaQYZtiYjo09fEPfshlYP/xGOT7KCnOc5MbmYfBJePSC6f0XNK8nV4riA5eiPP+nHX6cDqWuFitm2BsDWEo2Y28MKIL7XBGOaevJGnIqjuAMsQM3WVSGn++PlTi4jQxuJYOVOPbb8WyvXOGoXOXzjspt83yVo4c/VYDbajsZEl8vbqIwhsV5CQ7e51kMO1MQxTGUfLafu9a3zFtIZzlncgclDMOriWJXxyT6Micogns7qlIwGoWWQuePeK5DDveTUAS6Hh0y8dSjIxCRU9w8eSZQmrJHRtMaTRUAMlE0YEATrO+ClhNsmkDzvsht5Ov0q/ycifcVEV/rZYs5DgiQ5apkim0ZsEB5HckFkvKabuKp0GZQoTuXYqL5mJ6AnurH5yIbvWjcBhKmj0e/JpO4x28m3DmtwcvHX21F5/cw2f4ZTst2Zs19Bd9V09E/dS6a6efScMlvsDBaiYhXn0mD9Se451WIM4C2Jwz/BRLroFILFclQ7YP0gfzwSS6XrstjZ86HyLrtgJsEbwnuRDn8vm+efiEdHTezzrYQihuhwos7SQOWRHjvinBECihiHCy0WPhINnXU0AUzuXW5LSyKhTiYjo2bKy+jf4mR3MYIwbo1r6UP/KkNNG4wG1uIvbXX6Tg7jcDa6/TwPlvjTlz4sTXuVJ5T3/w8mD2xrwKLD7BRTjEVFPOEe2GLlphtsVeucPRUJfKN3kfamspRwZ8mwCH/91UmtfCBX8cWFt8nmAMoVsV0cjjZNhmdzwCA1MGNJpifH5XexgsEWk6dhYowkiikSe5Ct91lEUImhbeiRazbUuJCkWjkGboIOYbIztwtJ81a+7WNGNjG3xDokOWBeDUJaBiOVpsWzhyWg18NYaFuNaYPI426eBrohRycCpSA9LrN9Cyuxby1jlVDo/hlMEy2LyVGvEuKrx6tMAM7gBLgYxBlQD6wC0EFcCpNYwdT8eEcGPwbdbnv4x1cSPXjM4MvLvDqtOScksqDqzaz8IJVDHE+ycPWX+h43gjGjOvPoIuGMtfioeGiL5GNbhrGfkt1lhFO3wKGUghsgdUdoXoLyrp5BkjUg7cK63+dOE/5iuGJN6GZNAfMuzBd9ToPvvQLpSleZMDk7sh9tiwesm/Fo1eEuTLGg8PZlQzr22QE14IDFDEuKILPi5ieMZsdFBNfh9L1LGRTjM9ien2O0pgndhWf39OX0duHN/8ygxEyo4ItKPfswtH3YrImbcFx8t6RqMNNuBLO/lYOlm2/Yv/0WaDZ97V/+mx4Um5fBRZXYScVMymYWV+//1Jmteji2OVP84BD/m8URry4wz5wa+83dF4iKaQ7RnJmznQ0DQb07mgMdfEtB5Ug8WSoXrb366WznP7MwhBsQxkpirB3Rdz+aO0PQ/pe3nBbxRLN12uC18tAEj4uRccXQBJSMPUslPMbsiEi3iYCDX7OZDd9SOIjDFTiMwh0Honizon0KKlGI0DovZxXvZaFpqs5eef/WNk5jYDmdqAS2ArCi0b+DllbBPwfkAZ4UUSxCkl4iZXzqdOuV+5IAFLz97SlvA77ip08cs4J/GrwIUvN77Z7UyOFJz1M1K+KB+ybeSsx29xw83NQG9/ic5LG/gDOrvx/e2ce30Sd///n5Gind4G2tFAgVaDI4RRF8dZ11UXBqCy7KOtvvVddBRQVtUiUKLqiInVX3fVe9euBqJvI5equByjgAS33IVAotIUW2vRK0hzv3x+TpOkJKCuoefLoY+hkZjJJyqtvXu/jw46+oCaCJwvUvfD2CXDCSlhrwzliIiecaCB3ZwJBo5Edffpwe9F/OHdFIjfMHsAXU5K4cOZ8/KEknkYvirmr1ef28aN5zL60lCnPmzjPMlX3cKvKoaYK+9QCHr/iRO6ctw7bzOWtBvJECC+q6fNQcOsqSnoXoPlcFPdJixzi9MD4Wt111ao3UfzEIL1Nue1S9lEDd14fvuKgGiycHl18DzjMJ8ZRzRH3gMP+7xVM6dAHXscK/h8FnM5o+qORQBI+mvGnNUKSv734Ajm/hdqvOn6+Sk7hE56JNDaEkdCf6DKvroiOQMMlbG3rgzuqK25GJRCaF6E/FiTcISc0YcKBQjkKexDUiHAb21yrxboIYmYF6YqXGk6hIS0Bg1dv8uhbUc/se/PxmYI0pgvxH9+DKOewLPcWAobbgVQgEyQFlJ4EDWcDPuAj9GHtK/SoWBRE6UmTcrFeQYEBRVp+zRgCPuzLSrFurWT1Pz/Tp4BFvUkGv0Lcb4qg7wbiLvo7SdurIFAPcZ5W7xMA/b+EcW/jGlDBc1O+JqBWgKcJbGsh1wqjirF++Xtyy/X/9hgUhbzSdGbbTmTCgmtRPGPoseC4iPgqQVjv28W00icjqyI7Wct5I4tYeJXKef/xw+uz9WqG+lqcZ+VRYj6bzwt6UB34VYfVE0DLopqKEfvH09HKi7H/e3qrQ2wNkZQXdkNtpOGiXRIuqnoi3GDxLQvaP2cUHa7CEeLxnSvIdGzi8Z0rurxGjKOXI96K3FVkvLUgn/SSfExpehVENHGZ4Ktt0xXXAb0SPuZETxFG8UcisGCmF6XejOLRJS4IBA0KpqAQHujTVXQcxISQEYl0o62CsGDWcj3dWAih1RggLOImjOTiI4CJcqBXqDa2mc4I33eAJJ4qPIkvR+ZwrS2LbM8CCjZ9x5ZT/Tz55Wfcm3cRfUu9eM0Gxs0bzXxrX8AM4gVlHWBgjHMpD9n+xn32ZOZbLcAg4ExgCUgOKCeDfAZKSBiCQTDov6ezGj0k+v1ABUWrG1jRLZ7Zg/IYXu3im8xU0r3lvPBNJVbnGfBqIdQL+Fwwch2sGAqBIOG2Yk/3ZmhUef72Zfz71O94avK19N7vJa4J+O0X8Pj5cEFf2OBBjLtwpx+LK6WRpgkJ9H7jRJrwclXRa8y3rsOIAYPPj89swOwLYjTH4cHfEhF/6oRZk6FuHx+f3MjsO1PYJGN4d3RvCkoMuAbGkVbgaFXdwJxX4OHlcPLXcNx+/UPYV9phZNtZlOrEg40G7FvXY/3npFatzIdc2dABmY5NVNfkk9FtE1WX5H+va8T4cTjiEXBndBQZVzjBV2DlpNH5JFhaxDc6eRZs7kx8W2LWbJaT736PLfJbAopZF0dTADmpFrxK5EhPnImtmoAh0CqKFVpHwAGM+IwKDaZ0jLSOeAMYWccI/BjwkEIiXyGUh87XF7FXADfdqOBYfHhQCKBQhR6NdvRKhuIz6ud5zUYudZzL1Jn5XGPryXElCsfu0DvjvE0pVDhn0XOXLuLxviAzbZ9hYhmIl3i/A3gPqOVB2+toJS6KJntZVbCOMc5koCfImaD0B8ygHEd4jbhwEg4JUq0qlKYlU5qWi+24ICMbTJgDFSzrmYrPWElVooHxp52A6193QFUfPaINBOBbDd77DfTMRlFVMAWI2x+P6g1y61/O4L3L7iGvVMFch571fGckrJwMv38K+lbg7zYQw77hVKYl07wgGUphV+p+5lvX6bcIXLI/C9UbID1oxoMfFRPPOn+Pt78L/30f6wc11jP7xiA9vzmTf10wjeWnpuLqWU+aYT04T4Drp8JFeTDzFbhzHVR1gy81fQ7EH4o6jWw7i1IjybdEY7uGjMOxltvdw2vJ6LaJu4fXfu9rxDiy/OgC3LYZI1wZcRMzIxUS39hc1JXAtgUuzC1WG/44DxJabtffeKBnUiKJuD58QiC1O14lhYBixLi4J4ookTg3QZrJrzBA0NiuPuKTM/oQCImnkQDmgGAKeiO9W82Y8IcKyo5BF4QE6olndZSFECDAUMCEkV4obCaeHHRhTkTYCLhaPS9kUJ1ZwGt3u/GajexMP4HhK3xszfsn/cq3UGYJMmvKiazWEvmLfQizJ39JvF/wGWCHJYGl9iVAb1Di8ZtGYGYj4GW6/WqKtTzASEFJLQ/aXgEpJ8G/GSQeZB9JPieFK3boZXqhEjSDBAgajUAQQ6AW+1duJg9RqI+3gJIIko05kIPHlMjb4/eGfrKywGCCS5eDNQW6p+r/V/cbIxUnCj7MwQqihnoQDCpsmvYUK/qfAn+dgnLjUzQMqeB9+0u47bUoGjRe9TRZ7kYQwU+QLT3jcMc/xQvxV6PRiymcQ4ItHtmaxv5NN+lvao6FKa+lMvXuhxiw/jiueXMcaW9dAL7jwdMTdp+ml649vBQCJgKmIJNsv8V5+T9a7ANoP1KykzGTkeRbU+CgF+xsWx3RVbXEnX1HUnVJPnf2HdnusRg/DX50Ae5sAHuYJTh5z34te7RiPrLfwWL7pEg9lj+tkZR/fY1Rc1F26WLEGCCAHxIaQsdEp3lgA/8Pl9KP+LQq4lx7MEkTJh+tOucEAZ8CVc1IghcSA1E1wUEMK8cSboHW95qID5qoozugTzwLy3YCbkwRn7flrdUrGtajj81ZRzZlGFiN3qpRg4IHveA0/AqSEbIxNS/kylndiPcF6Fu1nbtmr6BvqYf+VSuoT2tm5kwvo4vTSLU+GonEy/qmcmuRhbNtm5jmnEg8OylQ5iAojHG+zoPTX2a6fRyTiyZQrOUw3X4rKNtxmweCkg6KB6NpLe8NqePk5kqUoP56ggYzeuWHgQxPKtZ9flByAANIkHE7dzLvy3K0Oj/jHUNDhnl36JcMF1wABdthSA/0ZYdMKIop6lP3g8GAEhpDGTAYyV+byPBr0mByESa5m4zGcuyTf8MJ9CbevovBLx3HGR/mgKKgYmI0g8nDzmTeZzSDeYxPmGafz2ptNzf+fSnOR++Dhds5b1V3BnjuQ0lai3Ho0/rTjz8Z4hToVQUmEyRtBoOfF6/R+Ovlo7FlRQlcuL34/ya3iG4nsyGsqBSTAb3PIm/SSvKOO+eAtcDh6ojHGR+xKX7IXN92Q3tiHFX86B7w35nGm8zmCqZwU5vs7xKc3MtvCeDHiIlMcqmklFvzykgqzSUuEwK9XLxnv5ZTbNPpWVKAT3XjS3GRWJVN2/41U2YV5+3NIi7vLAyliXgNSRiTGjHVQ9jQiHZ7xRRE8RsIL+oJ0EwSJpox4EMwoJBKkETKuIhMlhFPLcZQDXB0rW8QI4ZInAzQD9iNMBglJMZ6UVsmCjXowpTW5ir6ZxMkjoDBiCeumYTmIAHiefSekyma2cgop8JfbJ/w+eg4hizoxXT7yTxsu4FhJVuo05IoLU7mKWcCt9qqSHP5ySv1UqLFc0pxAR6moY989IM0AAFQ3scQ8BM0nkd3nme/eKKqIIKAD0vtTrbP3YdzQBK2EwuwryzHWrZB/3W+6hx47QGo74m4hfqUJuLUeNQqk67ffkIdeh69P6M69FoTTUiTn6AhiDFoIKjQ0qVojgOfDxCKtUa6uUz0K41nm8XDkO3reJursLEosvqx6g3giQ+lM4MCBqXFD74oT49yTWao7gc1F0BcDlQ1giUdXj4OLv0QXKm4hmVz9n8nt/Z2w4IbHlVpVvXVMEoWdDqusqBanxWMyYeW4aKYDL7CyYtMRoDrKYpYEa8zjXfRF0AMl5aFvWLgkH3jAoc+tEfrprcuxzgyHDUe8BcsoBkPX3SQ/Z3NZD2iBbLIZQpF9EdDJmzBr3rwKR4CJWmcYpvOcvuD+FU3Zk8CCVU921xJIRAX4NnzA/x5wvs0NScSTPERp9RjrG9Jl4VFVsI1Dv6W+uAwZhpD4qtHxEIjBoL0ZDnx1LUTXzcq+8mgiXOBbkiorkHYAfhR2IZeldANuIoAuUB+6HslFDmbWvndBgKYg25SPAFMQSE+6OGe2Z9wsdPDXbZS+pSkULCgB8OL/x8nrXifgeu24coyMMl+OR/SnYdtZRSUNJKMlzWamfvsGRhxEc9SdP/ZA0o6PZQaesg3YBgN9KdWbm15L0SAUoyB9RQtc4MpG2vJPoqd1ViTL9PfATfwzm2wtye4gygopNYnYagNvZbuRtDi4d4hegOFso+Ii96kD00yBg144psxXKjogp0VD+l6mtNrFqbbd0VaXlKbzFQWnIbVmc5oBmPCQFatlzGfbMHsC5JZ46XwhRVom6uxr9H/x8LUIr3i4aq7dPF1pUJtuF1X0ZNwt1hBNZF28aD23m7YiphQpIuvz6OLb3hqWniRzndb5jDYk8FiCmJJdnMl67mdAl5kcqTZIjq61asiBDNqRGjDXnHb6PhgaDe0J8ZRxY/eiBEuM+toVWRvaOUKI0Zup4gzsfIn7DQt6IHJo1KTWIFPq2Cr/SWutV5F/dvzQln1lkIwv0GoTIFZo4SFWdncN/99kstBqTehBAyEJ5JBdFIvVHLVQe1DdIlZEBM+euIhAyP1GCPC3HJMIvqSRj42UMNv+YwbEUxRV24C9iM0IryIwndR96I3MUto/TM98ZcIDMZvSIpMgwgCcR4jL126jm0DTOzVgqy1r0PBzV2z/068P0BcnYl/WsfxHDdSY3fRqHXn2yIXJxXfxXzrf2jk95jZxYxpz9GUcDkPT3uaGtLwKscTVD4E2UVQ+RBRFBQRUpqrgDr6NAWx7t6PM6+RnjeegfEP3cga9i9eq72ETXMWs+miGlwDtvHBSetoRqhKqWf7le/qwnt9yNAfmQ3Fo+CG+ZCxB1JqIfozUVX4olGPlmsEbhiCS4vn+nk7WWh1YSvaQ6Mlke77U/R5ELa1vMG3+AmSqMSz5dgMfGYDvUzdmflSMcXjX8f60F/15w41WDhvvYJJr+bQaEmEBBOYDXpiQbkHnvwMPH5YsLHdz0OkrXj4Ba1WxAD06Hj+I7oofzg7co5VhaJkA2kNqXzumUcpJQj6dLMUMmnCxetM43YKOJHRZGKhW6sVonWuwI4ZFR+eg7Yk2g3tiXFU8aMJcNj7/YIF7dqRw7SsaSGtzvvcPo1ayzYE4Wv7I1xsPY8PnB9jmnwOwZDnGiCIp6eLf40I4I6Pumgoi18Xn0BQCT1HWA2NBtDyUOLMkcMFQdq8K+FqiCBJxOHHTwLGUOWCAB5joJWUp7KPbuwihX8ygi00E4/e7ZaEMBQwooRW+DVSg5vuOLrnISQCyehT0kChL2IcC5yIKOOoT9NfmDfNF/kv+oXz95JT/CeutU5HMPPYlJtwq/E8NuUmkmmmgjwe5nn8ZDOK9xnlzGVVwVjGOHNpwM5ds/9NgifA3Y/M5yLnVtxcTK6s4ML9szDKGj3qVxR6eJKw1CeBko9zQA9sBf3Ym2AiqEBVfAbHz76T/HX9CCzsz9klkxjXPIg0jmN0Rir5ZxwPrvUwazuUeMFWDc5d8Oq1YMiDlGTCP4oKCqorDhpDdd++IPJ8HSmbEnjptT/QVDCbV7gbU5oVv/8Egmo62IcS/lDPcfTn36fdyy3PWbA/swyujGo/Do+VnPkK+QVvsZ0adqV5oa4ZfEHY5dWv4w6Clg2/S2u3KKeNBko8RsZXm3AeZ209L/h9GxH7KLRIZ1iwJzcEKfHDxoYHsaBxPUX8g+30oBd7KcXJbEop4VsWkERap6Mq08luNZYyxk+bH80D7mz5+WjGkkcFpQBkYyGZNE5nNF+wgFEF/yKpxIJPq8BZfCHn5r1Ht9JjAF2w552k8P7Z8PArkFcN2zOEKVcGGLP1Gx5c9irTT/0j7yx6GNXvi8RawRP2Y9yaAPVJ7UZatvjDYa8YBBMNFLCLSziGV4inEZ8hgATNxIV+bbTtjmt9zSQUvBA12UyIo5m/UGsI0jMYtiscKNSE7IizUegHgNc0l3h/E3WWfSyZUMe5s4/lsSnHc//Mc9rcOYDCJc73ecD2FKmuRo4pLcNn6U6w0kW8J0CxNojhxZ8wY9qD3PfwMxiA7Zbu3LFuABeuXsqkEUPxmPT/LxgxMnVnNgsSN1OSkYzqDzBlfRmztl2O4YHr8Nuf57KJV2HbmcCTaUGWZbqpsy4g1XkRr46q4uQXqsETRG9VyIasakgM6jMdUMHSB6iExmRQ6iExByak0vj6Zmr82WRXVWLy1RNU0mmWUSgaGO0QsOnbhWfBDZUu9me/y5bTxpC9IQslZT3xxw5p3d02vkBvxNj+Z3ClskkzUms/nZGT1+jvW6IP1jew69e9GPPWJEbPf44FA0/G/uaDWLMvhndcrLCfzTmnDcXjN6Ga/Lzt+rKlxhfaLS1fQDUl+DF54sltSKMo2YBVbakDzmEA3zCfEYyhgi1der23U0ApJVjQeLLNNMEYRzedecBHvBEjmiU4eZLJuGmkgVr8+IhDZbrzUyon98ZPMxUTPmbogvE0b1QxeltC3YYk8HWDj3v7GLHVxBunKnxzbOv2iMe+epEpX74bCfvFEEQJGiDOBz6TPj43YlG0NyQCZOGhL2WMRaGZ/Lgn8TcnIiiYCeLDgCmyflkyggel1RjJsKCHpT0OSERhLEGGUqVAukA8OxE+Q5+ploxgZk/mCXzXP8Bpy0v49rcNvPTOXCqcd/OArZLp9lOJ4zum22Zjs9/GB9ZLMOPm24JzGVZSynZLb0xp+0l0eehRKvhMsCs3i0lFDzLfOpTteZdgKa1mh8XE3NXDeTqhgh2mZMLzhAG0/X7s3+5j/DkZeMxGtKpG9hUsoLo8E0PfHdxx02QW//0BKmuzqarLpl/mNjY+dSyu214gbU8SQYMBQ7AverWHBzLjYL+PQEChJjOdfTcEyV8AjM6BBRVgH0rBwFxKPPDkM7u4+eWVKInQ1H0ob034lksc8Uz/81D+M/YLfv3yIG59ZR/TJ+fQL3crT9jGYvzdCkyrb2zdXPFpaLbv8bfBOy6wnw/WwUDrZorJdVAaBFMwgN9gxLJnK4uvmEv+hjrQsnEun8z4Bj+e5HosTaUQaAZTPEXdBmGldTGwEw/jqcUDWDCQhgE7yXzCKZRSErEUzKjcydtdTjzrKGkX46fBT0KAw4S748JcU1BMVolGrbaJHmQTKGkpDg5Hmn5DEFPQwPYMmHJl2/hTGBf4kK8zh/Lfx6ZxTP1efa8SRPIbMCRsYT8jSSpOIV5q2kWvQeLw0QsMKvHBWjz0wBBXT1yzG6JWRNZrNwKhfans5GR6sJYkalFoDN1JMuAOiateFiD0QuEuBGGpQSEvtYl48x7SGr/B3AQKjZRZUsmsvAzVo+BWA/R3f8yCgjoKShop12qp5QMGl5Szw5IJKPSsqcZcH6QhKR5/D2F1UZDX6M4km5dUVzzHlO6lWMtjePEzXOL8kAdszzLdnkGx1cAYtvGiHItPqcPk70ZuozBhwzYWDPAzencvFvROwb50M7f+cSNVdRkYDT6mPHQNr03cxN4h8wju7EdGSiU53asZUp3E7Y2b6EkPepJCwFBLRd+1ZDSmolaFm7tVms1+4nxRv6y0dFbcPZT0GWt57Jah3Pq3tRRsrmX9UGj2JVGwqZHigelMv+UY5k4tJsEbZPVgE5d88zVFT32jz/w95+BFatLr67n2kY946brBfDDuNErjkshSIMftwmXYzdDiGh63rSDfPgqsgyNdbi5vA6XxauhVwNukdyjCNhpwEaSUIBomnuNLHvJ8THHDvfRJvpUs9b0uI9tY9PvT5ohXQXQ2Da0jwt1x6WQC8Ln9Pmq1TfzGns8IexqpGqDpyaj12VCZIjTEG9iTEuSNU6GjsTvzzeczw7eQHs11LQ6zGkT5Lgl256AW96RKLsAXXhI9hA8T1eppmBUPTWTgV/2oSbuIa27GpbQeMLOd4ewnFyENhRpy+Zp4hGaOjVxPCXXA6b7yYPRW5AsjcfEZQehVm0hmVR7m4FgURgLd6N5o4dMp8/GaSvGmvs7tzvd4ym6mTKtlvX0e8+yDKNHyiaOJfqV7UV1BjEFIrffSo7SZHFsvSq2TGF78Kq9P+BVu1czC0d3IoRqDdTO/+vZiFl18P6d7T+CEYB0zS79Da/Dx7pIqirZl8thJx1LSI583joujuPYerPW5JKToczYCQTOPzfkr5We8yfknf8pXZienNjazZsdQ3vX2ZiSjQu/5RoIEeGnCN5j2AxgIKiZ2WUwE03Na3nQTMDqHkdd+Sf6mWp54bi0vTR6Ka2g6/zl9AKn1wracBKbfPJQHn95KgjeIO97AjFuOozShmcl/6EvecQvI48GWCWld4VzPkze8ScH6Sh55YDHFJ89g4sfreT4Nii1pFPU9hrUXDGPUx7fhvECPmMM1vkXx2VgwYEZvJbGhjy0Le7/TqNPbkUmmiFS9MYNkTsbKzoanKPPnUNXwEllYaMTVaXVDVxPP/he1vrH64R+HHz0J9yaz2zVidNQdN8tZzLUFJQxwXsJ+61ccW7yJHCvkWOHcYrjzDy5+exvcdzm44/Xxp+Z0PzuOB7MR8jMgup7WEzRyygsrSPN6QhUNEPSYUPxG2JtDouymG19hpCki334MLGUa6d4tGATSgtvxeixUuM9nR1xvVsp1bGISAfQ252Mo4VPGsovfhaJawUw5cawOXVFBUAm3JesTyu4ChrYyPMKzJZrH7MNvzgEuoTGpF8tn/pHaIf9H+l7hals/+luv4d3iGeyxruMV613cZ78XD2n4DOHyOv3Ve00G5o4+lScLXmCMcyXWBStI8PiYMnslbziv4Qq+JcH/KwJKH+bFjWalIZX0vCberx+PdZsfm6UCnzEeiGcfiRQc68SW+gZuQzNiCA2L35+MoaQ/9nczGeZr4r7gehSCjDnhPfplbsfITsCDOVjB1Cd+hSkQBOIwKEPJZRDqDQP0el+AHrW43tsKniDNJgjU6i3Wny0ZxR+XVnFMeRMJ3eL58Fe9mH7zMEoGpnHDrNP4+IyBGNdOZ2fCqZT2TKSU/fzT+SqugkfBuV6/dvT6bs71UFAEkz/A6PHrtcMGI2l7jDz1+Ed6+dmnTqzjTyGtUij1G5hcR6v5vFZUtpPFPNIj4gotbcizadLbkWmIiHY4QrYng2aCx5PTSCStXUkatAhh5c7WrcvRHXIdLdD5Q/lfXDNGe46KaWgddcdtsIG5JIfTbQ+gkhhJ3C3ByTlrJ1HudmGIrwHFx1unKWzPgEXnVpIYX4a2GW6cAyO26kJkUBT6dWuk+l4Pnu565evehDS+7WkJ1e5mEkShzjCQYKRuN8jGzBvIARRxIXgIAknsoltwAzvVm3jpuOHUGDW2cDMBzBjxcR7vk8lxKNwFjAWiE3MGlNCKGUK3SOQbXRbnD1VXKADf+GlM1JOM23LiuLpgJf83+jR2aLV8bF/Ias7iUd6izjmc5QVjeWpyIXml5ezrkRyZFay//iA3PT8fraSU56+fQzdXIz6jguqBM8b6+U3ebs5Z/CKwm4DyIfM5hgAevomfDfWl2JdtxxzQ7YJ6k4kStvLk9ASqyrohffcS1L7DP/X/UOLdzJDj2WBM4BHDQAQD3+0ZzMaPXiCzZ1XobvyoBSshsxoMPSBYC6Vr4fkd0LsfjdnNTLpjCHfccCzFA9PZlZVI911NXFu0FlslpD2sR8KP3DKUuzIM5MWBxazQ3QR1QTMBf3eCVaMxYcCMkek2hbSSWrjsFX3GQ/T6braPoKQSUNg0JJtZN51JTWqG3pBhP18X6Es/hK8asb86HS3UvNfRfN524hpqQ55CYithbnWOCvYMD5Op4+3qpQQ8EzmR0a1Ww+hICB/fuYILHBaW7ezDm9j+J7W+sfrhH4cfTYA7mvkQjnz7MIA4VE5ndGRf0L6C/dp6ltinU7721xQ8Bs61ulh/veha3DV9SepRRmrOer46Bu64MkhZQSk79vdmwjK9EmJCaE5wUAClhhMnvsH8j3qwPtNCttvFiMpSFCCOOgwIabIOP90AaMow8KjxeHJ5CTMNKDS0erMKLlvKaw03kGX4N7UM57vUm6k3ZqDSiJk1+vNGHS/AJtOQkAgH0Bueh9BIeC0O3YIwYaLGUkqNpRRfo5k0lxkDCiOXdcNSkselb5zByOLj2Gxdx4c8RCVWTrfFk1XixoCfYi0Pb1JcS6IRweyDbvt1D7pnlYt+pVWRYglTAFJLTcywfUdm4CGuev8blhU00DxtEL8a3pNdT/am5zfpzNt7KUYMoIDBeSr+2njIrMIoAZIeeJW0oA8lYGRxRhxvPruFgWMXoJo9XHhxPPN3zGRKwhh8Rv2uXNv7w1MT4d6nwbwH8MC+nVBaxj5lMH89/0zmnXscJ709iil3nUDxwHQe/PNQ7NmANZfb/jSKK4tyKX8PnnpuLWnrannw2bVYTJBmbsKU/SFTOZd5XM1L9hQCpgAEjfDwEn1dt3BZmv18vdysaAy1D5zPPc8sIbeshkZR9OSc7SO9UWPnZViNJ1CcAUWpetRqj9JTJx7y2EseeyOtxlZU7CSzgGZGE4eNBqZR125pIhsNlDYkUOFP5qOG2cylulWDRkdC+OiqdFw1x7Nx1UyuwP4/qfWN1Q//OBzRJFxLsk23CXKwsJddBPCTjYUpFDHX6WTATX/jtREqvjNh/IUruP9tC76mdHLPnUViv6/47p9zCfoTQp1qBkZsFSYsI1QJoT9Xv26NbLKdzsn3vEHf9XXMXfgwCQEfXoOZyuBlZPA1lcmXgaGJHPcHfBg/nLymPSQGB2BhMSYgQBoBEigzWenNRyT6dxPEyHbzOLrNG0XSuOnE+3ahd8AlAK5I8k1/t3vpLbjsR+iOwnQCoVcfNDRjCsbhTqnh0Tq9vO7u9O0kuNIRBE9KLQn13dhp8XLv9vEM4DOK2MIZzq08NbmQhKZGvIlm3p9QwB/e+JSkJi/+RGHLBA/HLuiOodxLalWLzVGZGUe3Gj/x/iBek5Hx706i2DqIpQUPkFtSgdcE8aGc2C5LArnbt2Hk1wQJEqc9j2F1f0QJooiBYRps2QQej57Y7P2ve+lhe5Q1JTBM06/Rp2QXj/MtYOCvufnMfv73MNTOpjn96Pe3TRjiTcTVNVPWO4W+80dHupYtoYVOzvkvPPoP2DoNTA/AsM2wIR+Gz9qlzxC2D8V5Vi7jK/fiyXaipde0DGef+YouvklboHkYvHpLpPoBgN+9DvPWRb7d1Sed3J136xHw+Df1pgxLOqSprSonwoRLzfDEozak8HayCasatb8NGiZ9RgS6eE/2NLO7IQFfcgMD1P38ivM6rHYIl64pO+/gtVUnc/fw2tggnp8IRzwJ15YlOGnAhQkzekGWGur80n9gFfSo+UTbXfStUPl/33iwXwhvLxqJr6EnBOMZ8s6fuPfKmTzR900ykipRlCAGfJx342YeuWlfSHyFlDhoak5i0IPFDIzz83GexjUXTaI4I49xowu58uJrWNjjCbbkLGO9dxSrfS9wvnsXBcEyBvBfoAcG4jDjxksi+/xns9P/WwIYMBCgn+89uo/7E3G+7kAv9BK2chRaVqQVurHrlCwCWEP+8GVAeFAlGIMmarMauaV3gI2LxgAQ59LDrCBBAqoPv9mLZ8LfyeczAH7D7fzFNoO80nLS6hrpV1rNpEc+JrPUjysnmQXbk9k9M4Hl9mpIChA06r9sfWbh3heSeeldPzu1DMa/exMO6ynsoC+32i+nWIuntrsxcu8qBiycSXzox8X/4EuI6kERA0bVx4WjwyvMC4oYMNumYbPr4muzw9/O/C+vK1+Qh5t6xUjlKQM5+Z5i5q+0wvwKVG+Qvckm0NIpf0xDU+HSFBj72S6+HL+Yiz/bxc1/g9R1kDQDHrgZ1gyEkruhYGAu0xaMomBgLpN3g8eThVppxc6FLT9sw06GHAvUjtAj2skftDzmXB8RX0EX392zL9b32z6CKWfoUTIKlFSyyba43UCd0cTpY4oakvH4TUxu0P/vYye5TT1EaGh7lB1hRWW7msq8jACaGuBP7CaRtIj4Rnu94VZk6ftEbAraz4QjFgGHo99ww0XYE57NZBTgAibwBQs413kHiu1k6q+DFz35pGfs4vN1WaSpQV5+R4XNUJHjYfIEBV8gHtXkpvaxU8m3f8GOmiT6dWskPSGJkvBcdAmCYsAU9OI3xGMgwKWbqrjtyyb+7U/k/MZs4oBc5tKbRaGEnYFm0mhCqDReTJNpGIZuiQyrvg2zv2XQu75s52PAWgwsQkIRsNCNvYbpuI1BLD4jsBZYRJAL8Kb2Q61LRcGAWxF+n5DEt/338lzJ7VxoegZjwEz0cCC/ycvcd69ms3UxAAOd8fzGlkzpaC8Fs5Iw+hW8JiM3v3sD1zCH42xG4lwKqaUmAgYBIxTf1cjXM3UTswcad5HCDh5gjHMLD9teYra9kdPxcv0tKnhqePyGFM5b6GH6jB7Mv0TvUDNNuxrjY1dgTKujT3IGO0r1t1dV4bW3YYwVvdvtni+gei9UZeJWFObIIEZTwQyGUqbl8te7d5H+QAm1/+8rRl59Iv6VVgI2uONPcH3RYgo211LWOwkRM6mmoWz4Sy43D4fRKTC7GjwCqqJvMw36DPgpGTCzd9QPW0GR7vWajeALgKUbFI0JWQxeKK3Rj0s0Q4oC/ZdB5ZmwtUkX3+LJ4FzPJtti7rSPpMyaTzEZ7crLTJ54/A3JWJLdbFf198mJ7vE2EiQJA7ewkd1M4kRG8y0Lumy2uAI7jzMeH552g3k6qgN27tS9YvvwmHVwtHHURcDhpNwUiiKe8JlYeZ/tvMd2vmAB31GC02rjP8XjedSTSkk5LFmfgQTi8KVtJvmxFVTmwEsjVFSjFwXhosGfYcTOU2OT0HrBH05MwuWJeqGKQR+uYzSSkVTNvN+8wbTPmzG7juGixh7EoSfgurE2Ul5WzvkUM5vNzMYQ6MYQ/2OcUHAh5vH1NJLLPkYgmIBzaAY2JpxMUJ2CwuXoZWZj6RlUCPqMeAFYBJRTl/YOrrwyviz8KwGDjwRReL6piQtcqZxX8CTbLvucgOpj07gP8Zv1M03+eM61FUbex51WLx8U72fvSF8k67YnN4146385zmYko0Rvsw6YBGNQwehTGLSgL+LM4syCPiRNq2B5wW6ucD7Jw7YXGVZSxn02Nw9as3C+mgDTyrlwvpuCEi8PXZ6AwXEKAMb5p6P44ghWZ9DYqE9xTEmFntEjDGxrYYOwo6o3q0nl6eGDGEMFx1PL/ayl/wCY+GguW674kJH97bDWRsAGUgIPPbqLjIZmynonYW700be8lvTypZyatAt7dov4XvoZbJgAt3wJSUY475P1/OHcIiY9sx5nbeg+wl7vXWdGPN+WBJzo+yzdoMkHe5rh21wwrwbVBKMH6dewDmZT8Z9Zax2Ai2BEfMMWg4aJqaoRLcNFkapXc4SPKSKVvWSznSx2M4lSSiKtx22rHqLLzV5kMj48GDG3G8zTEbHKhZ8gInLQXyeeeKL8ED4Xh1wpmjwrhXKlaPK5OFrtD38fve8yscgpggxeM1YSZ62SAfOfkqRZJTJwzRi5UjQpnC9ivkPEeLsIt4los1o/5/GzaoXbRCz2BrHYRfrOKBPzHR7hNhH1ziapeNUqy8weWYbI11luKc4vl623Pizben0svpRrZZs6T5YhsoygLEOkgftEuFrcxomy3OiWb/NFNuARN/uliRrZgFeWIrLN4hV/Zo0EWCJCofhYIpekNMrYjBrZylKpYJp4+VyEGqlJ2yFB9otQI172y5bsLSLUyPa8YpkhZhkvZ8mVjv/IHssG2W8plrccF8pzospsxwmyWhshVzgekjKtnwjZElSy5dPCCyRX5srKcQMkqPSULePSxGXJFCFbxNBL6i29ZE9mtgjZ4jXpW482Qq5xPCCrtFPlUoddkHNEq79I5ClVlv/NKiXqGTKWxZI+eLOogV+JwXGvJPfdLQN7N0i+RURFJF3VtymqX3IKX5ZrMr+TEhbKWMpERSRBCcrVKWVSwiIZS5mkx7lFReT23E0ieXNEXnxXvnxDpCRfxJ3pEOFNach+Wcp6/UuEN/UvbZFoG0RYJaIWi+wZIuJGxKOJOGpENubPEeEeWTVwjmgbuvhhdKwT0ebo2/D3lkdFetpETj9f5Fi7CPfox4iIQ9yiSZVYZI8gFaJKhRSKSzSpard1iFtERDSpEqRCNKmKPO1j7uWSUbVR/uh+RE6T0dJHVkeOb8sNYpFLBblBLAf178uxQ0T7l76NcXQBfCMdaOqPKsBXiianCHKWqHKKIFeK1m5/tAjftOZVSZxVLPlrrHKupMilYpHPxRER50+kUIbN2ijcpouvcptI4fyoJ1zmkHmfjJW+M7ZKP/tOmbdmory75lVR72wUbgvKyCeXyKqhxbIMkeVqk1Q6Jsp82z9ksbFZvjT45et0t5Qe85AU91wl3+StkWUEZYN5pTQwXTbwjWxgpbi5UwLcJsISqadW1rNS3NwnbpZKReZXIlwvwtUSpFC2KrVyRb9y6XF8maxWq0SokQD7xUeNCDUSZL98WlgoVw7aKKsMLrnyuI3ykBgkR+YJskoGyCeyUiyyTMyyTJC12gkiZMsq7VS5xvGA+FRdTN1qroxxPCteUy8RssVv6ilPO4bLWu1E2WexiJAtPrN+bH1aL/Gae4s7c7C87BglufKWzHRcJBu1AbJxwrFSa8mQ62+/QPpYGmWgReT3jrfE5O8rWU0nyfQnbpd8rV5yCp2Sr9WLrbBFhOPVJlGRqK+gqIjkZooMtIjclFYsFakvy+1Zy6XWskiEN2Wj9pRYNriEVSJlvXQBlpRnRLKeEcl6T8TiEHGUiaNGRNugC25YsL98Q/9+4tPrpHzwHHn2xnWyZ4iIzyEHpnCxiHqfvg3TRqDDYmqRPaJKRSthDT9mCu3PDD3WVpBFRPpX1QoVIt2r1kmqfNxOoKNZIQ65TTRZEfo3Ef7+NSlstT/G0U9nAvyjesDhgTzhATvRvu9edhIkSDYW3mc7AMmPraax/HgSexVz/F3DiV87kdpFTzF6MCxYD9MvnISwnTvff5bdtbn4g2AyQPdEfYxBUsMuZifezP3JM1lTdTz9um9jT10vPH49NWI2evn93nL+9KUw0D6VjBPyeb9gOn280akTIT3rbVz7LkUCKhgD9ExYRFbjCoziQaUagAC92JMwjWz3TAyhxTbFCEqgHL216ypgKDuym3i7ooBc54n8bvxLmD0J+NDHotem1TKnNo+Ni8bw+cOPcGHh/UzwNTHA9gg2exxCA4/ZzOy3F7LD+jGbnSO4eHI9IHxU1J2RlDJ4vB+TB3ZYupNbth9jAKqyUhi85ymqyeZq5zyetP2TPaOtsOAjElwJ9C3VW7OrLXG8u72cq/IsqKUN+M1g8kGJeiyneJbSzwLb09YTGL0c4/xTsOzrx87dSYjqpffbz7G1XyX3z0jmiQ/uJGDyYmiOJynejcefhM+nJ/UyMiGnF3y07z3SdjWzOT4FLs6l7/zVzJryb16+VUirfpp/rK1nkP0r6l2QW9EMWjrOT0dhq4RnV8EJj+qDeKbs2sW1RXqn3Ofn6rMjNBVWXK5bGYoG8cWhj/JTJ9z3N93fvaYPLHpD//sOD/iDuuXgfrDDn93IAptRjRZ2krGiRh6rIMBeBDN6rXn07IdwfbDVM4nPGq5lZPLfUFUjG5nK4/SOPN7VYp1hf1ifOOInEwvPhf6tHCwxn/jIcNTOgggn40yY8eMjBwvvhX6obl77Gq8uOp7+Fz5C5tBFLHvsc5rKtYg3e3wvF1/ddTZG7Cxca2X8PwN4/MZW19eCm7CfVcv0bYOoddezsyYXgxLAqARIi99PtTub4w3FrLhrOCjw3/EzMH52L6kGM0qkkDdIzlVbqHw7n+z+f6X3d19h8pjw0INwCV0pf6Cv8VgSA6vRPd4L8aasxez7GsPwApqXVbKfC5l6XE+uu+wVTpt9K5vGLCLovIx/Ec+leNlymYNBH1zEZ3e+w7kz+tDACnILRpFdMgy3GqAiO8gxpWb2aWt4rfgsaoGbCnqQXWKmTvOzvrians588my9Cbj2YCzdRxDYm5nGzS9MJgUXf7v+aVJqhQ8vySB7Sy2fjs7nlkfXYg4E2ZuZxLwXXFw/zkScD/ZmQnmveGaMPp2PF8wk3dWT6tIERPWieOLpZ4HyygA+j5F+WgMbCzM5+a5lrNlZEHn/hw12YXskjTsmtzSG7CiFqzN38efqtTwgQ3lEXctATy2bhu5i09P3Ym0aAqOKKdgIfRbv4vG/ryV/VstwntWXw4BNurh6/ItJW1eLa2g66wtHkTwDGu6Hk5JapqWZwjo2vkBffNPTE9LqwOvW/56VBHVeveJh5m9afnjClRAdlJ51xDTqmE0TY4hjC8FIci56RsSBVkPuauZD+Ny9lNKEizSyeIU9B7yvaGIrZBwZOhPgH8WC6MjjbftYV77ww2uWS+KsVZL45GfCbcFWdoNPHOIRTXzikHlrJoppiidiSRgmN4tj3vLIcznW6B7xvDUT5Z01YyTj7gox3+aRy154U4bNWiXvrBkjlf+4WEr618o+h8iGcSLLEFmRIrJv1nKRmzWR32fKNnVeyIZYGfGGlyl+2ZziFTc14qFG9qeVSX2Wbj+EbYi1SVNl/MIx4jNVilAjfsNecWXtkSpTjbiy9kipeZ8INbJGrZYN4pBnRJNPCwsloOj7Sy2VUqqtkn85RskEOUt6ylvymONEacrMFL+5p2wpTJY6h11EO1ek8JGIJRG2KdaHLAshW4KhbZWlxY6osuTKWq2PCNnSpObIBMdwOU7GiUXGC3KOHON4Svpoe0UtfEX6aHvlA4dEbAdbocgHc16V/MxtkpteJ32ydKvBVihykibyQeijDx+fm9niG68oLBPRFom8+K7IIk2kTD842mqI/v7LN3TP1+cQEUfoXEeZeLQWP7hDHnpZJHGS7vM+9LLIoHEicfe2tx4sf9H9YMtfWvnA0YQ9YYe4O/SHw/vNbWyJtn6vwy2iVelbkfa2Q0ccqjfc6vliPvERgSPpAYc93kvF0qkQi7QW3fA5V4om6RGfNxARV24TscwQ8YgmU+fPEPVOt9wzf6PMWzNRzHf49cdv3yqeMlV84pDC+SKmKSJZ94m8t2a5DPvLush11DubhNtEhj26Sorzy2UZIiX9a0Vu1mRb9hJpYLpsMn0qyxWPfBW3V0qH/0NW5jTIMpM/lKATWRHnkmVmiXz/dpJfXJa5IhSK8LqIWiirHLfLg6JKfZaeZAsYdR84/FVqqpFVBpdYUxrkpoUT5WsplD3aUhFqpEndJ5c41sh4OUseEoP0krcEWSVXOh6RQEhMA8aeImZdQCVrqDRbBktjZqZUWXLlGscD4nSMEp9R94VdacdKjZYrLktGJHm3urCXfFjYV9xqjjjHDZFy7XiZ6NCkUIpEk+vEIUvbfWYnabqQDrS0+L8nae0f75OlP94nS/8+39JamLskSmS7wueIEmZpL+CRxNqxdv17bU5rgXWs071g7tG/LI+2TtRFEfZ91ZAv3NYftsgescgeMYS+N0btjxZvrUqECl2ED5bXpFB+J6q8JoUHf1KMI0pnAvyjlKGFS84U6HJF5OiZEOFz/oSdyy/8isReJaT1+woQEsIL6iroJWefTsXjV/nLx/nc+f5TXDLEiGoIMP6kt5FcDwFszP5Ut/n2NsCMRSN5YPS39O22nX4pZTyMg7lvuflLUw3pv81BUSEt5W3YXkLv2jdJooze/o8RiSfQnMn+snEYG7eSM6AI8JJOM0OaId3XTDqrGIyNY8esJrXoEsi8C8yjYco0lln/ix8P/3n+QeosHxHs8ShNmZ/TkLWXGkspCwr/j1Myk3Aak/jk4Qep5g2+sD9EmVbKFW+X47D6WcJtJNKXO6hiIDu5x/avyIeoBJTQ4pXA/lrMpfsx9urHJ9t7MN06nIuti/j2vb+ySTuWiluuJLkigaSdJsRoQBHo90Yz585uRvUIF89vIKdkL4+Or2SP8xUAVvAtBZyBk0WRzyzccOGmCY8HUD30H/0dJxfAfGfL4zX79U65qr3Q1wKPF8FXxaF64SicLGr3HNjWQkmtvgWctVCwUd9G/33hWTDyLX3rrIVxpVDigcm7Q9fJXgLmWiiv1u0F+/l6+ZnLA9M+bOl6A0gJDQYaPUhv3MibFRno48SDiyAG9AlojQSxeBKhOoMxnlTU0L5Sj5lgdQ8Mnniijb7JnmZKqtOY7GnmyuQVZJg2cWXyinb/Hjpbkv5bFuDDE1o/rj2xSWY/HX4UAQ7Pgbg9tMhmR+vBAa1EN3zOmVhpGPoEx99VgM+nAgo9U0DrBUWXwcK1VlLVlqRZ6X6Yvx48QSOLdv0ZBQ0jdqacoyfospLBfiFcNPRPbLIdw/KCWzht9iX0qUwg92+9cC3Qu4Vd9eNxmidS3HwtjfShLNS5BoK3OommuuNx7TqXnCHP0QcPSQTpg4c+vE8qZZy48X2wxkEvg56RmbWS6/J+zZhp1/Mb20xSWY1pbzWmpM9w59TwedGTDJxRzuwb/8765lr+fm4ZJeykxLqYF4uHo1pv4UpnDcsLBtLTOYgEXmATVvaO9uIzRK3GbBY8lgBNU88HbTDx9of4HcXkhfzGkdax5BcvxbJgAaa99RiDoCgGvFouBuIwedCHsA8fhiiQ4FGYND6JNc4sZvMeJZQxnkdx8kWrz84/YS5BbQ3Nb1/DwgXCmhKw23SB/aoYpkyNzHYnLQ2C1kUc67ybQQV1zI/SFxszKWEdNh6OiOvG84YSVNPxDRiKtwB23QPPXQL/fgNslbrI2irb/z30q4hf/zc09ezCCZBoAHei7u1aB0NaPJTWwuyluviGjWpfUG/QeOxz/fHSGv0cQvMbIothQRIGmhqSKPUbmNdgxhPaZ25IBr8ZpUEfjmREF+ayhgTwm6Ehmd3qjZyRMYjd6o3t/j10tiR9V6MpIVYP/JOio7C4s68fWoZ2MHwuDrlULHJZqOQset/INdfJsbNqxbGm5XhtlrSyJcx36N6wNktaHSci4pi3XLRJG8Uxb7l4pVDcokrxcdv1MjSjW0qv2igrLSLfWkT2OUS000XeVUIWg3G/LFc8soxm/XhDk+wbPka+TS6TDXil0eiS7zK98l3mSvFZpos4Voae1Cui1oSsiKtFzIW65WBZKqJNl+bMj0WoEa+lXJ4RTSo0vTa4SftaHhHk/qivPdqXItSIT62UzY4XpUQ0qdJ6tPi6ah/Z4EiUZYJ8LJkyVzTZJg4Rx2LdF3YsFofUiCYb5GXHKPGkZele8LjrQ/e6WETtJ0K2eM25+pY+MpbFkqbtlEIpElXO1muE5Tr5wNFiO+RaGiVZ2yjZjonye8dbkqZtlumObyLv/QcO3XYIl6Ed45gqcdpqURFJ7iWSP0Q/xiELRZMz9G2o3nd1vu7tulV92xCvb/cMbW0ztP27Za2IZY1I7ZAoq6Gj+l9tju4DR2/HvabbEak2Ee4Rv7lQJjqWSaG4xCJ7It5uuB4Y936hqllw74/ss7hdYqkKSKa7plWZGu79olb5xOHWPd+T5HGJk11SKK5WHvDB+MEdEfN5jz44GuqARbpOyIm0+MXRdcJd4Vgjot4Z9nL17x1rdH/YYm8twtok3UvWJm2M7NvnECnRWrbL0LelhSJfxok8kSLyZrxfFg18SFaqW0MJN4/sGz5G9p00VpYZAqEmjtD9LBR5ovdKqY+bLtsK35SbFk6UmwbViN+oN2T4DUukLK5Gltu8IiLisqwToUZclnWyQRzydeEcCajV0lhYLIvEInYxy/2CPCiqlDmWSECtFqFGarQv5WVBPneki8uSKW5LfxHH4lCdMPJPMcuzgswVTRdfskW0c0WTDYKskpsdT7Uk6bRzo97QxbJRO10qMvNFyBa/sY/cblkc8WodsjTiB4f93XRVIs0YKWaRZMtuMTgul2McUyM+b/SxKiL5mkuOcUyV5Hy/xPVq7x2LtE+6eQt10X3iBpGVodrfMD6H3pRxy9Miy9/oRGQ78HLD50Z7xyLSkoDLtItoc2SiY5kgFaJIhYxxLJV12uMy0bEs4ucSEtcsqWy1L+z1WmSPZEmlZEb5wGHUKDG/TTS5VJDbRIsJ6c+Io0aAo5NrYaJFOToCblsZESZczRAW17aCGx0Vh4+zzBDJutstlkllemXEMofIVRaRP1rEt6FQPKLJXsfyiBgvV3Ux/lwReReRD+L88lV8lSxD5NukHSJ/tEhJ/9pI0i0cNc9NFKlhughXS506VXqevkrGJHqlLL5WxFQjgp5oU3vqYl3mWCJV2tdS5lgiIiI+rUyPcrUycUiN5MsKuUmukg2h92CB4yap0D6XuY7R8qwgb7TJhO8Th5SIJqulUJY48qXZMkQkc7CI5aRWEXCtdrboTRs5cp3j15EE2zZxyMuOUVJmGSb+UBQs2rkREY2uapju+EbStM1y9rjdkmiQVo0XadpmyddcEWHt6HwRXWSPeVokf2hUNUQXybZwVBzuhAsn2MIVECsGipT1Comn5S8dXyRakB3rJKDOES/rWldPWB7Vr2GeJuJYJw5xiyoV8ua45yUYTtJpcyLiGhbVsPh21hUXrpCIplBckag5OurV/iXCy7oIx/hpc1QI8OfikMvEEuloC9NZJ1y0WEeLdFhgo9uOLXYJtRwfWJBFRC8pG4XIKMSzFXEL4gn/UljmkNLh/5DlcX5ZmtBS2bDSokfHi2y6PbHIJvJVpshysx4xhyPoFabWEfD6xJqQ7VArtXkuGZvmFdJFtDN0EdZO17ciItscN0mD9rlsc9wUiVY1aempjZSnSWGLxdABDqmRjdrpEXuiVZQrEop0B8gYx4mC3CLxoovz3GhbwzIiYl2EI9gE1RsRVU1OFyRdElR3K/EdaNEFNiy6B1XpIKKLL2+KqG+3E+FwNFy4S7cVzKt0EQ63G/scenR8y9MiDX0fbali6PB5dEsioM6RoKXl760iYMc6XXyjruMQtwSUkPhyjyx3rOq0K84ie1oJcFjAu+p8a8v3iYBjUfPRyVEhwB1FvyK6MLdtTw7vD4vupaGZECPXXNdKXMMCmzlNIqVpbenQkghFwI5xY+T4Katk3kcXiy8sZjdrsm/4GCnpsVG+ztRFdblZj3BFdMEMC2iJJrIBrzSpLqkr9EYiaP2JvSKaS6SwUd86dNvBsbC1+IavJdISwb4u/xaLrJVe8lWrCFikRYQ3dCK+4lgsG7RTZEbhZCmzHK8LqWOxLHe8Kxu102W54139MFkqf3AMl2JthIxxPCuabJBt4pAljnzxaCNECh+JCPAHDpE0bacYC/8padpOsRWK9LE0SrJlt5w9brckGUUSFN3jjRbczkT4A4fIZIvIXkvUf/0dZbr4hmY+RKNtELnoSd0P9jk6KDGLYvkb62Rj/hzdimj1vrT4vQF1jjSzWILmUL1vR/aEpYNIetxrIso9IuNe6zCqbVsTHC22nUXHh5NY1Hx0clQIcGdNF9GPdWY3jFxznZwiSOqsda0i2XB023dGmRzfJkHX9hodPabdU65f757ylp3LHFLSY2OrqHefo8UnXmRrEdB9DpEm1SVCjQSUGqkr9EZdXN8vmqvT9yRajKPJlxWCrJKe8rbcL8gzoV9MG8QhD4oq4+Us6S0OcUhNBy9K93zXayfIkzIusjscEZdZCnRRtpykWxRkyzrtRPmzfBqS9ZpW19moDRCHLO3Q/432bsP7oi2HgZaO635P0kS+onXjhD7LoUxqhy4Sf2FZxJcN+7u7uoWScRY9ElaL9W27l7+hJTpu5e+GIt8g0ySQYJcg06SzRgv9hlpbFW195I6aMaKFONqaaHV/HQzp+T50lKSLRcBHJ0eFAIdpGwl3lZg7NjTNLHdWuVwpmjy8Znk7/3fYrI3yzpoxLRZCGzqyLMI41oho99eK45aJIsscEZENWwrhaNbx5HKZa3ZHknStL+KVgFIjesOEq9X+dpHv6e3FtiNukqukp7wl4+UseVDUSLT7jGhyvyDZMre1PRFV6SCOxdKo5cgGR7zMlnERUd1YeL+41b7izjwuYk00WE6QddoIedoxXPqJo901wzZFuOohLKLhqoaw3SDSOtoNi3FYeMNCHBbrjiLgsHBa1rRUPni0Fn/XbW4RYLW4xQeOJjoZ56iR1t1xjnUSpDBiIQj36JUOnSTnWj7HqAaNTrriou2FsBhnumuEqmaxuF3tju9MuA+F6IRdjKObo0qA2wpu2F64tIPWyrPXTJTEWavk7DUTO71edDtyR3QVAYtIxA8uHf4PWaZIhyKrWTbKGYkic83uduIsIlJX2GJDtCVsGeSfXtvKbujsuA3ikA3ikNlikSfF0s5+mC0WuU7GSb6saBethr3esJUxJBRJa7IhckyD5UQps2jSYDlRJjpeEGSV9BOHPCf/bh0BS+uqh3ClQ377j6kdba2HrpJw0ZPNVueLXP1X3W4oydcrH9wW/ctb2BLNdhYBhwW32aJHrP5xut3gL9RFNpj2oB4FKyFv90DiK9LSMdeJWEdbEeGEGlIh5qpmoULEUhXo/NJS1aosLczBRLLft0wtxo/PUSXAYcJCfKFkySmCXBYlwF3ZFYcb34ZC8ZSpsjy+OVRm1lpc9zlEPu/VIFdmlonjyeWtytUOhnDUetPCiaKdIVL4YPtIOGwtRNsNB7rek2KRZ0STModdfFkDxG/Klv2F18g2cUQSdOGqB4fURKLksOiG94e30edFExbP8PyG3EyRTEutqJbd8nuHs91xXXnA0TaFSGu7IDzbd/vgFlE+4HwHaS3iYcuhoa8umv74NpFryNcNZv6lfelZJyx3rJKN2hOy3LGq4+ePbi2OFmO3t9Wch87OVat8rdqRHTtEzP/UvVzLOwe+vxhHP0elAHc1I6KzhJ3IQUS0h3i8RzRxC7K18B+yXNXth2hWWlqqIERa1w63pe1jHUWybRNv0eIbbTe0ex0hsXxa/i3PiCaPS6bcL8heLSdiKdRouTJXtJYa4C6u08o/diyW3doAucoxTabKVa2Ob2snhIVYRUTVtrQ7rqNZEMkm/fyuIuBbntbLyG55uuX8jmp029YH3/K0tKqIENHnAq8aOEf+cePiDmuCmy3rDijs4WOve+frDq2EDk/5HpZC24E84UQaL4tY5h70ZWIcxRyVAnwwU9I6eqwrT7cjDnR8pxbGMofIzZp8m90QqfU9EG2j43C0Gh3Vtk28hY85kPiqUtzKo/3GkSt7tB6yrjBT6izZUmfJlgqHveNINtoj7oiQPbFKO1WOkxWtHmobxYatCNXcfFARcLj5oqNmi1avsaZ9ZUNHAty2Q27P0PbndVUl0dl19ROjkm0h62HdkDky5pV1smbwHJn42rouI9pDpSPBduzQI1/L3Fgy7efCUSnA35fDHQF3Ssgb3jdqYqcRb1s6ioC7LBk7yGPCNcGqFItDamSDOCKR734tp8uIV0T0sjKypVo7qX30KyLiWCy12tky0fFCh5UVeovw6eKQhV3W90YfF+YDh56E6ygCPhBhCyJaZDscS3kgDtANFyF6QlronOXvrJONoXbmVYPnHNLksgPRWUVErJrh58XPSoB/NEIRsCzr+l/4oVQ3dEVXQtzWNnhGNPk/R7xUablS4bB32ZQhIrLEkS9VWg+51mGXts0dB0O46UIT3TfpLNpN0zaLwXF55LjWr2GhpGmbDxgJt5xQJkHLImm2lHVoMxzaC4gS1i6fs2OhXu5YJeuGzZbrXlv7P4+ARWL1vD83jhoBPtAsiB+D7xMRd+X7tvV0vy+RZJ1c1UpsOxLmg4maownbEh1VOhwM0UNyRLr2e9O0ze0i4JM0kZzClyXOUirJlt1dRsDh48NrxYm26ICWwoFfwEFGwJ0c3ypSPdRrfZ/bjUXAPyuOGgHuKrl2KHxvW0EO3UMWafF2l6vtRbizZgr9wZZa4AOJZqRcLbp0TA7OI/6x6SgCDs+GiJ6CJtIizCmqPzKIpzN8DpE1qsiliNxuObhB7NEcklB3JaRtIuZWkWon0fTBJOB+SN1vjJ8uR40AH64IuCMRPVhR/r4RcHhAT1flZ+3siKhuuI4Sch1eo43dcCglakeSaJsiuu433LBxMP5v2PNdrXZ9XGdCG13W1vqEDsS2K1uiK3FuO8Kyoyi5Ew5XF1yr24lFy0c9R40AHy7eW7Nchs3aKO+taVnz7WAj2+8bPXdlQ0Tuoa0dcQgRcFd0dm6HJWVd7P+hHDgBp9sUbcdPHpTnK11UJ7ShM6HtNALuSGx/qJXQ5prRU806438RAUf7xYdTjGPCfvj42QlwuHY3uv34YIX1+1gQB6KjORE/Bh1NTOtqf1c4pEYmOl7QR1V2Uq7WkffbEZ11vnV23EFPTAvfa80hesLfR2wPcE7bBo220W3b+t7/FdFCeTiTd7FE4OHjZyfAB2o/7oof4h93xqF2xx0uDmcErMkGWaWdKh2OrwzxfQWzs/MjTR4d1PIeCl0K8veNdA9QOdFOcNtEt+EFN9WK/70Ih4lFwEcnPzsBPto4GHvif8XhshsOJgL+oQLcdmJauD74mB9YZtZ2Alp4fkT0FLTOhPSgmjI64EB2gsOti++hrnoc4+dHTIB/xnwfu+H7crAWRGd0NDHtJO17WAptiD4/Mj2NliloXQnpwcyb+L78WDZEjKObmAD/XDlAB9vh5odGwP+ra0XTLgI+iOMPtqMuJqgxvg+dCbCiP3ZwjBgxQr755pvDshpzjMNEwa+hZD1og6H4Pz/4ck5qsVGJnWyspP/w+/uh91OrLzFvzwZr+pG+GyiohhI/aCYoztD3OT1gawB7MljVI3t/neHcqS9Tbx8O1r5H+m5+eSiK8q2IjGi733AkbuZ/iR8nXgrw4+zwcedaKHhM3/4ssE/Vxdc+9bBczkYlJXiwUXlYrvdDsVVCiUffHg3Yk3XxtSe37LM16KJsa+j8PKdHF2+np81+PBRQjRNPxyceJmyroKRG38Y4evjZCXAAG0IJAWwdPm5bBCXl+vZngfU3euRr/c1huZydbDRU7GQf0nnznXBygb49nNizQVP17dGAVdUj3+hItyNRbktnIm2jgRL82OhCvQ8D9uGgddO3MY4efnYWhB8nAWwYsWPC2u5x51pdfO0XgnXoEbjBnyknF8CaEhimwVfFR/pujj46symceLDRgJ1krByl/kWMH0xnFsTPToBjHBnmO8FuA5sdxrT/vRcjxi+azgTYdCRuJsbPjzHWmPDGiHGo/Ow84F80zg/1qgjnh0f6TmLEiHEQxAT454Rtll6SZpt1RG/DySIKOAMn7TOd/6tkXYwYP0ViAvxz4jCXpH1fbMykhHXYeLjdY3abnqyzd1yk8ovGuRMKHPo2xi+DmAD/nDjMJWnfFzvT0BiKncJ2j9nseqWEzX4EbuwoJ1ar+8sjVgUR45eDcz3YPgL7+WAdfKTvph2xbrWfL7EqiBgxbB9BSaW+PQoF2No3Jry/NGIWRIxfDvbzQcvWtzFiHAXEIuAYvxysg4/KyDfGL5dYBBwjRowYR4iYAB8CzkVQcIa+jREjRowfSkyADwHbTChZB7b25a0xYsSIccjEBPgQsE8DbSjY25e3xojxg4g1YfwyidUBx4hxFFDg0JswtG5QfMmRvpsYh5tfzIoYMWL8FIkNTP9lEitDixHjKCDWhPHLJBYBx4gRI8YRIibAMWLEiHGEiAlwjBgxYhwhYgIcI0aMGEeImADHiBEjxhEiJsAxYsSIcYSICXCMGDFiHCEOqRNOUZQqYMf/7nZixIgR42dJPxHJbLvzkAQ4RowYMWIcPmIWRIwYMWIcIWICHCNGjBhHiJgAx4gRI8YRIibAMWLEiHGEiAlwjBgxYhwhYgIcI0aMGEeImADHiBEjxhEiJsAxYsSIcYSICXCMGDFiHCH+P2h8vBpamHWaAAAAAElFTkSuQmCC\n",
>>>>>>> origin/clustering
      "text/plain": [
       "<Figure size 432x288 with 1 Axes>"
      ]
     },
     "metadata": {},
     "output_type": "display_data"
    }
   ],
   "source": [
    "plt.figure(1)\n",
    "\n",
    "cmap = get_cmap(CLUSTER_NUMBER)\n",
    "\n",
    "for k in range(CLUSTER_NUMBER):\n",
    "    cluster_data = vis_labels == k\n",
    "    plt.scatter(pca_results[cluster_data, 0], pca_results[cluster_data, 1],\n",
    "                color=cmap(k), marker='.', s=10)\n",
    "\n",
    "# plt.scatter(cluster_centers[:, 0], cluster_centers[:, 1], c='black', s=50)\n",
    "plt.title(\"K-Means (K={})\".format(CLUSTER_NUMBER))\n",
    "plt.xticks([])\n",
    "plt.yticks([])\n",
    "plt.savefig('kmeans.png')\n",
    "plt.show()"
   ]
  },
  {
   "cell_type": "code",
<<<<<<< HEAD
   "execution_count": 42,
=======
   "execution_count": 43,
>>>>>>> origin/clustering
   "id": "0a926577-c896-47f4-bc60-6dba274fed1d",
   "metadata": {},
   "outputs": [],
   "source": [
    "vis_labels = all_label_ids[:10000]"
   ]
  },
  {
   "cell_type": "code",
<<<<<<< HEAD
   "execution_count": 43,
=======
   "execution_count": 44,
>>>>>>> origin/clustering
   "id": "4fe3cb90-41dd-458b-b56b-1fbd6cf77133",
   "metadata": {},
   "outputs": [
    {
     "data": {
<<<<<<< HEAD
      "image/png": "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\n",
=======
      "image/png": "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\n",
>>>>>>> origin/clustering
      "text/plain": [
       "<Figure size 432x288 with 1 Axes>"
      ]
     },
     "metadata": {},
     "output_type": "display_data"
    }
   ],
   "source": [
    "plt.figure(1)\n",
    "\n",
    "cmap = ['#4EACC5', '#FF9C34', '#4E9A06']\n",
    "\n",
    "for k in range(3):\n",
    "    cluster_data = vis_labels == k\n",
    "    plt.scatter(pca_results[cluster_data, 0], pca_results[cluster_data, 1],\n",
    "                color=cmap[k], marker='.', s=10)\n",
    "\n",
    "# plt.scatter(cluster_centers[:, 0], cluster_centers[:, 1], c='black', s=50)\n",
    "plt.title(\"K-Means (True Label)\")\n",
    "plt.xticks([])\n",
    "plt.yticks([])\n",
    "plt.savefig('ture_label.png')\n",
    "plt.show()"
   ]
  },
  {
   "cell_type": "code",
<<<<<<< HEAD
   "execution_count": 44,
=======
   "execution_count": 45,
>>>>>>> origin/clustering
   "id": "bca5aa46-1abc-4f38-9c3e-d9aaa5212da6",
   "metadata": {},
   "outputs": [],
   "source": [
    "# merge json\n",
    "# train_json = json.load(open('clusters/cluster_mnli_k3_train.json'))\n",
    "# dev_m_json = json.load(open('clusters/cluster_mnli_k3_dev_matched.json'))\n",
    "# dev_mm_json = json.load(open('clusters/cluster_mnli_k3_dev_mismatched.json'))\n",
    "\n",
    "# print(len(train_json))\n",
    "# print(len(dev_m_json))\n",
    "# print(len(dev_mm_json))"
   ]
  },
  {
   "cell_type": "code",
<<<<<<< HEAD
   "execution_count": 45,
=======
   "execution_count": 46,
>>>>>>> origin/clustering
   "id": "958d7d7f-33c8-499a-b0f8-94d5d4e82330",
   "metadata": {},
   "outputs": [],
   "source": [
    "# with open('clusters/cluster_mnli_k{}.json'.format(CLUSTER_NUMBER), 'w') as fp:\n",
    "#     json.dump({**train_json, **dev_m_json, **dev_mm_json}, fp)"
   ]
  }
 ],
 "metadata": {
  "kernelspec": {
   "display_name": "Python 3 (ipykernel)",
   "language": "python",
   "name": "python3"
  },
  "language_info": {
   "codemirror_mode": {
    "name": "ipython",
    "version": 3
   },
   "file_extension": ".py",
   "mimetype": "text/x-python",
   "name": "python",
   "nbconvert_exporter": "python",
   "pygments_lexer": "ipython3",
   "version": "3.7.7"
  }
 },
 "nbformat": 4,
 "nbformat_minor": 5
}

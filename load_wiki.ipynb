{
 "cells": [
  {
   "cell_type": "code",
   "execution_count": 1,
   "id": "527b8f6d-7c05-4114-819e-44e6dbb0ed8f",
   "metadata": {},
   "outputs": [],
   "source": [
    "from tqdm import tqdm\n",
    "from datasets import load_dataset\n",
    "from nltk.tokenize import word_tokenize"
   ]
  },
  {
   "cell_type": "code",
   "execution_count": 2,
   "id": "8f470f0d-edfd-4689-b5ce-a7c4d62c3d82",
   "metadata": {},
   "outputs": [
    {
     "name": "stderr",
     "output_type": "stream",
     "text": [
      "Reusing dataset wikipedia (/home/mila/c/caomeng/.cache/huggingface/datasets/wikipedia/20200501.en/1.0.0/009f923d9b6dd00c00c8cdc7f408f2b47f45dd4f5fb7982a21f9448f4afbe475)\n"
     ]
    },
    {
     "data": {
      "application/vnd.jupyter.widget-view+json": {
       "model_id": "b55b9f10df114b74b60d6f13ec820777",
       "version_major": 2,
       "version_minor": 0
      },
      "text/plain": [
       "  0%|          | 0/1 [00:00<?, ?it/s]"
      ]
     },
     "metadata": {},
     "output_type": "display_data"
    }
   ],
   "source": [
    "dataset = load_dataset(\"wikipedia\", \"20200501.en\")"
   ]
  },
  {
   "cell_type": "code",
   "execution_count": 3,
   "id": "6cc8ef7b-125d-4a56-a8e6-5b2957eb50a7",
   "metadata": {},
   "outputs": [
    {
     "name": "stdout",
     "output_type": "stream",
     "text": [
      "6078422\n"
     ]
    }
   ],
   "source": [
    "train_set = dataset['train']\n",
    "print(len(train_set))  # total tokens: 2823M"
   ]
  },
  {
   "cell_type": "code",
   "execution_count": 4,
   "id": "c9cdeb76-c802-4a7f-aebe-0a3c1264aee8",
   "metadata": {},
   "outputs": [
    {
     "name": "stdout",
     "output_type": "stream",
     "text": [
      "Yangliuqing () is a market town in Xiqing District, in the western suburbs of Tianjin, People's Republic of China. Despite its relatively small size, it has been named since 2006 in the \"famous historical and cultural market towns in China\".\n",
      "\n",
      "It is best known in China for creating nianhua or Yangliuqing nianhua. For more than 400 years, Yangliuqing has in effect specialised in the creation of these woodcuts for the New Year.  wood block prints using vivid colourschemes to portray traditional scenes of children's games often interwoven with auspiciouse objects.\n",
      "\n",
      ", it had 27 residential communities () and 25 villages under its administration.\n",
      "\n",
      "Shi Family Grand Courtyard\n",
      "\n",
      "Shi Family Grand Courtyard (Tiānjīn Shí Jiā Dà Yuàn, 天津石家大院) is situated in Yangliuqing Town of Xiqing District, which is the former residence of wealthy merchant Shi Yuanshi - the 4th son of Shi Wancheng, one of the eight great masters in Tianjin. First built in 1875, it covers over 6,000 square meters, including large and small yards and over 200 folk houses, a theater and over 275 rooms that served as apartments and places of business and worship for this powerful family. Shifu Garden, which finished its expansion in October 2003, covers 1,200 square meters, incorporates the elegance of imperial garden and delicacy of south garden. Now the courtyard of Shi family covers about 10,000 square meters, which is called the first mansion in North China. Now it serves as the folk custom museum in Yangliuqing, which has a large collection of folk custom museum in Yanliuqing, which has a large collection of folk art pieces like Yanliuqing New Year pictures, brick sculpture.\n",
      "\n",
      "Shi's ancestor came from Dong'e County in Shandong Province, engaged in water transport of grain. As the wealth gradually accumulated, the Shi Family moved to Yangliuqing and bought large tracts of land and set up their residence. Shi Yuanshi came from the fourth generation of the family, who was a successful businessman and a good household manager, and the residence was thus enlarged for several times until it acquired the present scale. It is believed to be the first mansion in the west of Tianjin.\n",
      "\n",
      "The residence is symmetric based on the axis formed by a passageway in the middle, on which there are four archways. On the east side of the courtyard, there are traditional single-story houses with rows of rooms around the four sides, which was once the living area for the Shi Family. The rooms on north side were the accountants' office. On the west are the major constructions including the family hall for worshipping Buddha, theater and the south reception room. On both sides of the residence are side yard rooms for maids and servants.\n",
      "\n",
      "Today, the Shi mansion, located in the township of Yangliuqing to the west of central Tianjin, stands as a surprisingly well-preserved monument to China's pre-revolution mercantile spirit. It also serves as an on-location shoot for many of China's popular historical dramas. Many of the rooms feature period furniture, paintings and calligraphy, and the extensive Shifu Garden.\n",
      "\n",
      "Part of the complex has been turned into the Yangliuqing Museum, which includes displays focused on symbolic aspects of the courtyards'  construction, local folk art and customs, and traditional period furnishings and crafts.\n",
      "\n",
      "See also \n",
      "\n",
      "List of township-level divisions of Tianjin\n",
      "\n",
      "References \n",
      "\n",
      " http://arts.cultural-china.com/en/65Arts4795.html\n",
      "\n",
      "Category:Towns in Tianjin\n"
     ]
    }
   ],
   "source": [
    "print(train_set[0]['text'])"
   ]
  },
  {
   "cell_type": "code",
   "execution_count": 6,
   "id": "9d906be1-e3b5-4047-b8f1-eaae624919d7",
   "metadata": {},
   "outputs": [
    {
     "name": "stderr",
     "output_type": "stream",
     "text": [
      "  0%|▎                                                                                                                                                                | 10444/6078422 [00:00<09:39, 10470.61it/s]\n"
     ]
    }
   ],
   "source": [
    "total_token = 5 * 1000000\n",
    "\n",
    "token_count = 0\n",
    "with open('general_distill_corpus/wiki_5M.txt', 'w') as wf:\n",
    "    for t in tqdm(train_set):\n",
    "        token_count += len(t['text'].split())\n",
    "\n",
    "        wf.write(t['text'])\n",
    "        wf.write('\\n')\n",
    "\n",
    "        # if token_count % 1000000 == 0:\n",
    "        #     print(token_count)\n",
    "\n",
    "        if token_count >= total_token:\n",
    "            break"
   ]
  }
 ],
 "metadata": {
  "kernelspec": {
   "display_name": "Python 3 (ipykernel)",
   "language": "python",
   "name": "python3"
  },
  "language_info": {
   "codemirror_mode": {
    "name": "ipython",
    "version": 3
   },
   "file_extension": ".py",
   "mimetype": "text/x-python",
   "name": "python",
   "nbconvert_exporter": "python",
   "pygments_lexer": "ipython3",
   "version": "3.8.2"
  }
 },
 "nbformat": 4,
 "nbformat_minor": 5
}

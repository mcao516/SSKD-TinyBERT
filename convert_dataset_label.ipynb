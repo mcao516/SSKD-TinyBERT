{
 "cells": [
  {
   "cell_type": "code",
   "execution_count": 22,
   "id": "0f361af8-b616-42f6-8e05-8b720b571071",
   "metadata": {},
   "outputs": [],
   "source": [
    "import csv\n",
    "import json\n",
    "\n",
    "from data_augmentation import _read_tsv"
   ]
  },
  {
   "cell_type": "markdown",
   "id": "9b9dee77-8f67-48d9-8cbe-88d0c4488106",
   "metadata": {},
   "source": [
    "#### Load Train Dataset"
   ]
  },
  {
   "cell_type": "code",
   "execution_count": 23,
   "id": "0161f767-1968-45e9-9e83-7a00a66cb00a",
   "metadata": {},
   "outputs": [],
   "source": [
    "train_data_path = '/home/mcao610/scratch/glue_data/MNLI/train_aug.tsv'"
   ]
  },
  {
   "cell_type": "code",
   "execution_count": 24,
   "id": "d24509ef-9cfb-4255-8877-53d45abfa87e",
   "metadata": {},
   "outputs": [],
   "source": [
    "train_data = _read_tsv(train_data_path)"
   ]
  },
  {
   "cell_type": "code",
   "execution_count": 25,
   "id": "99d745cc-dcfd-4b05-bd3a-e391175792c9",
   "metadata": {},
   "outputs": [
    {
     "name": "stdout",
     "output_type": "stream",
     "text": [
      "['index', 'promptID', 'pairID', 'genre', 'sentence1_binary_parse', 'sentence2_binary_parse', 'sentence1_parse', 'sentence2_parse', 'sentence1', 'sentence2', 'label1', 'gold_label']\n",
      "['0', '31193', '31193n', 'government', '( ( Conceptually ( cream skimming ) ) ( ( has ( ( ( two ( basic dimensions ) ) - ) ( ( product and ) geography ) ) ) . ) )', '( ( ( Product and ) geography ) ( ( are ( what ( make ( cream ( skimming work ) ) ) ) ) . ) )', '(ROOT (S (NP (JJ Conceptually) (NN cream) (NN skimming)) (VP (VBZ has) (NP (NP (CD two) (JJ basic) (NNS dimensions)) (: -) (NP (NN product) (CC and) (NN geography)))) (. .)))', '(ROOT (S (NP (NN Product) (CC and) (NN geography)) (VP (VBP are) (SBAR (WHNP (WP what)) (S (VP (VBP make) (NP (NP (NN cream)) (VP (VBG skimming) (NP (NN work)))))))) (. .)))', 'Conceptually cream skimming has two basic dimensions - product and geography.', 'Product and geography are what make cream skimming work. ', 'neutral', 'neutral']\n",
      "505556\n"
     ]
    }
   ],
   "source": [
    "print(train_data[0])\n",
    "print(train_data[1])\n",
    "print(len(train_data))"
   ]
  },
  {
   "cell_type": "markdown",
   "id": "c246e859-38e0-45d3-a8f2-50aa7caba0d6",
   "metadata": {},
   "source": [
    "#### Load Map"
   ]
  },
  {
   "cell_type": "code",
   "execution_count": 26,
   "id": "91f217d5-95d8-4a85-8441-313f38e2485e",
   "metadata": {},
   "outputs": [],
   "source": [
    "K = 100"
   ]
  },
  {
   "cell_type": "code",
   "execution_count": 27,
   "id": "84e124e1-af3c-47fa-8941-66279b2c3e6e",
   "metadata": {},
   "outputs": [],
   "source": [
    "with open('cluster_labels_k{}.json'.format(K)) as f:\n",
    "    cluster_map = json.load(f)"
   ]
  },
  {
   "cell_type": "code",
   "execution_count": 28,
   "id": "76b3fa8f-3c1c-4c37-8673-bd93adff75f9",
   "metadata": {},
   "outputs": [
    {
     "data": {
      "text/plain": [
       "57"
      ]
     },
     "execution_count": 28,
     "metadata": {},
     "output_type": "execute_result"
    }
   ],
   "source": [
    "cluster_map['train-0']"
   ]
  },
  {
   "cell_type": "markdown",
   "id": "dadde3b3-779e-4e6f-af8e-2ff618c1011d",
   "metadata": {},
   "source": [
    "#### Converting"
   ]
  },
  {
   "cell_type": "code",
   "execution_count": 29,
   "id": "3c408274-da4e-481a-892d-95fd5c40b395",
   "metadata": {},
   "outputs": [],
   "source": [
    "output_filename = '/home/mcao610/scratch/glue_data/MNLI/train_aug_k{}.tsv'.format(K)\n",
    "with open(output_filename, 'w', newline='', encoding=\"utf-8\") as f:\n",
    "    writer = csv.writer(f, delimiter=\"\\t\")\n",
    "    for (i, line) in enumerate(train_data):\n",
    "        if i == 0:\n",
    "            writer.writerow(line)\n",
    "        else:\n",
    "            line[-1] = cluster_map['train-{}'.format(line[0])]\n",
    "            writer.writerow(line)"
   ]
  }
 ],
 "metadata": {
  "kernelspec": {
   "display_name": "Python 3 (ipykernel)",
   "language": "python",
   "name": "python3"
  },
  "language_info": {
   "codemirror_mode": {
    "name": "ipython",
    "version": 3
   },
   "file_extension": ".py",
   "mimetype": "text/x-python",
   "name": "python",
   "nbconvert_exporter": "python",
   "pygments_lexer": "ipython3",
   "version": "3.7.7"
  }
 },
 "nbformat": 4,
 "nbformat_minor": 5
}

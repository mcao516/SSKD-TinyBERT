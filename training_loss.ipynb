{
 "cells": [
  {
   "cell_type": "code",
   "execution_count": 1,
   "id": "f8173798-7935-4d29-a383-b4953d3f0c2c",
   "metadata": {},
   "outputs": [],
   "source": [
    "import numpy as np\n",
    "import matplotlib.pyplot as plt\n",
    "\n",
    "%matplotlib inline"
   ]
  },
  {
   "cell_type": "code",
   "execution_count": 2,
   "id": "0eb3190a-fe39-4759-a422-b6290b4c49d8",
   "metadata": {},
   "outputs": [],
   "source": [
    "K = 256"
   ]
  },
  {
   "cell_type": "code",
   "execution_count": 3,
   "id": "7a4fab64-38e9-46be-9d01-39f9bdd03008",
   "metadata": {},
   "outputs": [],
   "source": [
    "log_file = '/home/mcao610/scratch/TinyBERT_TEST/MNLI/teacher-cluster-{}/eval_results.txt'.format(K)"
   ]
  },
  {
   "cell_type": "markdown",
   "id": "49a559ff-cf63-4f11-898f-ec2d4874ce8b",
   "metadata": {},
   "source": [
    "#### Draw Chart"
   ]
  },
  {
   "cell_type": "code",
   "execution_count": 4,
   "id": "f8355a2c-fb96-40dd-9626-0ca0c0b8e7e2",
   "metadata": {},
   "outputs": [],
   "source": [
    "eval_acc, train_acc = [], []\n",
    "\n",
    "with open(log_file, 'r') as rf:\n",
    "    for line in rf:\n",
    "        line = line.strip()\n",
    "        \n",
    "        if 'train_acc' in line:\n",
    "            train_acc.append(float(line.split()[-1]))\n",
    "        elif 'acc' in line:\n",
    "            eval_acc.append(float(line.split()[-1]))"
   ]
  },
  {
   "cell_type": "code",
   "execution_count": 5,
   "id": "c4099e2b-5388-4ac9-b028-4a0afd7275b5",
   "metadata": {},
   "outputs": [],
   "source": [
    "assert len(eval_acc) == len(train_acc)"
   ]
  },
  {
   "cell_type": "code",
   "execution_count": 6,
   "id": "3e92c2a1-a2f0-4efc-bc31-a14c7406263a",
   "metadata": {},
   "outputs": [],
   "source": [
    "# y1 = x1  =>  x1 = y1\n",
    "# y2 = x1 + x2 / 2  =>  x2 = y2 * 2 - x1\n",
    "# y3 = x1 + x2 + x3 / 3  =>  x3 = y2 * 3 - x2 -x1\n",
    "\n",
    "# for i in range(len(train_acc)):\n",
    "#     print('{}: {}'.format(i, train_acc[i]))\n",
    "smooth_accs = []\n",
    "\n",
    "epoch_accs = []\n",
    "for i, c in enumerate(train_acc[:31]):\n",
    "    aacc = c * (i + 1) - sum(epoch_accs)\n",
    "    epoch_accs.append(aacc)\n",
    "smooth_accs.extend(epoch_accs)\n",
    "\n",
    "epoch_accs = []\n",
    "for i, c in enumerate(train_acc[31:63]):\n",
    "    aacc = c * (i + 1) - sum(epoch_accs)\n",
    "    epoch_accs.append(aacc)\n",
    "smooth_accs.extend(epoch_accs)\n",
    "\n",
    "epoch_accs = []\n",
    "for i, c in enumerate(train_acc[63:]):\n",
    "    aacc = c * (i + 1) - sum(epoch_accs)\n",
    "    epoch_accs.append(aacc)\n",
    "smooth_accs.extend(epoch_accs)"
   ]
  },
  {
   "cell_type": "code",
   "execution_count": 7,
   "id": "859b83ff-c276-46c6-a4c8-fd24e9a10458",
   "metadata": {},
   "outputs": [
    {
     "data": {
      "image/png": "[encoded data removed]",
      "text/plain": [
       "<Figure size 432x288 with 1 Axes>"
      ]
     },
     "metadata": {
      "needs_background": "light"
     },
     "output_type": "display_data"
    }
   ],
   "source": [
    "fig, ax = plt.subplots()\n",
    "\n",
    "ax.plot([i for i in range(len(smooth_accs))], smooth_accs, '-', color='orange', label='Train Acc')\n",
    "ax.plot([i for i in range(len(eval_acc))], eval_acc, '-', label='Eval Acc')\n",
    "\n",
    "ax.set_title('{} Custers'.format(K))\n",
    "ax.set_xlabel('Training Step')\n",
    "ax.set_ylabel('Accuracy')\n",
    "\n",
    "plt.savefig(\"figures/\" + 'training_k{}'.format(K) +'.png', bbox_inches=\"tight\")\n",
    "plt.legend()\n",
    "plt.show()"
   ]
  }
 ],
 "metadata": {
  "kernelspec": {
   "display_name": "Python 3 (ipykernel)",
   "language": "python",
   "name": "python3"
  },
  "language_info": {
   "codemirror_mode": {
    "name": "ipython",
    "version": 3
   },
   "file_extension": ".py",
   "mimetype": "text/x-python",
   "name": "python",
   "nbconvert_exporter": "python",
   "pygments_lexer": "ipython3",
   "version": "3.7.7"
  }
 },
 "nbformat": 4,
 "nbformat_minor": 5
}

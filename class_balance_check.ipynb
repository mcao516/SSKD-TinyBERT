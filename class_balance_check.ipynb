{
 "cells": [
  {
   "cell_type": "code",
   "execution_count": 9,
   "id": "944648e7-fafa-47be-9e4a-2d1546e9ad2f",
   "metadata": {},
   "outputs": [],
   "source": [
    "import json"
   ]
  },
  {
   "cell_type": "code",
   "execution_count": 32,
   "id": "599889b8-e93c-45fb-916d-3b421a2e108d",
   "metadata": {},
   "outputs": [],
   "source": [
    "K=2"
   ]
  },
  {
   "cell_type": "code",
   "execution_count": 33,
   "id": "e90c4542-3a3e-439c-8ce6-87ad46f8b2e5",
   "metadata": {},
   "outputs": [],
   "source": [
    "cluster_dataset = json.load(open('clusters/cluster_mnli_k{}.json'.format(K)))"
   ]
  },
  {
   "cell_type": "code",
   "execution_count": 34,
   "id": "6151557f-62ab-4c84-8311-9e7e57f0079f",
   "metadata": {},
   "outputs": [
    {
     "data": {
      "text/plain": [
       "412349"
      ]
     },
     "execution_count": 34,
     "metadata": {},
     "output_type": "execute_result"
    }
   ],
   "source": [
    "len(cluster_dataset)"
   ]
  },
  {
   "cell_type": "code",
   "execution_count": 35,
   "id": "9daf9c6b-fe83-4019-ab1b-610c149ae959",
   "metadata": {},
   "outputs": [
    {
     "name": "stdout",
     "output_type": "stream",
     "text": [
      "<class 'dict'>\n",
      "0\n"
     ]
    }
   ],
   "source": [
    "print(type(cluster_dataset))\n",
    "print(cluster_dataset['train-0'])"
   ]
  },
  {
   "cell_type": "markdown",
   "id": "ba1e05ae-20a5-4cb4-8c78-973a8d8c08a6",
   "metadata": {},
   "source": [
    "#### Train"
   ]
  },
  {
   "cell_type": "code",
   "execution_count": 36,
   "id": "30d01452-5af8-472a-ac06-3bbbcaf33194",
   "metadata": {},
   "outputs": [],
   "source": [
    "train_labels, test_labels = {}, {}\n",
    "\n",
    "for k, v in cluster_dataset.items():\n",
    "    if 'train' in k:\n",
    "        if v not in train_labels:\n",
    "            train_labels[v] = 1\n",
    "        train_labels[v] += 1\n",
    "    elif 'dev' in k:\n",
    "        if v not in test_labels:\n",
    "            test_labels[v] = 1\n",
    "        test_labels[v] += 1\n",
    "    else:\n",
    "        raise Exception('Something wrong! {}'.format(k))"
   ]
  },
  {
   "cell_type": "code",
   "execution_count": 38,
   "id": "669cc67f-cec5-4916-ad0e-cb8178d89390",
   "metadata": {},
   "outputs": [
    {
     "data": {
      "text/plain": [
       "{0: 19214, 1: 435}"
      ]
     },
     "execution_count": 38,
     "metadata": {},
     "output_type": "execute_result"
    }
   ],
   "source": [
    "test_labels"
   ]
  },
  {
   "cell_type": "code",
   "execution_count": 37,
   "id": "e8977cc4-1c6c-454e-911d-102f3bc93d0b",
   "metadata": {},
   "outputs": [
    {
     "data": {
      "text/plain": [
       "0.977861468777037"
      ]
     },
     "execution_count": 37,
     "metadata": {},
     "output_type": "execute_result"
    }
   ],
   "source": [
    "max([n for l, n in test_labels.items()]) / sum([n for l, n in test_labels.items()])"
   ]
  },
  {
   "cell_type": "code",
   "execution_count": 25,
   "id": "872a8708-eb84-447a-a790-27b0da55cf13",
   "metadata": {},
   "outputs": [],
   "source": [
    "import numpy as np\n",
    "import matplotlib.pyplot as plt\n",
    "\n",
    "%matplotlib inline"
   ]
  },
  {
   "cell_type": "code",
   "execution_count": 26,
   "id": "e783cb72-3fd7-458e-b827-8a16e4d1a49b",
   "metadata": {},
   "outputs": [
    {
     "data": {
      "image/png": "[encoded data removed]",
      "text/plain": [
       "<Figure size 720x216 with 2 Axes>"
      ]
     },
     "metadata": {
      "needs_background": "light"
     },
     "output_type": "display_data"
    }
   ],
   "source": [
    "fig, (ax1, ax2) = plt.subplots(nrows=1, ncols=2, figsize=(10.0, 3.0))\n",
    "fig.subplots_adjust(hspace=1.)\n",
    "\n",
    "classes = [(l, n) for l, n in train_labels.items()]\n",
    "ax1.bar([c[0] for c in classes], [c[1] for c in classes], width=0.3)\n",
    "\n",
    "# ax1.set_xlabel('Label')\n",
    "ax1.set_ylabel('Sample #')\n",
    "ax1.set_title('Training set ({})'.format(sum([c[1] for c in classes])))\n",
    "\n",
    "classes = [(l, n) for l, n in test_labels.items()]\n",
    "ax2.bar([c[0] for c in classes], [c[1] for c in classes], width=0.3)\n",
    "\n",
    "# ax2.set_xlabel('Label')\n",
    "# ax2.set_ylabel('Sample #')\n",
    "ax2.set_title('Test set ({})'.format(sum([c[1] for c in classes])))\n",
    "\n",
    "fig.text(0.5, -0.03, 'Cluster Label (k={})'.format(len(train_labels)), ha='center', fontsize=12)\n",
    "\n",
    "plt.savefig(\"figures/\" + 'class_balance_k{}'.format(len(train_labels)) +'.png', bbox_inches=\"tight\")\n",
    "plt.show()"
   ]
  }
 ],
 "metadata": {
  "kernelspec": {
   "display_name": "Python 3 (ipykernel)",
   "language": "python",
   "name": "python3"
  },
  "language_info": {
   "codemirror_mode": {
    "name": "ipython",
    "version": 3
   },
   "file_extension": ".py",
   "mimetype": "text/x-python",
   "name": "python",
   "nbconvert_exporter": "python",
   "pygments_lexer": "ipython3",
   "version": "3.7.7"
  }
 },
 "nbformat": 4,
 "nbformat_minor": 5
}
